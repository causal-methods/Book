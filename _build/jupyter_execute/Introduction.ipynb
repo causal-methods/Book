{
 "cells": [
  {
   "cell_type": "markdown",
   "metadata": {
    "colab_type": "text",
    "id": "3xG4g-yFKnhm"
   },
   "source": [
    "# Causal Inference with Python"
   ]
  },
  {
   "cell_type": "markdown",
   "metadata": {
    "colab_type": "text",
    "id": "q-cWOMku-lx_"
   },
   "source": [
    "By [Vitor Kamada](https://www.linkedin.com/in/vitor-kamada-1b73a078)\n",
    "\n",
    "E-mail: econometrics.methods@gmail.com\n",
    "\n",
    "Last updated 8-15-2020"
   ]
  },
  {
   "cell_type": "markdown",
   "metadata": {
    "colab_type": "text",
    "id": "lWweIrNZh54a"
   },
   "source": [
    "This [book](https://causal-methods.github.io/Book) is a practical guide to Causal Inference using Python. I break down the methods and techniques that appear in the most prestigious Journals in Economics like American Economic Review and Econometrica. \n",
    "\n",
    "I don't assume any technical background, but I recommend that you be familiar with the concepts of my previous book: [Probability and Statistics with Python](https://prob-stat-python.github.io/textbook/Introduction.html).\n",
    "\n",
    "\n",
    "\n",
    "\n",
    "\n",
    "\n",
    "\n",
    "\n"
   ]
  },
  {
   "cell_type": "markdown",
   "metadata": {
    "colab_type": "text",
    "id": "39HT2e-4oD8B"
   },
   "source": [
    "**Material for Econometrics courses**\n",
    "\n",
    "Syllabi, Slides/Notes, Python and R code  from my Bachelor, Master, and PhD courses in Econometrics can be found in my other [Github](https://github.com/VitorKamada).\n"
   ]
  },
  {
   "cell_type": "markdown",
   "metadata": {},
   "source": [
    "\n",
    "```{toctree}\n",
    ":hidden:\n",
    ":titlesonly:\n",
    "\n",
    "\n",
    "1)_Are_Chess_Players_more_Rational_than_the_Rest_of_the_Population\n",
    "2)_Does_a_White_Sounding_Name_Help_to_Get_Job_Interview\n",
    "3)_Are_Females_More_Likely_to_Complete_High_School_Under_Islamic_or_Secular_Regime\n",
    "4)_Do_Protestants_Prefer_Less_Leisure_than_Catholics\n",
    "5)_Could_the_Federal_Reserve_Prevent_the_Great_Depression\n",
    "Bibliography\n",
    "```\n"
   ]
  }
 ],
 "metadata": {
  "colab": {
   "name": "Introduction.ipynb",
   "provenance": []
  },
  "kernelspec": {
   "display_name": "Python 3",
   "language": "python",
   "name": "python3"
  },
  "language_info": {
   "codemirror_mode": {
    "name": "ipython",
    "version": 3
   },
   "file_extension": ".py",
   "mimetype": "text/x-python",
   "name": "python",
   "nbconvert_exporter": "python",
   "pygments_lexer": "ipython3",
   "version": "3.7.6"
  }
 },
 "nbformat": 4,
 "nbformat_minor": 1
}