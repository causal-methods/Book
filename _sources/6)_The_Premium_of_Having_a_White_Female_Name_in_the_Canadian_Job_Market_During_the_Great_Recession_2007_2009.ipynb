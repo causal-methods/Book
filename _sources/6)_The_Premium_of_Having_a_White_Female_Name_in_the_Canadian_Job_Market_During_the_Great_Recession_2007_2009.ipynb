{
  "nbformat": 4,
  "nbformat_minor": 0,
  "metadata": {
    "colab": {
      "name": "6)_The_Premium_of_Having_a_White_Female_Name_in_the_Canadian_Job_Market_During_the_Great_Recession_2007_2009.ipynb",
      "provenance": []
    },
    "kernelspec": {
      "display_name": "Python 3",
      "language": "python",
      "name": "python3"
    },
    "language_info": {
      "codemirror_mode": {
        "name": "ipython",
        "version": 3
      },
      "file_extension": ".py",
      "mimetype": "text/x-python",
      "name": "python",
      "nbconvert_exporter": "python",
      "pygments_lexer": "ipython3",
      "version": "3.7.6"
    }
  },
  "cells": [
    {
      "cell_type": "markdown",
      "metadata": {
        "colab_type": "text",
        "id": "mfxvKsxwpZjN"
      },
      "source": [
        "# 6) The Premium of Having a White Female Name in the Canadian Job Market During the Great Recession 2007-2009"
      ]
    },
    {
      "cell_type": "markdown",
      "metadata": {
        "colab_type": "text",
        "id": "kRSC3oJZQSQ2"
      },
      "source": [
        "[Vitor Kamada](https://www.linkedin.com/in/vitor-kamada-1b73a078)\n",
        "\n",
        "E-mail: econometrics.methods@gmail.com\n",
        "\n",
        "Last updated: 9-15-2020"
      ]
    },
    {
      "cell_type": "markdown",
      "metadata": {
        "colab_type": "text",
        "id": "ccyO33WsOhyk"
      },
      "source": [
        "I reanalyzed the experimental data from Oreopoulos (2011) and I found evidence that there is a premium of having a White Female name in a Canadian Job Market during the Great Recession 2007-2009. White Females had 8% higher callback rate to a job interview than White Males between February and September 2009. The magnitude of the effect is substantial high given that White Males have callback rate of about 10% over different regression specifications.\n",
        "\n",
        "Oreopoulos (2011) found that those with English names have a 15.7% callback rate against 6% of those with Indian, Pakistani, Chinese, and Greek names. I argue that his main finding is largely driven by White Females. I found that there is not much advantage of having a White Male name over an Indian, Chinese, and Greek Male name during the worst period of the Great Recession, February to September 2009. \n",
        "\n",
        "I use the dataset from Oreopoulos (2011). Each row is a resume sent to multiple occupations in the region of Toronto and Montreal."
      ]
    },
    {
      "cell_type": "code",
      "metadata": {
        "colab_type": "code",
        "id": "3wG1YQm6B55d",
        "colab": {
          "base_uri": "https://localhost:8080/",
          "height": 223
        },
        "outputId": "779857cf-150e-4690-adc1-2fd2e7c52beb"
      },
      "source": [
        "import numpy as np\n",
        "import pandas as pd\n",
        "pd.set_option('precision', 3)\n",
        "\n",
        "# Data from Oreopoulos (2011)\n",
        "path = \"https://github.com/causal-methods/Data/raw/master/\" \n",
        "df = pd.read_stata(path + \"oreopoulos.dta\")\n",
        "df.head(5)"
      ],
      "execution_count": 1,
      "outputs": [
        {
          "output_type": "execute_result",
          "data": {
            "text/html": [
              "<div>\n",
              "<style scoped>\n",
              "    .dataframe tbody tr th:only-of-type {\n",
              "        vertical-align: middle;\n",
              "    }\n",
              "\n",
              "    .dataframe tbody tr th {\n",
              "        vertical-align: top;\n",
              "    }\n",
              "\n",
              "    .dataframe thead th {\n",
              "        text-align: right;\n",
              "    }\n",
              "</style>\n",
              "<table border=\"1\" class=\"dataframe\">\n",
              "  <thead>\n",
              "    <tr style=\"text-align: right;\">\n",
              "      <th></th>\n",
              "      <th>firmid</th>\n",
              "      <th>occupation_type</th>\n",
              "      <th>name_ethnicity</th>\n",
              "      <th>additional_credential</th>\n",
              "      <th>name</th>\n",
              "      <th>language_skills</th>\n",
              "      <th>accreditation</th>\n",
              "      <th>reference</th>\n",
              "      <th>legal</th>\n",
              "      <th>listedaccreditation</th>\n",
              "      <th>city</th>\n",
              "      <th>ma</th>\n",
              "      <th>female</th>\n",
              "      <th>certificate</th>\n",
              "      <th>ba_quality</th>\n",
              "      <th>exp_highquality</th>\n",
              "      <th>callback</th>\n",
              "      <th>interview</th>\n",
              "      <th>second_callback</th>\n",
              "      <th>type</th>\n",
              "      <th>extracurricular_skills</th>\n",
              "      <th>skillspeaking</th>\n",
              "      <th>skillsocialper</th>\n",
              "      <th>skillwriting</th>\n",
              "      <th>fall_data</th>\n",
              "      <th>chinese</th>\n",
              "      <th>indian</th>\n",
              "      <th>british</th>\n",
              "      <th>pakistani</th>\n",
              "      <th>Chn_Cdn</th>\n",
              "      <th>same_exp</th>\n",
              "    </tr>\n",
              "  </thead>\n",
              "  <tbody>\n",
              "    <tr>\n",
              "      <th>0</th>\n",
              "      <td>-3</td>\n",
              "      <td>Administrative</td>\n",
              "      <td>Canada</td>\n",
              "      <td>0.0</td>\n",
              "      <td>JillWilson</td>\n",
              "      <td>0.0</td>\n",
              "      <td>0.0</td>\n",
              "      <td>0.0</td>\n",
              "      <td>0.0</td>\n",
              "      <td>0.0</td>\n",
              "      <td>Toronto</td>\n",
              "      <td>0.0</td>\n",
              "      <td>1.0</td>\n",
              "      <td>0.0</td>\n",
              "      <td>1.0</td>\n",
              "      <td>0.0</td>\n",
              "      <td>0.0</td>\n",
              "      <td>0.0</td>\n",
              "      <td>0.0</td>\n",
              "      <td>0.0</td>\n",
              "      <td>0.0</td>\n",
              "      <td>70.0</td>\n",
              "      <td>50.0</td>\n",
              "      <td>67.0</td>\n",
              "      <td>2.0</td>\n",
              "      <td>NaN</td>\n",
              "      <td>NaN</td>\n",
              "      <td>NaN</td>\n",
              "      <td>NaN</td>\n",
              "      <td>NaN</td>\n",
              "      <td>NaN</td>\n",
              "    </tr>\n",
              "    <tr>\n",
              "      <th>1</th>\n",
              "      <td>-3</td>\n",
              "      <td>Administrative</td>\n",
              "      <td>Indian</td>\n",
              "      <td>0.0</td>\n",
              "      <td>PanavSingh</td>\n",
              "      <td>0.0</td>\n",
              "      <td>0.0</td>\n",
              "      <td>0.0</td>\n",
              "      <td>0.0</td>\n",
              "      <td>0.0</td>\n",
              "      <td>Toronto</td>\n",
              "      <td>0.0</td>\n",
              "      <td>0.0</td>\n",
              "      <td>0.0</td>\n",
              "      <td>1.0</td>\n",
              "      <td>0.0</td>\n",
              "      <td>0.0</td>\n",
              "      <td>0.0</td>\n",
              "      <td>0.0</td>\n",
              "      <td>1.0</td>\n",
              "      <td>0.0</td>\n",
              "      <td>70.0</td>\n",
              "      <td>50.0</td>\n",
              "      <td>67.0</td>\n",
              "      <td>2.0</td>\n",
              "      <td>NaN</td>\n",
              "      <td>NaN</td>\n",
              "      <td>NaN</td>\n",
              "      <td>NaN</td>\n",
              "      <td>NaN</td>\n",
              "      <td>NaN</td>\n",
              "    </tr>\n",
              "    <tr>\n",
              "      <th>2</th>\n",
              "      <td>-3</td>\n",
              "      <td>Administrative</td>\n",
              "      <td>Indian</td>\n",
              "      <td>0.0</td>\n",
              "      <td>RahulKaur</td>\n",
              "      <td>0.0</td>\n",
              "      <td>0.0</td>\n",
              "      <td>0.0</td>\n",
              "      <td>1.0</td>\n",
              "      <td>1.0</td>\n",
              "      <td>Toronto</td>\n",
              "      <td>0.0</td>\n",
              "      <td>0.0</td>\n",
              "      <td>0.0</td>\n",
              "      <td>0.0</td>\n",
              "      <td>0.0</td>\n",
              "      <td>0.0</td>\n",
              "      <td>0.0</td>\n",
              "      <td>0.0</td>\n",
              "      <td>4.0</td>\n",
              "      <td>1.0</td>\n",
              "      <td>70.0</td>\n",
              "      <td>50.0</td>\n",
              "      <td>67.0</td>\n",
              "      <td>2.0</td>\n",
              "      <td>NaN</td>\n",
              "      <td>NaN</td>\n",
              "      <td>NaN</td>\n",
              "      <td>NaN</td>\n",
              "      <td>NaN</td>\n",
              "      <td>NaN</td>\n",
              "    </tr>\n",
              "    <tr>\n",
              "      <th>3</th>\n",
              "      <td>-3</td>\n",
              "      <td>Administrative</td>\n",
              "      <td>Chinese</td>\n",
              "      <td>0.0</td>\n",
              "      <td>LeiLi</td>\n",
              "      <td>0.0</td>\n",
              "      <td>1.0</td>\n",
              "      <td>1.0</td>\n",
              "      <td>0.0</td>\n",
              "      <td>1.0</td>\n",
              "      <td>Toronto</td>\n",
              "      <td>0.0</td>\n",
              "      <td>0.0</td>\n",
              "      <td>0.0</td>\n",
              "      <td>0.0</td>\n",
              "      <td>0.0</td>\n",
              "      <td>0.0</td>\n",
              "      <td>0.0</td>\n",
              "      <td>0.0</td>\n",
              "      <td>3.0</td>\n",
              "      <td>1.0</td>\n",
              "      <td>70.0</td>\n",
              "      <td>50.0</td>\n",
              "      <td>67.0</td>\n",
              "      <td>2.0</td>\n",
              "      <td>NaN</td>\n",
              "      <td>NaN</td>\n",
              "      <td>NaN</td>\n",
              "      <td>NaN</td>\n",
              "      <td>NaN</td>\n",
              "      <td>NaN</td>\n",
              "    </tr>\n",
              "    <tr>\n",
              "      <th>4</th>\n",
              "      <td>-4</td>\n",
              "      <td>Administrative</td>\n",
              "      <td>Indian</td>\n",
              "      <td>0.0</td>\n",
              "      <td>MayaKumar</td>\n",
              "      <td>1.0</td>\n",
              "      <td>0.0</td>\n",
              "      <td>0.0</td>\n",
              "      <td>0.0</td>\n",
              "      <td>0.0</td>\n",
              "      <td>Toronto</td>\n",
              "      <td>0.0</td>\n",
              "      <td>1.0</td>\n",
              "      <td>0.0</td>\n",
              "      <td>1.0</td>\n",
              "      <td>0.0</td>\n",
              "      <td>0.0</td>\n",
              "      <td>0.0</td>\n",
              "      <td>0.0</td>\n",
              "      <td>3.0</td>\n",
              "      <td>0.0</td>\n",
              "      <td>80.0</td>\n",
              "      <td>70.0</td>\n",
              "      <td>65.0</td>\n",
              "      <td>2.0</td>\n",
              "      <td>NaN</td>\n",
              "      <td>NaN</td>\n",
              "      <td>NaN</td>\n",
              "      <td>NaN</td>\n",
              "      <td>NaN</td>\n",
              "      <td>NaN</td>\n",
              "    </tr>\n",
              "  </tbody>\n",
              "</table>\n",
              "</div>"
            ],
            "text/plain": [
              "   firmid occupation_type name_ethnicity  ...  pakistani Chn_Cdn  same_exp\n",
              "0      -3  Administrative         Canada  ...        NaN     NaN       NaN\n",
              "1      -3  Administrative         Indian  ...        NaN     NaN       NaN\n",
              "2      -3  Administrative         Indian  ...        NaN     NaN       NaN\n",
              "3      -3  Administrative        Chinese  ...        NaN     NaN       NaN\n",
              "4      -4  Administrative         Indian  ...        NaN     NaN       NaN\n",
              "\n",
              "[5 rows x 31 columns]"
            ]
          },
          "metadata": {
            "tags": []
          },
          "execution_count": 1
        }
      ]
    },
    {
      "cell_type": "code",
      "metadata": {
        "colab_type": "code",
        "id": "xJ3WLJwQgKz5",
        "colab": {}
      },
      "source": [
        "# Transform the variable of interest in % \n",
        "df[\"callback\"] = 100*df[\"callback\"]"
      ],
      "execution_count": 2,
      "outputs": []
    },
    {
      "cell_type": "markdown",
      "metadata": {
        "colab_type": "text",
        "id": "WbDKXeAj1OaD"
      },
      "source": [
        "The first wave of experimental data collected by Oreopoulos (2011) was between April and August 2008. This is the \"starting period\" of Great Recession. "
      ]
    },
    {
      "cell_type": "code",
      "metadata": {
        "colab_type": "code",
        "id": "nN4st5ntfESX",
        "colab": {}
      },
      "source": [
        "# Restrict data to April and August 2008\n",
        "df0 = df[(df.fall_data == 0)]"
      ],
      "execution_count": 3,
      "outputs": []
    },
    {
      "cell_type": "markdown",
      "metadata": {
        "colab_type": "text",
        "id": "2IIV2bgz4hr6"
      },
      "source": [
        "The proportion of callback to job interview is substantial higher to Canadian names (15.84%) than Chinese and Indian names (9.23% and 9.53%). The name ethnicity was randomized. It is not possible to argue that Canadians have more education or experience to justify the difference of about 5%. All resumes are qualitatively the same except by the applicant name. Therefore, we can conclude that discrimination against immigrants is a real phenomenon."
      ]
    },
    {
      "cell_type": "code",
      "metadata": {
        "colab_type": "code",
        "id": "IV0QVx7If1YR",
        "colab": {
          "base_uri": "https://localhost:8080/",
          "height": 172
        },
        "outputId": "b7541459-db4c-420c-c3b7-8e0c0c70db51"
      },
      "source": [
        "mean = df0.groupby('name_ethnicity').agg([np.mean, np.size])\n",
        "mean[\"callback\"]"
      ],
      "execution_count": 4,
      "outputs": [
        {
          "output_type": "execute_result",
          "data": {
            "text/html": [
              "<div>\n",
              "<style scoped>\n",
              "    .dataframe tbody tr th:only-of-type {\n",
              "        vertical-align: middle;\n",
              "    }\n",
              "\n",
              "    .dataframe tbody tr th {\n",
              "        vertical-align: top;\n",
              "    }\n",
              "\n",
              "    .dataframe thead th {\n",
              "        text-align: right;\n",
              "    }\n",
              "</style>\n",
              "<table border=\"1\" class=\"dataframe\">\n",
              "  <thead>\n",
              "    <tr style=\"text-align: right;\">\n",
              "      <th></th>\n",
              "      <th>mean</th>\n",
              "      <th>size</th>\n",
              "    </tr>\n",
              "    <tr>\n",
              "      <th>name_ethnicity</th>\n",
              "      <th></th>\n",
              "      <th></th>\n",
              "    </tr>\n",
              "  </thead>\n",
              "  <tbody>\n",
              "    <tr>\n",
              "      <th>Canada</th>\n",
              "      <td>15.845</td>\n",
              "      <td>953.0</td>\n",
              "    </tr>\n",
              "    <tr>\n",
              "      <th>Chinese</th>\n",
              "      <td>9.231</td>\n",
              "      <td>1430.0</td>\n",
              "    </tr>\n",
              "    <tr>\n",
              "      <th>Indian</th>\n",
              "      <td>9.534</td>\n",
              "      <td>1416.0</td>\n",
              "    </tr>\n",
              "  </tbody>\n",
              "</table>\n",
              "</div>"
            ],
            "text/plain": [
              "                  mean    size\n",
              "name_ethnicity                \n",
              "Canada          15.845   953.0\n",
              "Chinese          9.231  1430.0\n",
              "Indian           9.534  1416.0"
            ]
          },
          "metadata": {
            "tags": []
          },
          "execution_count": 4
        }
      ]
    },
    {
      "cell_type": "markdown",
      "metadata": {
        "colab_type": "text",
        "id": "xYPqjzbfDZsP"
      },
      "source": [
        "In the sample of April to August 2008, a Female name appears to give a slightly, but negligible advantage to secure a job interview compared to a Male name. This result supports the findings of Oreopoulos (2011). In his paper, the coefficients of Female are not statistically significant in most part of regressions."
      ]
    },
    {
      "cell_type": "code",
      "metadata": {
        "colab_type": "code",
        "id": "7A3zNWUegCQu",
        "colab": {
          "base_uri": "https://localhost:8080/",
          "height": 172
        },
        "outputId": "7c0d1f4c-6cd1-4804-af2b-fac915b00f71"
      },
      "source": [
        "prop = pd.crosstab(index= df0['name_ethnicity'], columns=df0['female'], \n",
        "            values=df0['callback'], aggfunc='mean')\n",
        "prop"
      ],
      "execution_count": 5,
      "outputs": [
        {
          "output_type": "execute_result",
          "data": {
            "text/html": [
              "<div>\n",
              "<style scoped>\n",
              "    .dataframe tbody tr th:only-of-type {\n",
              "        vertical-align: middle;\n",
              "    }\n",
              "\n",
              "    .dataframe tbody tr th {\n",
              "        vertical-align: top;\n",
              "    }\n",
              "\n",
              "    .dataframe thead th {\n",
              "        text-align: right;\n",
              "    }\n",
              "</style>\n",
              "<table border=\"1\" class=\"dataframe\">\n",
              "  <thead>\n",
              "    <tr style=\"text-align: right;\">\n",
              "      <th>female</th>\n",
              "      <th>0.0</th>\n",
              "      <th>1.0</th>\n",
              "    </tr>\n",
              "    <tr>\n",
              "      <th>name_ethnicity</th>\n",
              "      <th></th>\n",
              "      <th></th>\n",
              "    </tr>\n",
              "  </thead>\n",
              "  <tbody>\n",
              "    <tr>\n",
              "      <th>Canada</th>\n",
              "      <td>15.551</td>\n",
              "      <td>16.122</td>\n",
              "    </tr>\n",
              "    <tr>\n",
              "      <th>Chinese</th>\n",
              "      <td>9.065</td>\n",
              "      <td>9.392</td>\n",
              "    </tr>\n",
              "    <tr>\n",
              "      <th>Indian</th>\n",
              "      <td>9.490</td>\n",
              "      <td>9.577</td>\n",
              "    </tr>\n",
              "  </tbody>\n",
              "</table>\n",
              "</div>"
            ],
            "text/plain": [
              "female             0.0     1.0\n",
              "name_ethnicity                \n",
              "Canada          15.551  16.122\n",
              "Chinese          9.065   9.392\n",
              "Indian           9.490   9.577"
            ]
          },
          "metadata": {
            "tags": []
          },
          "execution_count": 5
        }
      ]
    },
    {
      "cell_type": "markdown",
      "metadata": {
        "colab_type": "text",
        "id": "FhBYvb6eIdG1"
      },
      "source": [
        "The third wave of experimental data collected by Oreopoulos (2011) was between February and September 2009. This is the worst period of Great Recession."
      ]
    },
    {
      "cell_type": "code",
      "metadata": {
        "colab_type": "code",
        "id": "faEBAHAU3uiE",
        "colab": {}
      },
      "source": [
        "# Restrict data to February and September 2009\n",
        "df2 = df[(df.fall_data == 2)]"
      ],
      "execution_count": 6,
      "outputs": []
    },
    {
      "cell_type": "markdown",
      "metadata": {
        "colab_type": "text",
        "id": "JkQ20Ry3I8LR"
      },
      "source": [
        "A Canadian name has a callback rate of 14% against Chinese (8.96%), English first name and Chinese last name (7.13%), Greek (10.11%), and Indian (7.9%). \n",
        "\n",
        "Note that overall, the callback rates are slightly lower in this third wave sample than the first wave sample for the common ethnicities in both samples."
      ]
    },
    {
      "cell_type": "code",
      "metadata": {
        "colab_type": "code",
        "id": "m2ehFm0opbQa",
        "colab": {
          "base_uri": "https://localhost:8080/",
          "height": 234
        },
        "outputId": "eb6222bf-83d8-498c-8fb7-0a5d78e441e0"
      },
      "source": [
        "mean = df2.groupby('name_ethnicity').agg([np.mean, np.size])\n",
        "mean[\"callback\"]"
      ],
      "execution_count": 7,
      "outputs": [
        {
          "output_type": "execute_result",
          "data": {
            "text/html": [
              "<div>\n",
              "<style scoped>\n",
              "    .dataframe tbody tr th:only-of-type {\n",
              "        vertical-align: middle;\n",
              "    }\n",
              "\n",
              "    .dataframe tbody tr th {\n",
              "        vertical-align: top;\n",
              "    }\n",
              "\n",
              "    .dataframe thead th {\n",
              "        text-align: right;\n",
              "    }\n",
              "</style>\n",
              "<table border=\"1\" class=\"dataframe\">\n",
              "  <thead>\n",
              "    <tr style=\"text-align: right;\">\n",
              "      <th></th>\n",
              "      <th>mean</th>\n",
              "      <th>size</th>\n",
              "    </tr>\n",
              "    <tr>\n",
              "      <th>name_ethnicity</th>\n",
              "      <th></th>\n",
              "      <th></th>\n",
              "    </tr>\n",
              "  </thead>\n",
              "  <tbody>\n",
              "    <tr>\n",
              "      <th>Canada</th>\n",
              "      <td>14.080</td>\n",
              "      <td>1044.0</td>\n",
              "    </tr>\n",
              "    <tr>\n",
              "      <th>Chinese</th>\n",
              "      <td>8.956</td>\n",
              "      <td>1418.0</td>\n",
              "    </tr>\n",
              "    <tr>\n",
              "      <th>Chn-Cdn</th>\n",
              "      <td>7.128</td>\n",
              "      <td>491.0</td>\n",
              "    </tr>\n",
              "    <tr>\n",
              "      <th>Greek</th>\n",
              "      <td>10.109</td>\n",
              "      <td>366.0</td>\n",
              "    </tr>\n",
              "    <tr>\n",
              "      <th>Indian</th>\n",
              "      <td>7.899</td>\n",
              "      <td>1937.0</td>\n",
              "    </tr>\n",
              "  </tbody>\n",
              "</table>\n",
              "</div>"
            ],
            "text/plain": [
              "                  mean    size\n",
              "name_ethnicity                \n",
              "Canada          14.080  1044.0\n",
              "Chinese          8.956  1418.0\n",
              "Chn-Cdn          7.128   491.0\n",
              "Greek           10.109   366.0\n",
              "Indian           7.899  1937.0"
            ]
          },
          "metadata": {
            "tags": []
          },
          "execution_count": 7
        }
      ]
    },
    {
      "cell_type": "code",
      "metadata": {
        "colab_type": "code",
        "id": "sdc54z--4XG9",
        "colab": {
          "base_uri": "https://localhost:8080/",
          "height": 542
        },
        "outputId": "e0f5d6c0-354e-4acd-cd88-88594b14c29a"
      },
      "source": [
        "import plotly.express as px\n",
        "\n",
        "y = mean[\"callback\"].values[:, 0]\n",
        "x = mean[\"callback\"].index\n",
        "\n",
        "fig = px.bar(df2, x, y, color = x,\n",
        "             title=\"Callback Rate for Interview by Name Ethnicity\",\n",
        "             labels={ \"y\": \"Callback Rate (%)\",\n",
        "                      \"x\": \"Name Ethnicity\",                 \n",
        "                      \"color\": \"\"} )\n",
        "\n",
        "fig.update_layout(font_size = 17)\n",
        "fig.show()"
      ],
      "execution_count": 8,
      "outputs": [
        {
          "output_type": "display_data",
          "data": {
            "text/html": [
              "<html>\n",
              "<head><meta charset=\"utf-8\" /></head>\n",
              "<body>\n",
              "    <div>\n",
              "            <script src=\"https://cdnjs.cloudflare.com/ajax/libs/mathjax/2.7.5/MathJax.js?config=TeX-AMS-MML_SVG\"></script><script type=\"text/javascript\">if (window.MathJax) {MathJax.Hub.Config({SVG: {font: \"STIX-Web\"}});}</script>\n",
              "                <script type=\"text/javascript\">window.PlotlyConfig = {MathJaxConfig: 'local'};</script>\n",
              "        <script src=\"https://cdn.plot.ly/plotly-latest.min.js\"></script>    \n",
              "            <div id=\"b64a9210-55db-4c6f-9154-09ee0124f229\" class=\"plotly-graph-div\" style=\"height:525px; width:100%;\"></div>\n",
              "            <script type=\"text/javascript\">\n",
              "                \n",
              "                    window.PLOTLYENV=window.PLOTLYENV || {};\n",
              "                    \n",
              "                if (document.getElementById(\"b64a9210-55db-4c6f-9154-09ee0124f229\")) {\n",
              "                    Plotly.newPlot(\n",
              "                        'b64a9210-55db-4c6f-9154-09ee0124f229',\n",
              "                        [{\"alignmentgroup\": \"True\", \"hoverlabel\": {\"namelength\": 0}, \"hovertemplate\": \"=Canada<br>Name Ethnicity=%{x}<br>Callback Rate (%)=%{y}\", \"legendgroup\": \"=Canada\", \"marker\": {\"color\": \"#636efa\"}, \"name\": \"=Canada\", \"offsetgroup\": \"=Canada\", \"orientation\": \"v\", \"showlegend\": true, \"textposition\": \"auto\", \"type\": \"bar\", \"x\": [\"Canada\"], \"xaxis\": \"x\", \"y\": [14.080459594726562], \"yaxis\": \"y\"}, {\"alignmentgroup\": \"True\", \"hoverlabel\": {\"namelength\": 0}, \"hovertemplate\": \"=Chinese<br>Name Ethnicity=%{x}<br>Callback Rate (%)=%{y}\", \"legendgroup\": \"=Chinese\", \"marker\": {\"color\": \"#EF553B\"}, \"name\": \"=Chinese\", \"offsetgroup\": \"=Chinese\", \"orientation\": \"v\", \"showlegend\": true, \"textposition\": \"auto\", \"type\": \"bar\", \"x\": [\"Chinese\"], \"xaxis\": \"x\", \"y\": [8.956276893615723], \"yaxis\": \"y\"}, {\"alignmentgroup\": \"True\", \"hoverlabel\": {\"namelength\": 0}, \"hovertemplate\": \"=Chn-Cdn<br>Name Ethnicity=%{x}<br>Callback Rate (%)=%{y}\", \"legendgroup\": \"=Chn-Cdn\", \"marker\": {\"color\": \"#00cc96\"}, \"name\": \"=Chn-Cdn\", \"offsetgroup\": \"=Chn-Cdn\", \"orientation\": \"v\", \"showlegend\": true, \"textposition\": \"auto\", \"type\": \"bar\", \"x\": [\"Chn-Cdn\"], \"xaxis\": \"x\", \"y\": [7.128309726715088], \"yaxis\": \"y\"}, {\"alignmentgroup\": \"True\", \"hoverlabel\": {\"namelength\": 0}, \"hovertemplate\": \"=Greek<br>Name Ethnicity=%{x}<br>Callback Rate (%)=%{y}\", \"legendgroup\": \"=Greek\", \"marker\": {\"color\": \"#ab63fa\"}, \"name\": \"=Greek\", \"offsetgroup\": \"=Greek\", \"orientation\": \"v\", \"showlegend\": true, \"textposition\": \"auto\", \"type\": \"bar\", \"x\": [\"Greek\"], \"xaxis\": \"x\", \"y\": [10.109289169311523], \"yaxis\": \"y\"}, {\"alignmentgroup\": \"True\", \"hoverlabel\": {\"namelength\": 0}, \"hovertemplate\": \"=Indian<br>Name Ethnicity=%{x}<br>Callback Rate (%)=%{y}\", \"legendgroup\": \"=Indian\", \"marker\": {\"color\": \"#FFA15A\"}, \"name\": \"=Indian\", \"offsetgroup\": \"=Indian\", \"orientation\": \"v\", \"showlegend\": true, \"textposition\": \"auto\", \"type\": \"bar\", \"x\": [\"Indian\"], \"xaxis\": \"x\", \"y\": [7.898812770843506], \"yaxis\": \"y\"}],\n",
              "                        {\"barmode\": \"relative\", \"font\": {\"size\": 17}, \"legend\": {\"tracegroupgap\": 0}, \"template\": {\"data\": {\"bar\": [{\"error_x\": {\"color\": \"#2a3f5f\"}, \"error_y\": {\"color\": \"#2a3f5f\"}, \"marker\": {\"line\": {\"color\": \"#E5ECF6\", \"width\": 0.5}}, \"type\": \"bar\"}], \"barpolar\": [{\"marker\": {\"line\": {\"color\": \"#E5ECF6\", \"width\": 0.5}}, \"type\": \"barpolar\"}], \"carpet\": [{\"aaxis\": {\"endlinecolor\": \"#2a3f5f\", \"gridcolor\": \"white\", \"linecolor\": \"white\", \"minorgridcolor\": \"white\", \"startlinecolor\": \"#2a3f5f\"}, \"baxis\": {\"endlinecolor\": \"#2a3f5f\", \"gridcolor\": \"white\", \"linecolor\": \"white\", \"minorgridcolor\": \"white\", \"startlinecolor\": \"#2a3f5f\"}, \"type\": \"carpet\"}], \"choropleth\": [{\"colorbar\": {\"outlinewidth\": 0, \"ticks\": \"\"}, \"type\": \"choropleth\"}], \"contour\": [{\"colorbar\": {\"outlinewidth\": 0, \"ticks\": \"\"}, \"colorscale\": [[0.0, \"#0d0887\"], [0.1111111111111111, \"#46039f\"], [0.2222222222222222, \"#7201a8\"], [0.3333333333333333, \"#9c179e\"], [0.4444444444444444, \"#bd3786\"], [0.5555555555555556, \"#d8576b\"], [0.6666666666666666, \"#ed7953\"], [0.7777777777777778, \"#fb9f3a\"], [0.8888888888888888, \"#fdca26\"], [1.0, \"#f0f921\"]], \"type\": \"contour\"}], \"contourcarpet\": [{\"colorbar\": {\"outlinewidth\": 0, \"ticks\": \"\"}, \"type\": \"contourcarpet\"}], \"heatmap\": [{\"colorbar\": {\"outlinewidth\": 0, \"ticks\": \"\"}, \"colorscale\": [[0.0, \"#0d0887\"], [0.1111111111111111, \"#46039f\"], [0.2222222222222222, \"#7201a8\"], [0.3333333333333333, \"#9c179e\"], [0.4444444444444444, \"#bd3786\"], [0.5555555555555556, \"#d8576b\"], [0.6666666666666666, \"#ed7953\"], [0.7777777777777778, \"#fb9f3a\"], [0.8888888888888888, \"#fdca26\"], [1.0, \"#f0f921\"]], \"type\": \"heatmap\"}], \"heatmapgl\": [{\"colorbar\": {\"outlinewidth\": 0, \"ticks\": \"\"}, \"colorscale\": [[0.0, \"#0d0887\"], [0.1111111111111111, \"#46039f\"], [0.2222222222222222, \"#7201a8\"], [0.3333333333333333, \"#9c179e\"], [0.4444444444444444, \"#bd3786\"], [0.5555555555555556, \"#d8576b\"], [0.6666666666666666, \"#ed7953\"], [0.7777777777777778, \"#fb9f3a\"], [0.8888888888888888, \"#fdca26\"], [1.0, \"#f0f921\"]], \"type\": \"heatmapgl\"}], \"histogram\": [{\"marker\": {\"colorbar\": {\"outlinewidth\": 0, \"ticks\": \"\"}}, \"type\": \"histogram\"}], \"histogram2d\": [{\"colorbar\": {\"outlinewidth\": 0, \"ticks\": \"\"}, \"colorscale\": [[0.0, \"#0d0887\"], [0.1111111111111111, \"#46039f\"], [0.2222222222222222, \"#7201a8\"], [0.3333333333333333, \"#9c179e\"], [0.4444444444444444, \"#bd3786\"], [0.5555555555555556, \"#d8576b\"], [0.6666666666666666, \"#ed7953\"], [0.7777777777777778, \"#fb9f3a\"], [0.8888888888888888, \"#fdca26\"], [1.0, \"#f0f921\"]], \"type\": \"histogram2d\"}], \"histogram2dcontour\": [{\"colorbar\": {\"outlinewidth\": 0, \"ticks\": \"\"}, \"colorscale\": [[0.0, \"#0d0887\"], [0.1111111111111111, \"#46039f\"], [0.2222222222222222, \"#7201a8\"], [0.3333333333333333, \"#9c179e\"], [0.4444444444444444, \"#bd3786\"], [0.5555555555555556, \"#d8576b\"], [0.6666666666666666, \"#ed7953\"], [0.7777777777777778, \"#fb9f3a\"], [0.8888888888888888, \"#fdca26\"], [1.0, \"#f0f921\"]], \"type\": \"histogram2dcontour\"}], \"mesh3d\": [{\"colorbar\": {\"outlinewidth\": 0, \"ticks\": \"\"}, \"type\": \"mesh3d\"}], \"parcoords\": [{\"line\": {\"colorbar\": {\"outlinewidth\": 0, \"ticks\": \"\"}}, \"type\": \"parcoords\"}], \"pie\": [{\"automargin\": true, \"type\": \"pie\"}], \"scatter\": [{\"marker\": {\"colorbar\": {\"outlinewidth\": 0, \"ticks\": \"\"}}, \"type\": \"scatter\"}], \"scatter3d\": [{\"line\": {\"colorbar\": {\"outlinewidth\": 0, \"ticks\": \"\"}}, \"marker\": {\"colorbar\": {\"outlinewidth\": 0, \"ticks\": \"\"}}, \"type\": \"scatter3d\"}], \"scattercarpet\": [{\"marker\": {\"colorbar\": {\"outlinewidth\": 0, \"ticks\": \"\"}}, \"type\": \"scattercarpet\"}], \"scattergeo\": [{\"marker\": {\"colorbar\": {\"outlinewidth\": 0, \"ticks\": \"\"}}, \"type\": \"scattergeo\"}], \"scattergl\": [{\"marker\": {\"colorbar\": {\"outlinewidth\": 0, \"ticks\": \"\"}}, \"type\": \"scattergl\"}], \"scattermapbox\": [{\"marker\": {\"colorbar\": {\"outlinewidth\": 0, \"ticks\": \"\"}}, \"type\": \"scattermapbox\"}], \"scatterpolar\": [{\"marker\": {\"colorbar\": {\"outlinewidth\": 0, \"ticks\": \"\"}}, \"type\": \"scatterpolar\"}], \"scatterpolargl\": [{\"marker\": {\"colorbar\": {\"outlinewidth\": 0, \"ticks\": \"\"}}, \"type\": \"scatterpolargl\"}], \"scatterternary\": [{\"marker\": {\"colorbar\": {\"outlinewidth\": 0, \"ticks\": \"\"}}, \"type\": \"scatterternary\"}], \"surface\": [{\"colorbar\": {\"outlinewidth\": 0, \"ticks\": \"\"}, \"colorscale\": [[0.0, \"#0d0887\"], [0.1111111111111111, \"#46039f\"], [0.2222222222222222, \"#7201a8\"], [0.3333333333333333, \"#9c179e\"], [0.4444444444444444, \"#bd3786\"], [0.5555555555555556, \"#d8576b\"], [0.6666666666666666, \"#ed7953\"], [0.7777777777777778, \"#fb9f3a\"], [0.8888888888888888, \"#fdca26\"], [1.0, \"#f0f921\"]], \"type\": \"surface\"}], \"table\": [{\"cells\": {\"fill\": {\"color\": \"#EBF0F8\"}, \"line\": {\"color\": \"white\"}}, \"header\": {\"fill\": {\"color\": \"#C8D4E3\"}, \"line\": {\"color\": \"white\"}}, \"type\": \"table\"}]}, \"layout\": {\"annotationdefaults\": {\"arrowcolor\": \"#2a3f5f\", \"arrowhead\": 0, \"arrowwidth\": 1}, \"coloraxis\": {\"colorbar\": {\"outlinewidth\": 0, \"ticks\": \"\"}}, \"colorscale\": {\"diverging\": [[0, \"#8e0152\"], [0.1, \"#c51b7d\"], [0.2, \"#de77ae\"], [0.3, \"#f1b6da\"], [0.4, \"#fde0ef\"], [0.5, \"#f7f7f7\"], [0.6, \"#e6f5d0\"], [0.7, \"#b8e186\"], [0.8, \"#7fbc41\"], [0.9, \"#4d9221\"], [1, \"#276419\"]], \"sequential\": [[0.0, \"#0d0887\"], [0.1111111111111111, \"#46039f\"], [0.2222222222222222, \"#7201a8\"], [0.3333333333333333, \"#9c179e\"], [0.4444444444444444, \"#bd3786\"], [0.5555555555555556, \"#d8576b\"], [0.6666666666666666, \"#ed7953\"], [0.7777777777777778, \"#fb9f3a\"], [0.8888888888888888, \"#fdca26\"], [1.0, \"#f0f921\"]], \"sequentialminus\": [[0.0, \"#0d0887\"], [0.1111111111111111, \"#46039f\"], [0.2222222222222222, \"#7201a8\"], [0.3333333333333333, \"#9c179e\"], [0.4444444444444444, \"#bd3786\"], [0.5555555555555556, \"#d8576b\"], [0.6666666666666666, \"#ed7953\"], [0.7777777777777778, \"#fb9f3a\"], [0.8888888888888888, \"#fdca26\"], [1.0, \"#f0f921\"]]}, \"colorway\": [\"#636efa\", \"#EF553B\", \"#00cc96\", \"#ab63fa\", \"#FFA15A\", \"#19d3f3\", \"#FF6692\", \"#B6E880\", \"#FF97FF\", \"#FECB52\"], \"font\": {\"color\": \"#2a3f5f\"}, \"geo\": {\"bgcolor\": \"white\", \"lakecolor\": \"white\", \"landcolor\": \"#E5ECF6\", \"showlakes\": true, \"showland\": true, \"subunitcolor\": \"white\"}, \"hoverlabel\": {\"align\": \"left\"}, \"hovermode\": \"closest\", \"mapbox\": {\"style\": \"light\"}, \"paper_bgcolor\": \"white\", \"plot_bgcolor\": \"#E5ECF6\", \"polar\": {\"angularaxis\": {\"gridcolor\": \"white\", \"linecolor\": \"white\", \"ticks\": \"\"}, \"bgcolor\": \"#E5ECF6\", \"radialaxis\": {\"gridcolor\": \"white\", \"linecolor\": \"white\", \"ticks\": \"\"}}, \"scene\": {\"xaxis\": {\"backgroundcolor\": \"#E5ECF6\", \"gridcolor\": \"white\", \"gridwidth\": 2, \"linecolor\": \"white\", \"showbackground\": true, \"ticks\": \"\", \"zerolinecolor\": \"white\"}, \"yaxis\": {\"backgroundcolor\": \"#E5ECF6\", \"gridcolor\": \"white\", \"gridwidth\": 2, \"linecolor\": \"white\", \"showbackground\": true, \"ticks\": \"\", \"zerolinecolor\": \"white\"}, \"zaxis\": {\"backgroundcolor\": \"#E5ECF6\", \"gridcolor\": \"white\", \"gridwidth\": 2, \"linecolor\": \"white\", \"showbackground\": true, \"ticks\": \"\", \"zerolinecolor\": \"white\"}}, \"shapedefaults\": {\"line\": {\"color\": \"#2a3f5f\"}}, \"ternary\": {\"aaxis\": {\"gridcolor\": \"white\", \"linecolor\": \"white\", \"ticks\": \"\"}, \"baxis\": {\"gridcolor\": \"white\", \"linecolor\": \"white\", \"ticks\": \"\"}, \"bgcolor\": \"#E5ECF6\", \"caxis\": {\"gridcolor\": \"white\", \"linecolor\": \"white\", \"ticks\": \"\"}}, \"title\": {\"x\": 0.05}, \"xaxis\": {\"automargin\": true, \"gridcolor\": \"white\", \"linecolor\": \"white\", \"ticks\": \"\", \"title\": {\"standoff\": 15}, \"zerolinecolor\": \"white\", \"zerolinewidth\": 2}, \"yaxis\": {\"automargin\": true, \"gridcolor\": \"white\", \"linecolor\": \"white\", \"ticks\": \"\", \"title\": {\"standoff\": 15}, \"zerolinecolor\": \"white\", \"zerolinewidth\": 2}}}, \"title\": {\"text\": \"Callback Rate for Interview by Name Ethnicity\"}, \"xaxis\": {\"anchor\": \"y\", \"domain\": [0.0, 1.0], \"title\": {\"text\": \"Name Ethnicity\"}}, \"yaxis\": {\"anchor\": \"x\", \"domain\": [0.0, 1.0], \"title\": {\"text\": \"Callback Rate (%)\"}}},\n",
              "                        {\"responsive\": true}\n",
              "                    ).then(function(){\n",
              "                            \n",
              "var gd = document.getElementById('b64a9210-55db-4c6f-9154-09ee0124f229');\n",
              "var x = new MutationObserver(function (mutations, observer) {{\n",
              "        var display = window.getComputedStyle(gd).display;\n",
              "        if (!display || display === 'none') {{\n",
              "            console.log([gd, 'removed!']);\n",
              "            Plotly.purge(gd);\n",
              "            observer.disconnect();\n",
              "        }}\n",
              "}});\n",
              "\n",
              "// Listen for the removal of the full notebook cells\n",
              "var notebookContainer = gd.closest('#notebook-container');\n",
              "if (notebookContainer) {{\n",
              "    x.observe(notebookContainer, {childList: true});\n",
              "}}\n",
              "\n",
              "// Listen for the clearing of the current output cell\n",
              "var outputEl = gd.closest('.output');\n",
              "if (outputEl) {{\n",
              "    x.observe(outputEl, {childList: true});\n",
              "}}\n",
              "\n",
              "                        })\n",
              "                };\n",
              "                \n",
              "            </script>\n",
              "        </div>\n",
              "</body>\n",
              "</html>"
            ]
          },
          "metadata": {
            "tags": []
          }
        }
      ]
    },
    {
      "cell_type": "markdown",
      "metadata": {
        "colab_type": "text",
        "id": "E1W0gF0zLXx8"
      },
      "source": [
        "In the sample of February to September 2009, a White Female name has a callback rate of 18.3% against 10.17% of White Male name. We don’t see this huge difference for other ethnicities. In fact, the effect is reverse for Greek name. A Greek Male name has a callback rate of 10.71% against 9.6% of Greek Female name. A White Male name has advantage over Chinese and Indian Male names, but the magnitude is not huge as the difference between White Male vs White Female."
      ]
    },
    {
      "cell_type": "code",
      "metadata": {
        "colab_type": "code",
        "id": "47BagMSLpbTI",
        "colab": {
          "base_uri": "https://localhost:8080/",
          "height": 234
        },
        "outputId": "a14a2c1f-b4e3-4daa-e785-338c2581d8ea"
      },
      "source": [
        "prop = pd.crosstab(index= df2['name_ethnicity'], columns=df2['female'], \n",
        "            values=df2['callback'], aggfunc='mean')\n",
        "prop"
      ],
      "execution_count": 9,
      "outputs": [
        {
          "output_type": "execute_result",
          "data": {
            "text/html": [
              "<div>\n",
              "<style scoped>\n",
              "    .dataframe tbody tr th:only-of-type {\n",
              "        vertical-align: middle;\n",
              "    }\n",
              "\n",
              "    .dataframe tbody tr th {\n",
              "        vertical-align: top;\n",
              "    }\n",
              "\n",
              "    .dataframe thead th {\n",
              "        text-align: right;\n",
              "    }\n",
              "</style>\n",
              "<table border=\"1\" class=\"dataframe\">\n",
              "  <thead>\n",
              "    <tr style=\"text-align: right;\">\n",
              "      <th>female</th>\n",
              "      <th>0.0</th>\n",
              "      <th>1.0</th>\n",
              "    </tr>\n",
              "    <tr>\n",
              "      <th>name_ethnicity</th>\n",
              "      <th></th>\n",
              "      <th></th>\n",
              "    </tr>\n",
              "  </thead>\n",
              "  <tbody>\n",
              "    <tr>\n",
              "      <th>Canada</th>\n",
              "      <td>10.169</td>\n",
              "      <td>18.129</td>\n",
              "    </tr>\n",
              "    <tr>\n",
              "      <th>Chinese</th>\n",
              "      <td>8.715</td>\n",
              "      <td>9.177</td>\n",
              "    </tr>\n",
              "    <tr>\n",
              "      <th>Chn-Cdn</th>\n",
              "      <td>6.410</td>\n",
              "      <td>7.782</td>\n",
              "    </tr>\n",
              "    <tr>\n",
              "      <th>Greek</th>\n",
              "      <td>10.714</td>\n",
              "      <td>9.596</td>\n",
              "    </tr>\n",
              "    <tr>\n",
              "      <th>Indian</th>\n",
              "      <td>7.252</td>\n",
              "      <td>8.559</td>\n",
              "    </tr>\n",
              "  </tbody>\n",
              "</table>\n",
              "</div>"
            ],
            "text/plain": [
              "female             0.0     1.0\n",
              "name_ethnicity                \n",
              "Canada          10.169  18.129\n",
              "Chinese          8.715   9.177\n",
              "Chn-Cdn          6.410   7.782\n",
              "Greek           10.714   9.596\n",
              "Indian           7.252   8.559"
            ]
          },
          "metadata": {
            "tags": []
          },
          "execution_count": 9
        }
      ]
    },
    {
      "cell_type": "code",
      "metadata": {
        "colab_type": "code",
        "id": "GsKJjic95BR4",
        "colab": {
          "base_uri": "https://localhost:8080/",
          "height": 542
        },
        "outputId": "d084705c-489e-4b1d-e791-2dd996a384d4"
      },
      "source": [
        "import plotly.graph_objects as go\n",
        "\n",
        "ethnicity = prop.index\n",
        "male = prop.values[:,0]\n",
        "female = prop.values[:,1]\n",
        "\n",
        "fig = go.Figure(data=[\n",
        "         go.Bar(name='Male', x = ethnicity, y = male),\n",
        "         go.Bar(name='Female', x = ethnicity, y = female) ])\n",
        "\n",
        "fig.update_layout(barmode='group', font_size = 17,\n",
        "      title = \"Callback Rate for Interview by Gender\",\n",
        "      yaxis = dict(title='Callback Rate (%)'),\n",
        "      xaxis = dict(title='Name Ethnicity') )\n",
        "\n",
        "fig.show()"
      ],
      "execution_count": 10,
      "outputs": [
        {
          "output_type": "display_data",
          "data": {
            "text/html": [
              "<html>\n",
              "<head><meta charset=\"utf-8\" /></head>\n",
              "<body>\n",
              "    <div>\n",
              "            <script src=\"https://cdnjs.cloudflare.com/ajax/libs/mathjax/2.7.5/MathJax.js?config=TeX-AMS-MML_SVG\"></script><script type=\"text/javascript\">if (window.MathJax) {MathJax.Hub.Config({SVG: {font: \"STIX-Web\"}});}</script>\n",
              "                <script type=\"text/javascript\">window.PlotlyConfig = {MathJaxConfig: 'local'};</script>\n",
              "        <script src=\"https://cdn.plot.ly/plotly-latest.min.js\"></script>    \n",
              "            <div id=\"27e9fe00-8f35-4417-9a3d-15bad2c2bf67\" class=\"plotly-graph-div\" style=\"height:525px; width:100%;\"></div>\n",
              "            <script type=\"text/javascript\">\n",
              "                \n",
              "                    window.PLOTLYENV=window.PLOTLYENV || {};\n",
              "                    \n",
              "                if (document.getElementById(\"27e9fe00-8f35-4417-9a3d-15bad2c2bf67\")) {\n",
              "                    Plotly.newPlot(\n",
              "                        '27e9fe00-8f35-4417-9a3d-15bad2c2bf67',\n",
              "                        [{\"name\": \"Male\", \"type\": \"bar\", \"x\": [\"Canada\", \"Chinese\", \"Chn-Cdn\", \"Greek\", \"Indian\"], \"y\": [10.1694917678833, 8.714919090270996, 6.410256385803223, 10.714285850524902, 7.252298355102539]}, {\"name\": \"Female\", \"type\": \"bar\", \"x\": [\"Canada\", \"Chinese\", \"Chn-Cdn\", \"Greek\", \"Indian\"], \"y\": [18.12865447998047, 9.176788330078125, 7.782101154327393, 9.595959663391113, 8.55949878692627]}],\n",
              "                        {\"barmode\": \"group\", \"font\": {\"size\": 17}, \"template\": {\"data\": {\"bar\": [{\"error_x\": {\"color\": \"#2a3f5f\"}, \"error_y\": {\"color\": \"#2a3f5f\"}, \"marker\": {\"line\": {\"color\": \"#E5ECF6\", \"width\": 0.5}}, \"type\": \"bar\"}], \"barpolar\": [{\"marker\": {\"line\": {\"color\": \"#E5ECF6\", \"width\": 0.5}}, \"type\": \"barpolar\"}], \"carpet\": [{\"aaxis\": {\"endlinecolor\": \"#2a3f5f\", \"gridcolor\": \"white\", \"linecolor\": \"white\", \"minorgridcolor\": \"white\", \"startlinecolor\": \"#2a3f5f\"}, \"baxis\": {\"endlinecolor\": \"#2a3f5f\", \"gridcolor\": \"white\", \"linecolor\": \"white\", \"minorgridcolor\": \"white\", \"startlinecolor\": \"#2a3f5f\"}, \"type\": \"carpet\"}], \"choropleth\": [{\"colorbar\": {\"outlinewidth\": 0, \"ticks\": \"\"}, \"type\": \"choropleth\"}], \"contour\": [{\"colorbar\": {\"outlinewidth\": 0, \"ticks\": \"\"}, \"colorscale\": [[0.0, \"#0d0887\"], [0.1111111111111111, \"#46039f\"], [0.2222222222222222, \"#7201a8\"], [0.3333333333333333, \"#9c179e\"], [0.4444444444444444, \"#bd3786\"], [0.5555555555555556, \"#d8576b\"], [0.6666666666666666, \"#ed7953\"], [0.7777777777777778, \"#fb9f3a\"], [0.8888888888888888, \"#fdca26\"], [1.0, \"#f0f921\"]], \"type\": \"contour\"}], \"contourcarpet\": [{\"colorbar\": {\"outlinewidth\": 0, \"ticks\": \"\"}, \"type\": \"contourcarpet\"}], \"heatmap\": [{\"colorbar\": {\"outlinewidth\": 0, \"ticks\": \"\"}, \"colorscale\": [[0.0, \"#0d0887\"], [0.1111111111111111, \"#46039f\"], [0.2222222222222222, \"#7201a8\"], [0.3333333333333333, \"#9c179e\"], [0.4444444444444444, \"#bd3786\"], [0.5555555555555556, \"#d8576b\"], [0.6666666666666666, \"#ed7953\"], [0.7777777777777778, \"#fb9f3a\"], [0.8888888888888888, \"#fdca26\"], [1.0, \"#f0f921\"]], \"type\": \"heatmap\"}], \"heatmapgl\": [{\"colorbar\": {\"outlinewidth\": 0, \"ticks\": \"\"}, \"colorscale\": [[0.0, \"#0d0887\"], [0.1111111111111111, \"#46039f\"], [0.2222222222222222, \"#7201a8\"], [0.3333333333333333, \"#9c179e\"], [0.4444444444444444, \"#bd3786\"], [0.5555555555555556, \"#d8576b\"], [0.6666666666666666, \"#ed7953\"], [0.7777777777777778, \"#fb9f3a\"], [0.8888888888888888, \"#fdca26\"], [1.0, \"#f0f921\"]], \"type\": \"heatmapgl\"}], \"histogram\": [{\"marker\": {\"colorbar\": {\"outlinewidth\": 0, \"ticks\": \"\"}}, \"type\": \"histogram\"}], \"histogram2d\": [{\"colorbar\": {\"outlinewidth\": 0, \"ticks\": \"\"}, \"colorscale\": [[0.0, \"#0d0887\"], [0.1111111111111111, \"#46039f\"], [0.2222222222222222, \"#7201a8\"], [0.3333333333333333, \"#9c179e\"], [0.4444444444444444, \"#bd3786\"], [0.5555555555555556, \"#d8576b\"], [0.6666666666666666, \"#ed7953\"], [0.7777777777777778, \"#fb9f3a\"], [0.8888888888888888, \"#fdca26\"], [1.0, \"#f0f921\"]], \"type\": \"histogram2d\"}], \"histogram2dcontour\": [{\"colorbar\": {\"outlinewidth\": 0, \"ticks\": \"\"}, \"colorscale\": [[0.0, \"#0d0887\"], [0.1111111111111111, \"#46039f\"], [0.2222222222222222, \"#7201a8\"], [0.3333333333333333, \"#9c179e\"], [0.4444444444444444, \"#bd3786\"], [0.5555555555555556, \"#d8576b\"], [0.6666666666666666, \"#ed7953\"], [0.7777777777777778, \"#fb9f3a\"], [0.8888888888888888, \"#fdca26\"], [1.0, \"#f0f921\"]], \"type\": \"histogram2dcontour\"}], \"mesh3d\": [{\"colorbar\": {\"outlinewidth\": 0, \"ticks\": \"\"}, \"type\": \"mesh3d\"}], \"parcoords\": [{\"line\": {\"colorbar\": {\"outlinewidth\": 0, \"ticks\": \"\"}}, \"type\": \"parcoords\"}], \"pie\": [{\"automargin\": true, \"type\": \"pie\"}], \"scatter\": [{\"marker\": {\"colorbar\": {\"outlinewidth\": 0, \"ticks\": \"\"}}, \"type\": \"scatter\"}], \"scatter3d\": [{\"line\": {\"colorbar\": {\"outlinewidth\": 0, \"ticks\": \"\"}}, \"marker\": {\"colorbar\": {\"outlinewidth\": 0, \"ticks\": \"\"}}, \"type\": \"scatter3d\"}], \"scattercarpet\": [{\"marker\": {\"colorbar\": {\"outlinewidth\": 0, \"ticks\": \"\"}}, \"type\": \"scattercarpet\"}], \"scattergeo\": [{\"marker\": {\"colorbar\": {\"outlinewidth\": 0, \"ticks\": \"\"}}, \"type\": \"scattergeo\"}], \"scattergl\": [{\"marker\": {\"colorbar\": {\"outlinewidth\": 0, \"ticks\": \"\"}}, \"type\": \"scattergl\"}], \"scattermapbox\": [{\"marker\": {\"colorbar\": {\"outlinewidth\": 0, \"ticks\": \"\"}}, \"type\": \"scattermapbox\"}], \"scatterpolar\": [{\"marker\": {\"colorbar\": {\"outlinewidth\": 0, \"ticks\": \"\"}}, \"type\": \"scatterpolar\"}], \"scatterpolargl\": [{\"marker\": {\"colorbar\": {\"outlinewidth\": 0, \"ticks\": \"\"}}, \"type\": \"scatterpolargl\"}], \"scatterternary\": [{\"marker\": {\"colorbar\": {\"outlinewidth\": 0, \"ticks\": \"\"}}, \"type\": \"scatterternary\"}], \"surface\": [{\"colorbar\": {\"outlinewidth\": 0, \"ticks\": \"\"}, \"colorscale\": [[0.0, \"#0d0887\"], [0.1111111111111111, \"#46039f\"], [0.2222222222222222, \"#7201a8\"], [0.3333333333333333, \"#9c179e\"], [0.4444444444444444, \"#bd3786\"], [0.5555555555555556, \"#d8576b\"], [0.6666666666666666, \"#ed7953\"], [0.7777777777777778, \"#fb9f3a\"], [0.8888888888888888, \"#fdca26\"], [1.0, \"#f0f921\"]], \"type\": \"surface\"}], \"table\": [{\"cells\": {\"fill\": {\"color\": \"#EBF0F8\"}, \"line\": {\"color\": \"white\"}}, \"header\": {\"fill\": {\"color\": \"#C8D4E3\"}, \"line\": {\"color\": \"white\"}}, \"type\": \"table\"}]}, \"layout\": {\"annotationdefaults\": {\"arrowcolor\": \"#2a3f5f\", \"arrowhead\": 0, \"arrowwidth\": 1}, \"coloraxis\": {\"colorbar\": {\"outlinewidth\": 0, \"ticks\": \"\"}}, \"colorscale\": {\"diverging\": [[0, \"#8e0152\"], [0.1, \"#c51b7d\"], [0.2, \"#de77ae\"], [0.3, \"#f1b6da\"], [0.4, \"#fde0ef\"], [0.5, \"#f7f7f7\"], [0.6, \"#e6f5d0\"], [0.7, \"#b8e186\"], [0.8, \"#7fbc41\"], [0.9, \"#4d9221\"], [1, \"#276419\"]], \"sequential\": [[0.0, \"#0d0887\"], [0.1111111111111111, \"#46039f\"], [0.2222222222222222, \"#7201a8\"], [0.3333333333333333, \"#9c179e\"], [0.4444444444444444, \"#bd3786\"], [0.5555555555555556, \"#d8576b\"], [0.6666666666666666, \"#ed7953\"], [0.7777777777777778, \"#fb9f3a\"], [0.8888888888888888, \"#fdca26\"], [1.0, \"#f0f921\"]], \"sequentialminus\": [[0.0, \"#0d0887\"], [0.1111111111111111, \"#46039f\"], [0.2222222222222222, \"#7201a8\"], [0.3333333333333333, \"#9c179e\"], [0.4444444444444444, \"#bd3786\"], [0.5555555555555556, \"#d8576b\"], [0.6666666666666666, \"#ed7953\"], [0.7777777777777778, \"#fb9f3a\"], [0.8888888888888888, \"#fdca26\"], [1.0, \"#f0f921\"]]}, \"colorway\": [\"#636efa\", \"#EF553B\", \"#00cc96\", \"#ab63fa\", \"#FFA15A\", \"#19d3f3\", \"#FF6692\", \"#B6E880\", \"#FF97FF\", \"#FECB52\"], \"font\": {\"color\": \"#2a3f5f\"}, \"geo\": {\"bgcolor\": \"white\", \"lakecolor\": \"white\", \"landcolor\": \"#E5ECF6\", \"showlakes\": true, \"showland\": true, \"subunitcolor\": \"white\"}, \"hoverlabel\": {\"align\": \"left\"}, \"hovermode\": \"closest\", \"mapbox\": {\"style\": \"light\"}, \"paper_bgcolor\": \"white\", \"plot_bgcolor\": \"#E5ECF6\", \"polar\": {\"angularaxis\": {\"gridcolor\": \"white\", \"linecolor\": \"white\", \"ticks\": \"\"}, \"bgcolor\": \"#E5ECF6\", \"radialaxis\": {\"gridcolor\": \"white\", \"linecolor\": \"white\", \"ticks\": \"\"}}, \"scene\": {\"xaxis\": {\"backgroundcolor\": \"#E5ECF6\", \"gridcolor\": \"white\", \"gridwidth\": 2, \"linecolor\": \"white\", \"showbackground\": true, \"ticks\": \"\", \"zerolinecolor\": \"white\"}, \"yaxis\": {\"backgroundcolor\": \"#E5ECF6\", \"gridcolor\": \"white\", \"gridwidth\": 2, \"linecolor\": \"white\", \"showbackground\": true, \"ticks\": \"\", \"zerolinecolor\": \"white\"}, \"zaxis\": {\"backgroundcolor\": \"#E5ECF6\", \"gridcolor\": \"white\", \"gridwidth\": 2, \"linecolor\": \"white\", \"showbackground\": true, \"ticks\": \"\", \"zerolinecolor\": \"white\"}}, \"shapedefaults\": {\"line\": {\"color\": \"#2a3f5f\"}}, \"ternary\": {\"aaxis\": {\"gridcolor\": \"white\", \"linecolor\": \"white\", \"ticks\": \"\"}, \"baxis\": {\"gridcolor\": \"white\", \"linecolor\": \"white\", \"ticks\": \"\"}, \"bgcolor\": \"#E5ECF6\", \"caxis\": {\"gridcolor\": \"white\", \"linecolor\": \"white\", \"ticks\": \"\"}}, \"title\": {\"x\": 0.05}, \"xaxis\": {\"automargin\": true, \"gridcolor\": \"white\", \"linecolor\": \"white\", \"ticks\": \"\", \"title\": {\"standoff\": 15}, \"zerolinecolor\": \"white\", \"zerolinewidth\": 2}, \"yaxis\": {\"automargin\": true, \"gridcolor\": \"white\", \"linecolor\": \"white\", \"ticks\": \"\", \"title\": {\"standoff\": 15}, \"zerolinecolor\": \"white\", \"zerolinewidth\": 2}}}, \"title\": {\"text\": \"Callback Rate for Interview by Gender\"}, \"xaxis\": {\"title\": {\"text\": \"Name Ethnicity\"}}, \"yaxis\": {\"title\": {\"text\": \"Callback Rate (%)\"}}},\n",
              "                        {\"responsive\": true}\n",
              "                    ).then(function(){\n",
              "                            \n",
              "var gd = document.getElementById('27e9fe00-8f35-4417-9a3d-15bad2c2bf67');\n",
              "var x = new MutationObserver(function (mutations, observer) {{\n",
              "        var display = window.getComputedStyle(gd).display;\n",
              "        if (!display || display === 'none') {{\n",
              "            console.log([gd, 'removed!']);\n",
              "            Plotly.purge(gd);\n",
              "            observer.disconnect();\n",
              "        }}\n",
              "}});\n",
              "\n",
              "// Listen for the removal of the full notebook cells\n",
              "var notebookContainer = gd.closest('#notebook-container');\n",
              "if (notebookContainer) {{\n",
              "    x.observe(notebookContainer, {childList: true});\n",
              "}}\n",
              "\n",
              "// Listen for the clearing of the current output cell\n",
              "var outputEl = gd.closest('.output');\n",
              "if (outputEl) {{\n",
              "    x.observe(outputEl, {childList: true});\n",
              "}}\n",
              "\n",
              "                        })\n",
              "                };\n",
              "                \n",
              "            </script>\n",
              "        </div>\n",
              "</body>\n",
              "</html>"
            ]
          },
          "metadata": {
            "tags": []
          }
        }
      ]
    },
    {
      "cell_type": "markdown",
      "metadata": {
        "colab_type": "text",
        "id": "gci-My3LQwQ9"
      },
      "source": [
        "Somebody might argue that there are confounding factors that drive the observed difference. For example, somebody might say that in the real world, Females are more educated and qualified than Males. Remember that this is an experimental data, all resumes were artificially constructed, and all relevant dimensions were randomized by Oreopoulos (2011). The control variables show that Females and Males are similar to each other."
      ]
    },
    {
      "cell_type": "code",
      "metadata": {
        "colab_type": "code",
        "id": "YHrUhDSxpbWI",
        "colab": {
          "base_uri": "https://localhost:8080/",
          "height": 192
        },
        "outputId": "2c247f8a-542e-48f5-cb7c-4c8db4e1fbbc"
      },
      "source": [
        "control = ['additional_credential', 'ba_quality',\n",
        "           'extracurricular_skills', 'language_skills',\n",
        "           'certificate', 'ma', 'same_exp', 'exp_highquality',\n",
        "           'skillspeaking', 'skillsocialper', 'skillwriting']\n",
        "           \n",
        "df2.groupby('female').agg([np.mean])[control]"
      ],
      "execution_count": 11,
      "outputs": [
        {
          "output_type": "execute_result",
          "data": {
            "text/html": [
              "<div>\n",
              "<style scoped>\n",
              "    .dataframe tbody tr th:only-of-type {\n",
              "        vertical-align: middle;\n",
              "    }\n",
              "\n",
              "    .dataframe tbody tr th {\n",
              "        vertical-align: top;\n",
              "    }\n",
              "\n",
              "    .dataframe thead tr th {\n",
              "        text-align: left;\n",
              "    }\n",
              "\n",
              "    .dataframe thead tr:last-of-type th {\n",
              "        text-align: right;\n",
              "    }\n",
              "</style>\n",
              "<table border=\"1\" class=\"dataframe\">\n",
              "  <thead>\n",
              "    <tr>\n",
              "      <th></th>\n",
              "      <th>additional_credential</th>\n",
              "      <th>ba_quality</th>\n",
              "      <th>extracurricular_skills</th>\n",
              "      <th>language_skills</th>\n",
              "      <th>certificate</th>\n",
              "      <th>ma</th>\n",
              "      <th>same_exp</th>\n",
              "      <th>exp_highquality</th>\n",
              "      <th>skillspeaking</th>\n",
              "      <th>skillsocialper</th>\n",
              "      <th>skillwriting</th>\n",
              "    </tr>\n",
              "    <tr>\n",
              "      <th></th>\n",
              "      <th>mean</th>\n",
              "      <th>mean</th>\n",
              "      <th>mean</th>\n",
              "      <th>mean</th>\n",
              "      <th>mean</th>\n",
              "      <th>mean</th>\n",
              "      <th>mean</th>\n",
              "      <th>mean</th>\n",
              "      <th>mean</th>\n",
              "      <th>mean</th>\n",
              "      <th>mean</th>\n",
              "    </tr>\n",
              "    <tr>\n",
              "      <th>female</th>\n",
              "      <th></th>\n",
              "      <th></th>\n",
              "      <th></th>\n",
              "      <th></th>\n",
              "      <th></th>\n",
              "      <th></th>\n",
              "      <th></th>\n",
              "      <th></th>\n",
              "      <th></th>\n",
              "      <th></th>\n",
              "      <th></th>\n",
              "    </tr>\n",
              "  </thead>\n",
              "  <tbody>\n",
              "    <tr>\n",
              "      <th>0.0</th>\n",
              "      <td>0.059</td>\n",
              "      <td>0.640</td>\n",
              "      <td>0.598</td>\n",
              "      <td>0.306</td>\n",
              "      <td>0.007</td>\n",
              "      <td>0.170</td>\n",
              "      <td>NaN</td>\n",
              "      <td>0.197</td>\n",
              "      <td>70.757</td>\n",
              "      <td>59.654</td>\n",
              "      <td>64.286</td>\n",
              "    </tr>\n",
              "    <tr>\n",
              "      <th>1.0</th>\n",
              "      <td>0.054</td>\n",
              "      <td>0.655</td>\n",
              "      <td>0.595</td>\n",
              "      <td>0.322</td>\n",
              "      <td>0.008</td>\n",
              "      <td>0.185</td>\n",
              "      <td>NaN</td>\n",
              "      <td>0.169</td>\n",
              "      <td>70.524</td>\n",
              "      <td>59.777</td>\n",
              "      <td>64.216</td>\n",
              "    </tr>\n",
              "  </tbody>\n",
              "</table>\n",
              "</div>"
            ],
            "text/plain": [
              "       additional_credential ba_quality  ... skillsocialper skillwriting\n",
              "                        mean       mean  ...           mean         mean\n",
              "female                                   ...                            \n",
              "0.0                    0.059      0.640  ...         59.654       64.286\n",
              "1.0                    0.054      0.655  ...         59.777       64.216\n",
              "\n",
              "[2 rows x 11 columns]"
            ]
          },
          "metadata": {
            "tags": []
          },
          "execution_count": 11
        }
      ]
    },
    {
      "cell_type": "markdown",
      "metadata": {
        "colab_type": "text",
        "id": "QvvxB1G7WUJd"
      },
      "source": [
        "The astute reader might argue that it is not enough to show that Males and Females are similar to each other to support my thesis of the White Female premium. I must show that the average White Female is similar to the average White Male in the sample. For some variables, White Females look slightly more qualified but for other variables slightly less qualified. Many dimensions of data were randomized, the observed differences look the product of sampling variation. Overall, both White Males and Females look similar. We can be rigorous and control for all these factors in the regression framework. I see more variation among ethnicity than gender. The variation among ethnicity looks excessive for an experiment. Therefore, I will break the regression analysis by ethnicity and control for several factors."
      ]
    },
    {
      "cell_type": "code",
      "metadata": {
        "colab_type": "code",
        "id": "qP604d_AR4uy",
        "colab": {
          "base_uri": "https://localhost:8080/",
          "height": 440
        },
        "outputId": "035f0fd9-1f6e-4446-997d-05f26c232dd7"
      },
      "source": [
        "df2.groupby(['female', 'name_ethnicity']).agg([np.mean])[control]"
      ],
      "execution_count": 12,
      "outputs": [
        {
          "output_type": "execute_result",
          "data": {
            "text/html": [
              "<div>\n",
              "<style scoped>\n",
              "    .dataframe tbody tr th:only-of-type {\n",
              "        vertical-align: middle;\n",
              "    }\n",
              "\n",
              "    .dataframe tbody tr th {\n",
              "        vertical-align: top;\n",
              "    }\n",
              "\n",
              "    .dataframe thead tr th {\n",
              "        text-align: left;\n",
              "    }\n",
              "\n",
              "    .dataframe thead tr:last-of-type th {\n",
              "        text-align: right;\n",
              "    }\n",
              "</style>\n",
              "<table border=\"1\" class=\"dataframe\">\n",
              "  <thead>\n",
              "    <tr>\n",
              "      <th></th>\n",
              "      <th></th>\n",
              "      <th>additional_credential</th>\n",
              "      <th>ba_quality</th>\n",
              "      <th>extracurricular_skills</th>\n",
              "      <th>language_skills</th>\n",
              "      <th>certificate</th>\n",
              "      <th>ma</th>\n",
              "      <th>same_exp</th>\n",
              "      <th>exp_highquality</th>\n",
              "      <th>skillspeaking</th>\n",
              "      <th>skillsocialper</th>\n",
              "      <th>skillwriting</th>\n",
              "    </tr>\n",
              "    <tr>\n",
              "      <th></th>\n",
              "      <th></th>\n",
              "      <th>mean</th>\n",
              "      <th>mean</th>\n",
              "      <th>mean</th>\n",
              "      <th>mean</th>\n",
              "      <th>mean</th>\n",
              "      <th>mean</th>\n",
              "      <th>mean</th>\n",
              "      <th>mean</th>\n",
              "      <th>mean</th>\n",
              "      <th>mean</th>\n",
              "      <th>mean</th>\n",
              "    </tr>\n",
              "    <tr>\n",
              "      <th>female</th>\n",
              "      <th>name_ethnicity</th>\n",
              "      <th></th>\n",
              "      <th></th>\n",
              "      <th></th>\n",
              "      <th></th>\n",
              "      <th></th>\n",
              "      <th></th>\n",
              "      <th></th>\n",
              "      <th></th>\n",
              "      <th></th>\n",
              "      <th></th>\n",
              "      <th></th>\n",
              "    </tr>\n",
              "  </thead>\n",
              "  <tbody>\n",
              "    <tr>\n",
              "      <th rowspan=\"5\" valign=\"top\">0.0</th>\n",
              "      <th>Canada</th>\n",
              "      <td>0.056</td>\n",
              "      <td>0.746</td>\n",
              "      <td>0.623</td>\n",
              "      <td>0.343</td>\n",
              "      <td>0.004</td>\n",
              "      <td>0.209</td>\n",
              "      <td>NaN</td>\n",
              "      <td>0.190</td>\n",
              "      <td>70.422</td>\n",
              "      <td>59.070</td>\n",
              "      <td>63.546</td>\n",
              "    </tr>\n",
              "    <tr>\n",
              "      <th>Chinese</th>\n",
              "      <td>0.062</td>\n",
              "      <td>0.607</td>\n",
              "      <td>0.592</td>\n",
              "      <td>0.326</td>\n",
              "      <td>0.007</td>\n",
              "      <td>0.165</td>\n",
              "      <td>NaN</td>\n",
              "      <td>0.183</td>\n",
              "      <td>70.702</td>\n",
              "      <td>59.850</td>\n",
              "      <td>64.312</td>\n",
              "    </tr>\n",
              "    <tr>\n",
              "      <th>Chn-Cdn</th>\n",
              "      <td>0.068</td>\n",
              "      <td>0.628</td>\n",
              "      <td>0.538</td>\n",
              "      <td>0.282</td>\n",
              "      <td>0.013</td>\n",
              "      <td>0.154</td>\n",
              "      <td>NaN</td>\n",
              "      <td>0.214</td>\n",
              "      <td>71.141</td>\n",
              "      <td>59.513</td>\n",
              "      <td>63.979</td>\n",
              "    </tr>\n",
              "    <tr>\n",
              "      <th>Greek</th>\n",
              "      <td>0.065</td>\n",
              "      <td>0.774</td>\n",
              "      <td>0.631</td>\n",
              "      <td>0.321</td>\n",
              "      <td>0.012</td>\n",
              "      <td>0.214</td>\n",
              "      <td>NaN</td>\n",
              "      <td>0.232</td>\n",
              "      <td>70.976</td>\n",
              "      <td>59.696</td>\n",
              "      <td>65.220</td>\n",
              "    </tr>\n",
              "    <tr>\n",
              "      <th>Indian</th>\n",
              "      <td>0.055</td>\n",
              "      <td>0.586</td>\n",
              "      <td>0.596</td>\n",
              "      <td>0.276</td>\n",
              "      <td>0.006</td>\n",
              "      <td>0.147</td>\n",
              "      <td>NaN</td>\n",
              "      <td>0.200</td>\n",
              "      <td>70.846</td>\n",
              "      <td>59.862</td>\n",
              "      <td>64.582</td>\n",
              "    </tr>\n",
              "    <tr>\n",
              "      <th rowspan=\"5\" valign=\"top\">1.0</th>\n",
              "      <th>Canada</th>\n",
              "      <td>0.055</td>\n",
              "      <td>0.789</td>\n",
              "      <td>0.577</td>\n",
              "      <td>0.327</td>\n",
              "      <td>0.004</td>\n",
              "      <td>0.228</td>\n",
              "      <td>NaN</td>\n",
              "      <td>0.177</td>\n",
              "      <td>70.146</td>\n",
              "      <td>60.041</td>\n",
              "      <td>64.179</td>\n",
              "    </tr>\n",
              "    <tr>\n",
              "      <th>Chinese</th>\n",
              "      <td>0.055</td>\n",
              "      <td>0.590</td>\n",
              "      <td>0.596</td>\n",
              "      <td>0.300</td>\n",
              "      <td>0.011</td>\n",
              "      <td>0.189</td>\n",
              "      <td>NaN</td>\n",
              "      <td>0.179</td>\n",
              "      <td>70.799</td>\n",
              "      <td>59.607</td>\n",
              "      <td>64.349</td>\n",
              "    </tr>\n",
              "    <tr>\n",
              "      <th>Chn-Cdn</th>\n",
              "      <td>0.047</td>\n",
              "      <td>0.638</td>\n",
              "      <td>0.638</td>\n",
              "      <td>0.346</td>\n",
              "      <td>0.004</td>\n",
              "      <td>0.113</td>\n",
              "      <td>NaN</td>\n",
              "      <td>0.171</td>\n",
              "      <td>70.000</td>\n",
              "      <td>59.506</td>\n",
              "      <td>63.233</td>\n",
              "    </tr>\n",
              "    <tr>\n",
              "      <th>Greek</th>\n",
              "      <td>0.045</td>\n",
              "      <td>0.808</td>\n",
              "      <td>0.566</td>\n",
              "      <td>0.308</td>\n",
              "      <td>0.010</td>\n",
              "      <td>0.217</td>\n",
              "      <td>NaN</td>\n",
              "      <td>0.136</td>\n",
              "      <td>71.258</td>\n",
              "      <td>60.662</td>\n",
              "      <td>64.894</td>\n",
              "    </tr>\n",
              "    <tr>\n",
              "      <th>Indian</th>\n",
              "      <td>0.055</td>\n",
              "      <td>0.608</td>\n",
              "      <td>0.599</td>\n",
              "      <td>0.334</td>\n",
              "      <td>0.008</td>\n",
              "      <td>0.172</td>\n",
              "      <td>NaN</td>\n",
              "      <td>0.163</td>\n",
              "      <td>70.503</td>\n",
              "      <td>59.657</td>\n",
              "      <td>64.257</td>\n",
              "    </tr>\n",
              "  </tbody>\n",
              "</table>\n",
              "</div>"
            ],
            "text/plain": [
              "                      additional_credential  ... skillwriting\n",
              "                                       mean  ...         mean\n",
              "female name_ethnicity                        ...             \n",
              "0.0    Canada                         0.056  ...       63.546\n",
              "       Chinese                        0.062  ...       64.312\n",
              "       Chn-Cdn                        0.068  ...       63.979\n",
              "       Greek                          0.065  ...       65.220\n",
              "       Indian                         0.055  ...       64.582\n",
              "1.0    Canada                         0.055  ...       64.179\n",
              "       Chinese                        0.055  ...       64.349\n",
              "       Chn-Cdn                        0.047  ...       63.233\n",
              "       Greek                          0.045  ...       64.894\n",
              "       Indian                         0.055  ...       64.257\n",
              "\n",
              "[10 rows x 11 columns]"
            ]
          },
          "metadata": {
            "tags": []
          },
          "execution_count": 12
        }
      ]
    },
    {
      "cell_type": "markdown",
      "metadata": {
        "colab_type": "text",
        "id": "CwwgLPMCkiUr"
      },
      "source": [
        "Let $y_{rjt}$ be a dummy variable equal to 1 if the resume $r$ sent to job $j$ in time $t$ receives a callback; and 0 otherwise. The variable of interest is the \"Female\" dummy and the interactions with \"Resume Type\".\n",
        "\n",
        "There are five \"Resume Types\": 0) English name with Canadian education and experience; 1) Foreign name with Canadian education and experience; 2) Foreign name and education with Canadian experience; 3) Foreign name and education with mixed experience; and 4) Foreign name, education, and experience.\n",
        "\n",
        "The following linear probability model is the preferred specification:\n",
        "\n",
        "$$y_{rjt}= \\beta Female_{rjt}+\\gamma Resume\\ Types_{rjt}+ \\delta Female_{rjt} \\cdot  Resume\\ Types_{rjt} + \\alpha X + \\epsilon_{rjt}$$\n",
        "\n",
        "where $X$ is vector of control variables, and $\\epsilon_{rjt}$ is the usual error term. All regressions present robust standard errors to heteroskedasticity.\n",
        "\n",
        "For all Tables 1, 2, and 3, we present 4 regressions to compare \"Canadians\" with a specific ethnicity. The logic is to keep a homogenous sample and avoid the variations of ethnicity that could confound the results. \n",
        "\n",
        "Table 1 presents the results without interactions and control variables. The advantage of being Female ranges from an increase of callback rate of 3.64% to 5.97% in comparison to Males. The callback rate for White Males, the base (Type 0), ranges from 11.14% to 12.29%. Oreopoulos (2011) presented estimations for Type 0 that varied from 15.4% to 16%, but his estimations capture the impact of English name not isolated from the gender effect. \n",
        "\n",
        "We see a pattern, where the coefficients of Type 1, 2, 3, and 4, are all negative and increase in absolute terms as measure of \"foreign\". More \"foreign\" is a person in terms of name, education, and experience, lower the callback rate. But just a foreign name is already enough to decrease the callback rate in 3.38% to 5.11% compared to an English name. Overall, the results are statistically significant at 1% level of significance. One exception is the coefficient of Type 1 for the regression (3) of English first name with Chinese last name. The pattern described here matches with main finding reported by Oreopoulos (2011).\n"
      ]
    },
    {
      "cell_type": "code",
      "metadata": {
        "colab_type": "code",
        "id": "v2JOOHrOu97L",
        "colab": {
          "base_uri": "https://localhost:8080/",
          "height": 87
        },
        "outputId": "d58352d2-dc70-4bb8-96c5-45b1d0a7f5ca"
      },
      "source": [
        "import statsmodels.formula.api as smf\n",
        "\n",
        "# Sample Restriction based on name ethnicity\n",
        "Canada = df2.name_ethnicity == \"Canada\"\n",
        "Indian = df2[(Canada) | (df2.name_ethnicity == \"Indian\")]\n",
        "Chinese = df2[(Canada) | (df2.name_ethnicity == \"Chinese\")]\n",
        "Chn_Cdn = df2[(Canada) | (df2.name_ethnicity == \"Chn-Cdn\")]\n",
        "Greek = df2[(Canada) | (df2.name_ethnicity == \"Greek\")]\n",
        "\n",
        "sample = [Indian, Chinese, Chn_Cdn, Greek]\n",
        "\n",
        "#  Run the simple model for each ethnicity\n",
        "# and save the results\n",
        "model1 = \"callback ~ female + C(type)\"\n",
        "\n",
        "result1 = []\n",
        "for data in sample:\n",
        "   ols = smf.ols(model1, data).fit(cov_type='HC1')\n",
        "   result1.append(ols)"
      ],
      "execution_count": 13,
      "outputs": [
        {
          "output_type": "stream",
          "text": [
            "/usr/local/lib/python3.6/dist-packages/statsmodels/tools/_testing.py:19: FutureWarning:\n",
            "\n",
            "pandas.util.testing is deprecated. Use the functions in the public API at pandas.testing instead.\n",
            "\n"
          ],
          "name": "stderr"
        }
      ]
    },
    {
      "cell_type": "code",
      "metadata": {
        "colab_type": "code",
        "id": "oi8e6t9le_KR",
        "colab": {
          "base_uri": "https://localhost:8080/",
          "height": 107
        },
        "outputId": "a43490a7-1fa0-4483-ae35-130e128b3560"
      },
      "source": [
        "#  Library to print professional publication\n",
        "# tables in Latex, HTML, etc.\n",
        "!pip install stargazer"
      ],
      "execution_count": 14,
      "outputs": [
        {
          "output_type": "stream",
          "text": [
            "Collecting stargazer\n",
            "  Downloading https://files.pythonhosted.org/packages/28/32/fbd3d359cdc12dcdceb556bd40ab967878ad63b8a05445148ad1d2389573/stargazer-0.0.5-py3-none-any.whl\n",
            "Installing collected packages: stargazer\n",
            "Successfully installed stargazer-0.0.5\n"
          ],
          "name": "stdout"
        }
      ]
    },
    {
      "cell_type": "code",
      "metadata": {
        "colab_type": "code",
        "id": "sTuUIqyUGYms",
        "colab": {
          "base_uri": "https://localhost:8080/",
          "height": 531
        },
        "outputId": "b943e3fb-ef96-469a-b6c6-28b0f7dbca43"
      },
      "source": [
        "# Settings for a nice table\n",
        "from stargazer.stargazer import Stargazer\n",
        "stargazer = Stargazer(result1)\n",
        "\n",
        "stargazer.title('Table 1 - Callback Rates by Resume Type')\n",
        "\n",
        "names = ['Indian', 'Chinese', 'Chn_Cdn', 'Greek']\n",
        "stargazer.custom_columns(names, [1, 1, 1, 1])\n",
        "\n",
        "order = ['female', 'Intercept', 'C(type)[T.1.0]',\n",
        "         'C(type)[T.2.0]', 'C(type)[T.3.0]',\n",
        "         'C(type)[T.4.0]']     \n",
        "stargazer.covariate_order(order)\n",
        "\n",
        "dict1 = {'C(type)[T.1.0]': '1) Foreign Name, Cdn Educ and Exp',\n",
        "         'C(type)[T.2.0]': '2) Foreign Name and Educ, Cdn exp',\n",
        "         'C(type)[T.3.0]': '3) Foreign Name and Educ, Mixed Exp',\n",
        "         'C(type)[T.4.0]': '4) All Foreign (Name, Educ, and Exp)',\n",
        "              'Intercept': '0) English Name, Cdn Educ and Exp',\n",
        "                 'female': 'Female'}\n",
        "stargazer.rename_covariates(dict1)\n",
        "\n",
        "stargazer"
      ],
      "execution_count": 15,
      "outputs": [
        {
          "output_type": "execute_result",
          "data": {
            "text/html": [
              "Table 1 - Callback Rates by Resume Type<br><table style=\"text-align:center\"><tr><td colspan=\"5\" style=\"border-bottom: 1px solid black\"></td></tr><tr><td style=\"text-align:left\"></td><td colspan=\"4\"><em>Dependent variable:callback</em></td></tr><tr><td style=\"text-align:left\"></td><tr><td></td><td colspan=\"1\">Indian</td><td colspan=\"1\">Chinese</td><td colspan=\"1\">Chn_Cdn</td><td colspan=\"1\">Greek</td></tr><tr><td style=\"text-align:left\"></td><td>(1)</td><td>(2)</td><td>(3)</td><td>(4)</td></tr><tr><td colspan=\"5\" style=\"border-bottom: 1px solid black\"></td></tr><tr><td style=\"text-align:left\">Female</td><td>3.648<sup>***</sup></td><td>3.639<sup>***</sup></td><td>5.974<sup>***</sup></td><td>5.614<sup>***</sup></td></tr><tr><td style=\"text-align:left\"></td><td>(1.096)</td><td>(1.266)</td><td>(1.641)</td><td>(1.797)</td></tr><tr><td style=\"text-align:left\">0) English Name, Cdn Educ and Exp</td><td>12.288<sup>***</sup></td><td>12.292<sup>***</sup></td><td>11.145<sup>***</sup></td><td>11.322<sup>***</sup></td></tr><tr><td style=\"text-align:left\"></td><td>(1.119)</td><td>(1.144)</td><td>(1.196)</td><td>(1.236)</td></tr><tr><td style=\"text-align:left\">1) Foreign Name, Cdn Educ and Exp</td><td>-5.112<sup>***</sup></td><td>-3.382<sup>*</sup></td><td>-3.068<sup></sup></td><td>-4.250<sup>**</sup></td></tr><tr><td style=\"text-align:left\"></td><td>(1.523)</td><td>(1.748)</td><td>(2.531)</td><td>(1.929)</td></tr><tr><td style=\"text-align:left\">2) Foreign Name and Educ, Cdn exp</td><td>-4.024<sup>**</sup></td><td>-6.713<sup>***</sup></td><td>-9.047<sup>***</sup></td><td></td></tr><tr><td style=\"text-align:left\"></td><td>(1.712)</td><td>(1.809)</td><td>(2.291)</td><td></td></tr><tr><td style=\"text-align:left\">3) Foreign Name and Educ, Mixed Exp</td><td>-8.603<sup>***</sup></td><td>-5.960<sup>***</sup></td><td>-7.571<sup>***</sup></td><td></td></tr><tr><td style=\"text-align:left\"></td><td>(1.574)</td><td>(1.893)</td><td>(2.865)</td><td></td></tr><tr><td style=\"text-align:left\">4) All Foreign (Name, Educ, and Exp)</td><td>-8.916<sup>***</sup></td><td>-6.184<sup>***</sup></td><td>-12.592<sup>***</sup></td><td></td></tr><tr><td style=\"text-align:left\"></td><td>(1.626)</td><td>(2.004)</td><td>(1.863)</td><td></td></tr><td colspan=\"5\" style=\"border-bottom: 1px solid black\"></td></tr><tr><td style=\"text-align: left\">Observations</td><td>2,981</td><td>2,462</td><td>1,535</td><td>1,410</td></tr><tr><td style=\"text-align: left\">R<sup>2</sup></td><td>0.016</td><td>0.011</td><td>0.022</td><td>0.010</td></tr><tr><td style=\"text-align: left\">Adjusted R<sup>2</sup></td><td>0.015</td><td>0.009</td><td>0.019</td><td>0.008</td></tr><tr><td style=\"text-align: left\">Residual Std. Error</td><td>29.870 (df=2975)</td><td>31.314 (df=2456)</td><td>32.030 (df=1529)</td><td>33.558 (df=1407)</td></tr><tr><td style=\"text-align: left\">F Statistic</td><td>9.668<sup>***</sup> (df=5; 2975)</td><td>5.181<sup>***</sup> (df=5; 2456)</td><td>11.715<sup>***</sup> (df=5; 1529)</td><td>6.261<sup>***</sup> (df=2; 1407)</td></tr><tr><td colspan=\"5\" style=\"border-bottom: 1px solid black\"></td></tr><tr><td style=\"text-align: left\">Note:</td>\n",
              " <td colspan=\"4\" style=\"text-align: right\">\n",
              "  <sup>*</sup>p&lt;0.1;\n",
              "  <sup>**</sup>p&lt;0.05;\n",
              "  <sup>***</sup>p&lt;0.01\n",
              " </td></tr></table>"
            ],
            "text/plain": [
              "<stargazer.stargazer.Stargazer at 0x7f9fc3f4fcf8>"
            ]
          },
          "metadata": {
            "tags": []
          },
          "execution_count": 15
        }
      ]
    },
    {
      "cell_type": "markdown",
      "metadata": {
        "colab_type": "text",
        "id": "szDiGq4yIeM0"
      },
      "source": [
        "Table 2 adds interaction terms of Female and Resume Types. The coefficient of Female capture only the impact of being White Female, because foreign Female is captured by the interaction terms between Female and Types. White Female increases the callback rate in 7.96% compared with White Male (base line of 10.17%). \n",
        "\n",
        "The coefficients of the interaction terms are negative with high magnitude in absolute terms, but not all statistically significant. The pattern suggests the foreign Females have a very low callback rate compared to White Females.\n",
        "\n",
        "Interesting to note that the coefficients of Types 1, 2, 3, and 4 are lower in magnitude and less statistically significant compared to Table 1. This pattern suggests that White Males has advantage over Indians and people with Chinese last name, but not Greeks or Chinese (first and last name). The coefficients of these two last groups are not statistically significant."
      ]
    },
    {
      "cell_type": "code",
      "metadata": {
        "colab_type": "code",
        "id": "LNRIiL4vQa3L",
        "colab": {}
      },
      "source": [
        "model2 = \"callback ~ female*C(type)\"\n",
        "\n",
        "result2 = []\n",
        "for data in sample:\n",
        "   ols = smf.ols(model2, data).fit(cov_type='HC1')\n",
        "   result2.append(ols)"
      ],
      "execution_count": 16,
      "outputs": []
    },
    {
      "cell_type": "code",
      "metadata": {
        "colab_type": "code",
        "id": "OUL-nK84TNCl",
        "colab": {
          "base_uri": "https://localhost:8080/",
          "height": 702
        },
        "outputId": "797b5cda-728c-4135-a56a-0ecc150d92f6"
      },
      "source": [
        "stargazer = Stargazer(result2)\n",
        "\n",
        "stargazer.title('Table 2 - Callback Rates by Resume Type and Gender')\n",
        "\n",
        "stargazer.custom_columns(names, [1, 1, 1, 1])\n",
        "\n",
        "dict2 = {'female:C(type)[T.1.0]':'[Female]x[1]',\n",
        "         'female:C(type)[T.2.0]':'[Female]x[2]',\n",
        "         'female:C(type)[T.3.0]':'[Female]x[3]',\n",
        "         'female:C(type)[T.4.0]':'[Female]x[4]'}\n",
        "\n",
        "list2 = list(dict2.keys())\n",
        "\n",
        "dict2.update(dict1)\n",
        "stargazer.rename_covariates(dict2)\n",
        "\n",
        "list2 = order + list2\n",
        "stargazer.covariate_order(list2)\n",
        "\n",
        "stargazer"
      ],
      "execution_count": 17,
      "outputs": [
        {
          "output_type": "execute_result",
          "data": {
            "text/html": [
              "Table 2 - Callback Rates by Resume Type and Gender<br><table style=\"text-align:center\"><tr><td colspan=\"5\" style=\"border-bottom: 1px solid black\"></td></tr><tr><td style=\"text-align:left\"></td><td colspan=\"4\"><em>Dependent variable:callback</em></td></tr><tr><td style=\"text-align:left\"></td><tr><td></td><td colspan=\"1\">Indian</td><td colspan=\"1\">Chinese</td><td colspan=\"1\">Chn_Cdn</td><td colspan=\"1\">Greek</td></tr><tr><td style=\"text-align:left\"></td><td>(1)</td><td>(2)</td><td>(3)</td><td>(4)</td></tr><tr><td colspan=\"5\" style=\"border-bottom: 1px solid black\"></td></tr><tr><td style=\"text-align:left\">Female</td><td>7.959<sup>***</sup></td><td>7.959<sup>***</sup></td><td>7.959<sup>***</sup></td><td>7.959<sup>***</sup></td></tr><tr><td style=\"text-align:left\"></td><td>(2.152)</td><td>(2.152)</td><td>(2.155)</td><td>(2.151)</td></tr><tr><td style=\"text-align:left\">0) English Name, Cdn Educ and Exp</td><td>10.169<sup>***</sup></td><td>10.169<sup>***</sup></td><td>10.169<sup>***</sup></td><td>10.169<sup>***</sup></td></tr><tr><td style=\"text-align:left\"></td><td>(1.314)</td><td>(1.314)</td><td>(1.316)</td><td>(1.314)</td></tr><tr><td style=\"text-align:left\">1) Foreign Name, Cdn Educ and Exp</td><td>-3.829<sup>**</sup></td><td>1.306<sup></sup></td><td>-0.492<sup></sup></td><td>0.545<sup></sup></td></tr><tr><td style=\"text-align:left\"></td><td>(1.856)</td><td>(2.431)</td><td>(3.345)</td><td>(2.727)</td></tr><tr><td style=\"text-align:left\">2) Foreign Name and Educ, Cdn exp</td><td>0.437<sup></sup></td><td>-3.676<sup></sup></td><td>-6.780<sup>**</sup></td><td></td></tr><tr><td style=\"text-align:left\"></td><td>(2.309)</td><td>(2.385)</td><td>(2.705)</td><td></td></tr><tr><td style=\"text-align:left\">3) Foreign Name and Educ, Mixed Exp</td><td>-4.139<sup>*</sup></td><td>-2.526<sup></sup></td><td>-1.281<sup></sup></td><td></td></tr><tr><td style=\"text-align:left\"></td><td>(2.141)</td><td>(2.498)</td><td>(4.455)</td><td></td></tr><tr><td style=\"text-align:left\">4) All Foreign (Name, Educ, and Exp)</td><td>-4.844<sup>**</sup></td><td>-2.792<sup></sup></td><td>-10.169<sup>***</sup></td><td></td></tr><tr><td style=\"text-align:left\"></td><td>(2.172)</td><td>(2.711)</td><td>(1.316)</td><td></td></tr><tr><td style=\"text-align:left\">[Female]x[1]</td><td>-2.651<sup></sup></td><td>-9.178<sup>***</sup></td><td>-5.137<sup></sup></td><td>-9.077<sup>**</sup></td></tr><tr><td style=\"text-align:left\"></td><td>(3.046)</td><td>(3.493)</td><td>(5.057)</td><td>(3.838)</td></tr><tr><td style=\"text-align:left\">[Female]x[2]</td><td>-9.177<sup>***</sup></td><td>-6.026<sup>*</sup></td><td>-4.569<sup></sup></td><td></td></tr><tr><td style=\"text-align:left\"></td><td>(3.423)</td><td>(3.598)</td><td>(4.584)</td><td></td></tr><tr><td style=\"text-align:left\">[Female]x[3]</td><td>-8.989<sup>***</sup></td><td>-6.993<sup>*</sup></td><td>-12.500<sup>**</sup></td><td></td></tr><tr><td style=\"text-align:left\"></td><td>(3.142)</td><td>(3.792)</td><td>(5.644)</td><td></td></tr><tr><td style=\"text-align:left\">[Female]x[4]</td><td>-8.316<sup>**</sup></td><td>-6.703<sup>*</sup></td><td>-4.388<sup></sup></td><td></td></tr><tr><td style=\"text-align:left\"></td><td>(3.250)</td><td>(3.994)</td><td>(3.291)</td><td></td></tr><td colspan=\"5\" style=\"border-bottom: 1px solid black\"></td></tr><tr><td style=\"text-align: left\">Observations</td><td>2,981</td><td>2,462</td><td>1,535</td><td>1,410</td></tr><tr><td style=\"text-align: left\">R<sup>2</sup></td><td>0.021</td><td>0.015</td><td>0.025</td><td>0.013</td></tr><tr><td style=\"text-align: left\">Adjusted R<sup>2</sup></td><td>0.018</td><td>0.011</td><td>0.019</td><td>0.011</td></tr><tr><td style=\"text-align: left\">Residual Std. Error</td><td>29.823 (df=2971)</td><td>31.280 (df=2452)</td><td>32.027 (df=1525)</td><td>33.512 (df=1406)</td></tr><tr><td style=\"text-align: left\">F Statistic</td><td>6.217<sup>***</sup> (df=9; 2971)</td><td>3.334<sup>***</sup> (df=9; 2452)</td><td>23.435<sup>***</sup> (df=9; 1525)</td><td>5.478<sup>***</sup> (df=3; 1406)</td></tr><tr><td colspan=\"5\" style=\"border-bottom: 1px solid black\"></td></tr><tr><td style=\"text-align: left\">Note:</td>\n",
              " <td colspan=\"4\" style=\"text-align: right\">\n",
              "  <sup>*</sup>p&lt;0.1;\n",
              "  <sup>**</sup>p&lt;0.05;\n",
              "  <sup>***</sup>p&lt;0.01\n",
              " </td></tr></table>"
            ],
            "text/plain": [
              "<stargazer.stargazer.Stargazer at 0x7f9fb1bd0278>"
            ]
          },
          "metadata": {
            "tags": []
          },
          "execution_count": 17
        }
      ]
    },
    {
      "cell_type": "markdown",
      "metadata": {
        "colab_type": "text",
        "id": "HY0q4mo_ljuy"
      },
      "source": [
        "Table 3 adds control variables as robustness checks. The overall results are similar to Table 2. The impact of White Female even increases slightly compared to Table 2. The huge premium of being White Female remains over all other categories.The White Female carries a premium superior than the cumulative impact of bachelor degree from Top 200 world ranking university, experience in large firm, extra-curricular activities, fluent in French and other languages, and Canadian master’s degree. \n",
        "\n",
        "Note that for Type 1, only the coefficient of the Indian Regression  is statistically significant. A White Male name has no advantage over a Chinese, Chinese-Canadian, and Greek names."
      ]
    },
    {
      "cell_type": "code",
      "metadata": {
        "colab_type": "code",
        "id": "6uIsq-9jTNLM",
        "colab": {}
      },
      "source": [
        "control1 = \"+ ba_quality + extracurricular_skills + language_skills\"\n",
        "control2 = \"+ ma + exp_highquality\"\n",
        "model3 = \"callback ~ female*C(type)\" + control1 + control2\n",
        "\n",
        "result3 = []\n",
        "for data in sample:\n",
        "   ols = smf.ols(model3, data).fit(cov_type='HC1')\n",
        "   result3.append(ols)"
      ],
      "execution_count": 18,
      "outputs": []
    },
    {
      "cell_type": "code",
      "metadata": {
        "colab_type": "code",
        "id": "BUZ7rF2-fkAt",
        "colab": {
          "base_uri": "https://localhost:8080/",
          "height": 984
        },
        "outputId": "d2a15a79-faa5-487e-f3a1-745878116792"
      },
      "source": [
        "stargazer = Stargazer(result3)\n",
        "\n",
        "stargazer.title('Table 3 - Callback Rates and Robustness Checks')\n",
        "\n",
        "stargazer.custom_columns(names, [1, 1, 1, 1])\n",
        "\n",
        "dict3 = {'ba_quality':'Top 200 world ranking university',\n",
        "         'exp_highquality':'High quality work experience',\n",
        "         'extracurricular_skills'\t:'List extra-curricular activities',\n",
        "         'language_skills':'Fluent in French and other languages',\n",
        "         'ma':'Canadian master’s degree'}\n",
        "\n",
        "list3 = list(dict3.keys())\n",
        "\n",
        "dict3.update(dict2)\n",
        "stargazer.rename_covariates(dict3)\n",
        "\n",
        "list3 = list2 + list3\n",
        "stargazer.covariate_order(list3)\n",
        "\n",
        "stargazer"
      ],
      "execution_count": 19,
      "outputs": [
        {
          "output_type": "execute_result",
          "data": {
            "text/html": [
              "Table 3 - Callback Rates and Robustness Checks<br><table style=\"text-align:center\"><tr><td colspan=\"5\" style=\"border-bottom: 1px solid black\"></td></tr><tr><td style=\"text-align:left\"></td><td colspan=\"4\"><em>Dependent variable:callback</em></td></tr><tr><td style=\"text-align:left\"></td><tr><td></td><td colspan=\"1\">Indian</td><td colspan=\"1\">Chinese</td><td colspan=\"1\">Chn_Cdn</td><td colspan=\"1\">Greek</td></tr><tr><td style=\"text-align:left\"></td><td>(1)</td><td>(2)</td><td>(3)</td><td>(4)</td></tr><tr><td colspan=\"5\" style=\"border-bottom: 1px solid black\"></td></tr><tr><td style=\"text-align:left\">Female</td><td>8.204<sup>***</sup></td><td>8.255<sup>***</sup></td><td>8.004<sup>***</sup></td><td>8.295<sup>***</sup></td></tr><tr><td style=\"text-align:left\"></td><td>(2.146)</td><td>(2.148)</td><td>(2.157)</td><td>(2.156)</td></tr><tr><td style=\"text-align:left\">0) English Name, Cdn Educ and Exp</td><td>9.150<sup>***</sup></td><td>10.445<sup>***</sup></td><td>11.024<sup>***</sup></td><td>11.480<sup>***</sup></td></tr><tr><td style=\"text-align:left\"></td><td>(1.819)</td><td>(2.038)</td><td>(2.444)</td><td>(2.654)</td></tr><tr><td style=\"text-align:left\">1) Foreign Name, Cdn Educ and Exp</td><td>-3.392<sup>*</sup></td><td>1.859<sup></sup></td><td>0.673<sup></sup></td><td>0.685<sup></sup></td></tr><tr><td style=\"text-align:left\"></td><td>(1.856)</td><td>(2.459)</td><td>(3.368)</td><td>(2.721)</td></tr><tr><td style=\"text-align:left\">2) Foreign Name and Educ, Cdn exp</td><td>0.245<sup></sup></td><td>-4.620<sup>*</sup></td><td>-7.554<sup>***</sup></td><td></td></tr><tr><td style=\"text-align:left\"></td><td>(2.354)</td><td>(2.376)</td><td>(2.626)</td><td></td></tr><tr><td style=\"text-align:left\">3) Foreign Name and Educ, Mixed Exp</td><td>-4.272<sup>**</sup></td><td>-3.355<sup></sup></td><td>-1.926<sup></sup></td><td></td></tr><tr><td style=\"text-align:left\"></td><td>(2.175)</td><td>(2.504)</td><td>(4.434)</td><td></td></tr><tr><td style=\"text-align:left\">4) All Foreign (Name, Educ, and Exp)</td><td>-5.147<sup>**</sup></td><td>-3.768<sup></sup></td><td>-10.405<sup>***</sup></td><td></td></tr><tr><td style=\"text-align:left\"></td><td>(2.175)</td><td>(2.784)</td><td>(1.607)</td><td></td></tr><tr><td style=\"text-align:left\">[Female]x[1]</td><td>-3.348<sup></sup></td><td>-9.773<sup>***</sup></td><td>-6.237<sup></sup></td><td>-8.966<sup>**</sup></td></tr><tr><td style=\"text-align:left\"></td><td>(3.033)</td><td>(3.505)</td><td>(5.037)</td><td>(3.837)</td></tr><tr><td style=\"text-align:left\">[Female]x[2]</td><td>-9.607<sup>***</sup></td><td>-5.873<sup></sup></td><td>-4.512<sup></sup></td><td></td></tr><tr><td style=\"text-align:left\"></td><td>(3.405)</td><td>(3.588)</td><td>(4.552)</td><td></td></tr><tr><td style=\"text-align:left\">[Female]x[3]</td><td>-9.608<sup>***</sup></td><td>-7.426<sup>*</sup></td><td>-12.058<sup>**</sup></td><td></td></tr><tr><td style=\"text-align:left\"></td><td>(3.140)</td><td>(3.793)</td><td>(5.571)</td><td></td></tr><tr><td style=\"text-align:left\">[Female]x[4]</td><td>-8.414<sup>***</sup></td><td>-6.724<sup>*</sup></td><td>-3.811<sup></sup></td><td></td></tr><tr><td style=\"text-align:left\"></td><td>(3.232)</td><td>(3.989)</td><td>(3.382)</td><td></td></tr><tr><td style=\"text-align:left\">Top 200 world ranking university</td><td>-2.391<sup>*</sup></td><td>-3.752<sup>***</sup></td><td>-2.622<sup></sup></td><td>-4.440<sup>*</sup></td></tr><tr><td style=\"text-align:left\"></td><td>(1.228)</td><td>(1.450)</td><td>(1.970)</td><td>(2.330)</td></tr><tr><td style=\"text-align:left\">High quality work experience</td><td>-0.330<sup></sup></td><td>-1.026<sup></sup></td><td>-2.208<sup></sup></td><td>2.119<sup></sup></td></tr><tr><td style=\"text-align:left\"></td><td>(1.399)</td><td>(1.620)</td><td>(1.954)</td><td>(2.424)</td></tr><tr><td style=\"text-align:left\">List extra-curricular activities</td><td>1.807<sup>*</sup></td><td>1.869<sup></sup></td><td>-1.739<sup></sup></td><td>0.400<sup></sup></td></tr><tr><td style=\"text-align:left\"></td><td>(1.093)</td><td>(1.263)</td><td>(1.721)</td><td>(1.825)</td></tr><tr><td style=\"text-align:left\">Fluent in French and other languages</td><td>4.718<sup>***</sup></td><td>4.308<sup>***</sup></td><td>5.939<sup>***</sup></td><td>4.712<sup>**</sup></td></tr><tr><td style=\"text-align:left\"></td><td>(1.255)</td><td>(1.434)</td><td>(1.881)</td><td>(2.021)</td></tr><tr><td style=\"text-align:left\">Canadian master’s degree</td><td>0.583<sup></sup></td><td>0.364<sup></sup></td><td>2.720<sup></sup></td><td>-1.275<sup></sup></td></tr><tr><td style=\"text-align:left\"></td><td>(1.507)</td><td>(1.663)</td><td>(2.285)</td><td>(2.101)</td></tr><td colspan=\"5\" style=\"border-bottom: 1px solid black\"></td></tr><tr><td style=\"text-align: left\">Observations</td><td>2,981</td><td>2,462</td><td>1,535</td><td>1,410</td></tr><tr><td style=\"text-align: left\">R<sup>2</sup></td><td>0.029</td><td>0.023</td><td>0.037</td><td>0.023</td></tr><tr><td style=\"text-align: left\">Adjusted R<sup>2</sup></td><td>0.024</td><td>0.018</td><td>0.028</td><td>0.017</td></tr><tr><td style=\"text-align: left\">Residual Std. Error</td><td>29.726 (df=2966)</td><td>31.174 (df=2447)</td><td>31.875 (df=1520)</td><td>33.403 (df=1401)</td></tr><tr><td style=\"text-align: left\">F Statistic</td><td>5.297<sup>***</sup> (df=14; 2966)</td><td>3.563<sup>***</sup> (df=14; 2447)</td><td>11.819<sup>***</sup> (df=14; 1520)</td><td>3.413<sup>***</sup> (df=8; 1401)</td></tr><tr><td colspan=\"5\" style=\"border-bottom: 1px solid black\"></td></tr><tr><td style=\"text-align: left\">Note:</td>\n",
              " <td colspan=\"4\" style=\"text-align: right\">\n",
              "  <sup>*</sup>p&lt;0.1;\n",
              "  <sup>**</sup>p&lt;0.05;\n",
              "  <sup>***</sup>p&lt;0.01\n",
              " </td></tr></table>"
            ],
            "text/plain": [
              "<stargazer.stargazer.Stargazer at 0x7f9fb1b16668>"
            ]
          },
          "metadata": {
            "tags": []
          },
          "execution_count": 19
        }
      ]
    },
    {
      "cell_type": "markdown",
      "metadata": {
        "colab_type": "text",
        "id": "_LhtUSOZE5s3"
      },
      "source": [
        "## Exercises"
      ]
    },
    {
      "cell_type": "markdown",
      "metadata": {
        "colab_type": "text",
        "id": "kyWJyokoyR-I"
      },
      "source": [
        "1| Why the White Female premium appears in the middle of the Great Recession between February and September 2009, but not before on April and August 2008? Speculate. "
      ]
    },
    {
      "cell_type": "markdown",
      "metadata": {
        "colab_type": "text",
        "id": "NZP-ULypPfqH"
      },
      "source": [
        "2| Recruiters might prefer to talk to White Females, but not necessary hire them. How I can figure out if higher callback rates reflect in more job offers. For example, how I can get data to check this relationship?\n",
        "\n"
      ]
    },
    {
      "cell_type": "markdown",
      "metadata": {
        "colab_type": "text",
        "id": "aLM8KF1G8M_V"
      },
      "source": [
        "3| What can you infer about the table below? Do you have any insights to share?"
      ]
    },
    {
      "cell_type": "code",
      "metadata": {
        "colab_type": "code",
        "id": "v65_YjrE3srG",
        "colab": {
          "base_uri": "https://localhost:8080/",
          "height": 822
        },
        "outputId": "5986403a-a7e0-41c1-f3c8-5a707b264c89"
      },
      "source": [
        "pd.crosstab(index= [df2['name_ethnicity'], df2['female'],\n",
        "                           df2['name']], columns=df2['type'], \n",
        "                         values=df2['callback'], aggfunc='mean')"
      ],
      "execution_count": 20,
      "outputs": [
        {
          "output_type": "execute_result",
          "data": {
            "text/html": [
              "<div>\n",
              "<style scoped>\n",
              "    .dataframe tbody tr th:only-of-type {\n",
              "        vertical-align: middle;\n",
              "    }\n",
              "\n",
              "    .dataframe tbody tr th {\n",
              "        vertical-align: top;\n",
              "    }\n",
              "\n",
              "    .dataframe thead th {\n",
              "        text-align: right;\n",
              "    }\n",
              "</style>\n",
              "<table border=\"1\" class=\"dataframe\">\n",
              "  <thead>\n",
              "    <tr style=\"text-align: right;\">\n",
              "      <th></th>\n",
              "      <th></th>\n",
              "      <th>type</th>\n",
              "      <th>0.0</th>\n",
              "      <th>1.0</th>\n",
              "      <th>2.0</th>\n",
              "      <th>3.0</th>\n",
              "      <th>4.0</th>\n",
              "    </tr>\n",
              "    <tr>\n",
              "      <th>name_ethnicity</th>\n",
              "      <th>female</th>\n",
              "      <th>name</th>\n",
              "      <th></th>\n",
              "      <th></th>\n",
              "      <th></th>\n",
              "      <th></th>\n",
              "      <th></th>\n",
              "    </tr>\n",
              "  </thead>\n",
              "  <tbody>\n",
              "    <tr>\n",
              "      <th rowspan=\"6\" valign=\"top\">Canada</th>\n",
              "      <th rowspan=\"3\" valign=\"top\">0.0</th>\n",
              "      <th>GregJohnson</th>\n",
              "      <td>11.561</td>\n",
              "      <td>NaN</td>\n",
              "      <td>NaN</td>\n",
              "      <td>NaN</td>\n",
              "      <td>NaN</td>\n",
              "    </tr>\n",
              "    <tr>\n",
              "      <th>JohnMartin</th>\n",
              "      <td>8.235</td>\n",
              "      <td>NaN</td>\n",
              "      <td>NaN</td>\n",
              "      <td>NaN</td>\n",
              "      <td>NaN</td>\n",
              "    </tr>\n",
              "    <tr>\n",
              "      <th>MatthewWilson</th>\n",
              "      <td>10.638</td>\n",
              "      <td>NaN</td>\n",
              "      <td>NaN</td>\n",
              "      <td>NaN</td>\n",
              "      <td>NaN</td>\n",
              "    </tr>\n",
              "    <tr>\n",
              "      <th rowspan=\"3\" valign=\"top\">1.0</th>\n",
              "      <th>AlisonJohnson</th>\n",
              "      <td>18.675</td>\n",
              "      <td>NaN</td>\n",
              "      <td>NaN</td>\n",
              "      <td>NaN</td>\n",
              "      <td>NaN</td>\n",
              "    </tr>\n",
              "    <tr>\n",
              "      <th>CarrieMartin</th>\n",
              "      <td>20.455</td>\n",
              "      <td>NaN</td>\n",
              "      <td>NaN</td>\n",
              "      <td>NaN</td>\n",
              "      <td>NaN</td>\n",
              "    </tr>\n",
              "    <tr>\n",
              "      <th>JillWilson</th>\n",
              "      <td>15.205</td>\n",
              "      <td>NaN</td>\n",
              "      <td>NaN</td>\n",
              "      <td>NaN</td>\n",
              "      <td>NaN</td>\n",
              "    </tr>\n",
              "    <tr>\n",
              "      <th rowspan=\"6\" valign=\"top\">Chinese</th>\n",
              "      <th rowspan=\"3\" valign=\"top\">0.0</th>\n",
              "      <th>DongLiu</th>\n",
              "      <td>NaN</td>\n",
              "      <td>10.870</td>\n",
              "      <td>3.390</td>\n",
              "      <td>13.158</td>\n",
              "      <td>2.381</td>\n",
              "    </tr>\n",
              "    <tr>\n",
              "      <th>LeiLi</th>\n",
              "      <td>NaN</td>\n",
              "      <td>14.062</td>\n",
              "      <td>9.756</td>\n",
              "      <td>8.065</td>\n",
              "      <td>11.364</td>\n",
              "    </tr>\n",
              "    <tr>\n",
              "      <th>YongZhang</th>\n",
              "      <td>NaN</td>\n",
              "      <td>10.227</td>\n",
              "      <td>7.407</td>\n",
              "      <td>3.509</td>\n",
              "      <td>8.333</td>\n",
              "    </tr>\n",
              "    <tr>\n",
              "      <th rowspan=\"3\" valign=\"top\">1.0</th>\n",
              "      <th>MinLiu</th>\n",
              "      <td>NaN</td>\n",
              "      <td>8.235</td>\n",
              "      <td>5.357</td>\n",
              "      <td>11.321</td>\n",
              "      <td>15.556</td>\n",
              "    </tr>\n",
              "    <tr>\n",
              "      <th>NaLi</th>\n",
              "      <td>NaN</td>\n",
              "      <td>10.127</td>\n",
              "      <td>12.698</td>\n",
              "      <td>5.556</td>\n",
              "      <td>2.703</td>\n",
              "    </tr>\n",
              "    <tr>\n",
              "      <th>XiuyingZhang</th>\n",
              "      <td>NaN</td>\n",
              "      <td>11.927</td>\n",
              "      <td>6.780</td>\n",
              "      <td>9.091</td>\n",
              "      <td>7.018</td>\n",
              "    </tr>\n",
              "    <tr>\n",
              "      <th rowspan=\"2\" valign=\"top\">Chn-Cdn</th>\n",
              "      <th>0.0</th>\n",
              "      <th>EricWang</th>\n",
              "      <td>NaN</td>\n",
              "      <td>9.677</td>\n",
              "      <td>3.390</td>\n",
              "      <td>8.889</td>\n",
              "      <td>0.000</td>\n",
              "    </tr>\n",
              "    <tr>\n",
              "      <th>1.0</th>\n",
              "      <th>MichelleWang</th>\n",
              "      <td>NaN</td>\n",
              "      <td>12.500</td>\n",
              "      <td>6.780</td>\n",
              "      <td>4.348</td>\n",
              "      <td>3.571</td>\n",
              "    </tr>\n",
              "    <tr>\n",
              "      <th rowspan=\"2\" valign=\"top\">Greek</th>\n",
              "      <th>0.0</th>\n",
              "      <th>LukasMinsopoulos</th>\n",
              "      <td>NaN</td>\n",
              "      <td>10.714</td>\n",
              "      <td>NaN</td>\n",
              "      <td>NaN</td>\n",
              "      <td>NaN</td>\n",
              "    </tr>\n",
              "    <tr>\n",
              "      <th>1.0</th>\n",
              "      <th>NicoleMinsopoulos</th>\n",
              "      <td>NaN</td>\n",
              "      <td>9.596</td>\n",
              "      <td>NaN</td>\n",
              "      <td>NaN</td>\n",
              "      <td>NaN</td>\n",
              "    </tr>\n",
              "    <tr>\n",
              "      <th rowspan=\"8\" valign=\"top\">Indian</th>\n",
              "      <th rowspan=\"4\" valign=\"top\">0.0</th>\n",
              "      <th>ArjunKumar</th>\n",
              "      <td>NaN</td>\n",
              "      <td>8.642</td>\n",
              "      <td>8.333</td>\n",
              "      <td>3.125</td>\n",
              "      <td>4.762</td>\n",
              "    </tr>\n",
              "    <tr>\n",
              "      <th>PanavSingh</th>\n",
              "      <td>NaN</td>\n",
              "      <td>1.333</td>\n",
              "      <td>15.942</td>\n",
              "      <td>7.317</td>\n",
              "      <td>2.500</td>\n",
              "    </tr>\n",
              "    <tr>\n",
              "      <th>RahulKaur</th>\n",
              "      <td>NaN</td>\n",
              "      <td>8.571</td>\n",
              "      <td>10.769</td>\n",
              "      <td>5.455</td>\n",
              "      <td>7.317</td>\n",
              "    </tr>\n",
              "    <tr>\n",
              "      <th>SamirSharma</th>\n",
              "      <td>NaN</td>\n",
              "      <td>5.814</td>\n",
              "      <td>6.897</td>\n",
              "      <td>10.256</td>\n",
              "      <td>6.522</td>\n",
              "    </tr>\n",
              "    <tr>\n",
              "      <th rowspan=\"4\" valign=\"top\">1.0</th>\n",
              "      <th>MayaKumar</th>\n",
              "      <td>NaN</td>\n",
              "      <td>14.286</td>\n",
              "      <td>6.944</td>\n",
              "      <td>3.448</td>\n",
              "      <td>5.263</td>\n",
              "    </tr>\n",
              "    <tr>\n",
              "      <th>PriyankaKaur</th>\n",
              "      <td>NaN</td>\n",
              "      <td>6.481</td>\n",
              "      <td>14.815</td>\n",
              "      <td>3.636</td>\n",
              "      <td>5.128</td>\n",
              "    </tr>\n",
              "    <tr>\n",
              "      <th>ShreyaSharma</th>\n",
              "      <td>NaN</td>\n",
              "      <td>13.158</td>\n",
              "      <td>8.772</td>\n",
              "      <td>4.651</td>\n",
              "      <td>5.128</td>\n",
              "    </tr>\n",
              "    <tr>\n",
              "      <th>TaraSingh</th>\n",
              "      <td>NaN</td>\n",
              "      <td>14.286</td>\n",
              "      <td>8.065</td>\n",
              "      <td>9.091</td>\n",
              "      <td>4.444</td>\n",
              "    </tr>\n",
              "  </tbody>\n",
              "</table>\n",
              "</div>"
            ],
            "text/plain": [
              "type                                        0.0     1.0     2.0     3.0     4.0\n",
              "name_ethnicity female name                                                     \n",
              "Canada         0.0    GregJohnson        11.561     NaN     NaN     NaN     NaN\n",
              "                      JohnMartin          8.235     NaN     NaN     NaN     NaN\n",
              "                      MatthewWilson      10.638     NaN     NaN     NaN     NaN\n",
              "               1.0    AlisonJohnson      18.675     NaN     NaN     NaN     NaN\n",
              "                      CarrieMartin       20.455     NaN     NaN     NaN     NaN\n",
              "                      JillWilson         15.205     NaN     NaN     NaN     NaN\n",
              "Chinese        0.0    DongLiu               NaN  10.870   3.390  13.158   2.381\n",
              "                      LeiLi                 NaN  14.062   9.756   8.065  11.364\n",
              "                      YongZhang             NaN  10.227   7.407   3.509   8.333\n",
              "               1.0    MinLiu                NaN   8.235   5.357  11.321  15.556\n",
              "                      NaLi                  NaN  10.127  12.698   5.556   2.703\n",
              "                      XiuyingZhang          NaN  11.927   6.780   9.091   7.018\n",
              "Chn-Cdn        0.0    EricWang              NaN   9.677   3.390   8.889   0.000\n",
              "               1.0    MichelleWang          NaN  12.500   6.780   4.348   3.571\n",
              "Greek          0.0    LukasMinsopoulos      NaN  10.714     NaN     NaN     NaN\n",
              "               1.0    NicoleMinsopoulos     NaN   9.596     NaN     NaN     NaN\n",
              "Indian         0.0    ArjunKumar            NaN   8.642   8.333   3.125   4.762\n",
              "                      PanavSingh            NaN   1.333  15.942   7.317   2.500\n",
              "                      RahulKaur             NaN   8.571  10.769   5.455   7.317\n",
              "                      SamirSharma           NaN   5.814   6.897  10.256   6.522\n",
              "               1.0    MayaKumar             NaN  14.286   6.944   3.448   5.263\n",
              "                      PriyankaKaur          NaN   6.481  14.815   3.636   5.128\n",
              "                      ShreyaSharma          NaN  13.158   8.772   4.651   5.128\n",
              "                      TaraSingh             NaN  14.286   8.065   9.091   4.444"
            ]
          },
          "metadata": {
            "tags": []
          },
          "execution_count": 20
        }
      ]
    },
    {
      "cell_type": "markdown",
      "metadata": {
        "colab_type": "text",
        "id": "QQX37BzRAkvW"
      },
      "source": [
        "4| What can you infer about the table below? Do you have any insights to share?"
      ]
    },
    {
      "cell_type": "code",
      "metadata": {
        "colab_type": "code",
        "id": "wMgCsgEQ9GmF",
        "colab": {
          "base_uri": "https://localhost:8080/",
          "height": 605
        },
        "outputId": "f322fbe2-afd5-4035-ccf4-045c15bf2a9c"
      },
      "source": [
        "pd.crosstab(index= df2['occupation_type'],\n",
        "                   columns=[df2['name_ethnicity'], df2['female']], \n",
        "                   values=df2['callback'], aggfunc='mean')"
      ],
      "execution_count": 21,
      "outputs": [
        {
          "output_type": "execute_result",
          "data": {
            "text/html": [
              "<div>\n",
              "<style scoped>\n",
              "    .dataframe tbody tr th:only-of-type {\n",
              "        vertical-align: middle;\n",
              "    }\n",
              "\n",
              "    .dataframe tbody tr th {\n",
              "        vertical-align: top;\n",
              "    }\n",
              "\n",
              "    .dataframe thead tr th {\n",
              "        text-align: left;\n",
              "    }\n",
              "\n",
              "    .dataframe thead tr:last-of-type th {\n",
              "        text-align: right;\n",
              "    }\n",
              "</style>\n",
              "<table border=\"1\" class=\"dataframe\">\n",
              "  <thead>\n",
              "    <tr>\n",
              "      <th>name_ethnicity</th>\n",
              "      <th colspan=\"2\" halign=\"left\">Canada</th>\n",
              "      <th colspan=\"2\" halign=\"left\">Chinese</th>\n",
              "      <th colspan=\"2\" halign=\"left\">Chn-Cdn</th>\n",
              "      <th colspan=\"2\" halign=\"left\">Greek</th>\n",
              "      <th colspan=\"2\" halign=\"left\">Indian</th>\n",
              "    </tr>\n",
              "    <tr>\n",
              "      <th>female</th>\n",
              "      <th>0.0</th>\n",
              "      <th>1.0</th>\n",
              "      <th>0.0</th>\n",
              "      <th>1.0</th>\n",
              "      <th>0.0</th>\n",
              "      <th>1.0</th>\n",
              "      <th>0.0</th>\n",
              "      <th>1.0</th>\n",
              "      <th>0.0</th>\n",
              "      <th>1.0</th>\n",
              "    </tr>\n",
              "    <tr>\n",
              "      <th>occupation_type</th>\n",
              "      <th></th>\n",
              "      <th></th>\n",
              "      <th></th>\n",
              "      <th></th>\n",
              "      <th></th>\n",
              "      <th></th>\n",
              "      <th></th>\n",
              "      <th></th>\n",
              "      <th></th>\n",
              "      <th></th>\n",
              "    </tr>\n",
              "  </thead>\n",
              "  <tbody>\n",
              "    <tr>\n",
              "      <th>Accounting</th>\n",
              "      <td>2.703</td>\n",
              "      <td>8.929</td>\n",
              "      <td>5.769</td>\n",
              "      <td>6.780</td>\n",
              "      <td>0.000</td>\n",
              "      <td>4.545</td>\n",
              "      <td>7.692</td>\n",
              "      <td>14.286</td>\n",
              "      <td>1.429</td>\n",
              "      <td>4.348</td>\n",
              "    </tr>\n",
              "    <tr>\n",
              "      <th>Administrative</th>\n",
              "      <td>7.895</td>\n",
              "      <td>23.288</td>\n",
              "      <td>10.112</td>\n",
              "      <td>8.036</td>\n",
              "      <td>6.897</td>\n",
              "      <td>8.333</td>\n",
              "      <td>13.793</td>\n",
              "      <td>10.714</td>\n",
              "      <td>7.383</td>\n",
              "      <td>6.015</td>\n",
              "    </tr>\n",
              "    <tr>\n",
              "      <th>Civil Engineer</th>\n",
              "      <td>5.556</td>\n",
              "      <td>50.000</td>\n",
              "      <td>6.250</td>\n",
              "      <td>6.250</td>\n",
              "      <td>0.000</td>\n",
              "      <td>11.111</td>\n",
              "      <td>0.000</td>\n",
              "      <td>0.000</td>\n",
              "      <td>4.762</td>\n",
              "      <td>0.000</td>\n",
              "    </tr>\n",
              "    <tr>\n",
              "      <th>Clerical</th>\n",
              "      <td>4.444</td>\n",
              "      <td>8.140</td>\n",
              "      <td>5.172</td>\n",
              "      <td>6.000</td>\n",
              "      <td>0.000</td>\n",
              "      <td>7.692</td>\n",
              "      <td>9.091</td>\n",
              "      <td>3.704</td>\n",
              "      <td>5.000</td>\n",
              "      <td>4.790</td>\n",
              "    </tr>\n",
              "    <tr>\n",
              "      <th>Ecommerce</th>\n",
              "      <td>0.000</td>\n",
              "      <td>0.000</td>\n",
              "      <td>9.091</td>\n",
              "      <td>0.000</td>\n",
              "      <td>0.000</td>\n",
              "      <td>0.000</td>\n",
              "      <td>0.000</td>\n",
              "      <td>0.000</td>\n",
              "      <td>0.000</td>\n",
              "      <td>0.000</td>\n",
              "    </tr>\n",
              "    <tr>\n",
              "      <th>Electrical Engineer</th>\n",
              "      <td>6.250</td>\n",
              "      <td>28.571</td>\n",
              "      <td>7.143</td>\n",
              "      <td>8.333</td>\n",
              "      <td>14.286</td>\n",
              "      <td>0.000</td>\n",
              "      <td>NaN</td>\n",
              "      <td>33.333</td>\n",
              "      <td>16.667</td>\n",
              "      <td>0.000</td>\n",
              "    </tr>\n",
              "    <tr>\n",
              "      <th>Executive Assistant</th>\n",
              "      <td>23.077</td>\n",
              "      <td>17.647</td>\n",
              "      <td>5.263</td>\n",
              "      <td>16.000</td>\n",
              "      <td>16.667</td>\n",
              "      <td>16.667</td>\n",
              "      <td>14.286</td>\n",
              "      <td>0.000</td>\n",
              "      <td>6.250</td>\n",
              "      <td>7.407</td>\n",
              "    </tr>\n",
              "    <tr>\n",
              "      <th>Finance</th>\n",
              "      <td>16.667</td>\n",
              "      <td>26.316</td>\n",
              "      <td>5.000</td>\n",
              "      <td>12.195</td>\n",
              "      <td>0.000</td>\n",
              "      <td>9.091</td>\n",
              "      <td>14.286</td>\n",
              "      <td>0.000</td>\n",
              "      <td>12.766</td>\n",
              "      <td>2.439</td>\n",
              "    </tr>\n",
              "    <tr>\n",
              "      <th>Food Services Managers</th>\n",
              "      <td>16.667</td>\n",
              "      <td>16.667</td>\n",
              "      <td>0.000</td>\n",
              "      <td>8.333</td>\n",
              "      <td>20.000</td>\n",
              "      <td>0.000</td>\n",
              "      <td>0.000</td>\n",
              "      <td>0.000</td>\n",
              "      <td>0.000</td>\n",
              "      <td>7.143</td>\n",
              "    </tr>\n",
              "    <tr>\n",
              "      <th>Human Resources Payroll</th>\n",
              "      <td>20.000</td>\n",
              "      <td>18.182</td>\n",
              "      <td>0.000</td>\n",
              "      <td>0.000</td>\n",
              "      <td>0.000</td>\n",
              "      <td>20.000</td>\n",
              "      <td>0.000</td>\n",
              "      <td>0.000</td>\n",
              "      <td>6.250</td>\n",
              "      <td>0.000</td>\n",
              "    </tr>\n",
              "    <tr>\n",
              "      <th>Insurance</th>\n",
              "      <td>53.846</td>\n",
              "      <td>40.000</td>\n",
              "      <td>14.286</td>\n",
              "      <td>13.636</td>\n",
              "      <td>28.571</td>\n",
              "      <td>16.667</td>\n",
              "      <td>0.000</td>\n",
              "      <td>0.000</td>\n",
              "      <td>25.926</td>\n",
              "      <td>40.000</td>\n",
              "    </tr>\n",
              "    <tr>\n",
              "      <th>Marketing and Sales</th>\n",
              "      <td>12.791</td>\n",
              "      <td>22.222</td>\n",
              "      <td>12.409</td>\n",
              "      <td>11.966</td>\n",
              "      <td>9.091</td>\n",
              "      <td>4.545</td>\n",
              "      <td>16.129</td>\n",
              "      <td>18.605</td>\n",
              "      <td>7.143</td>\n",
              "      <td>10.638</td>\n",
              "    </tr>\n",
              "    <tr>\n",
              "      <th>Production</th>\n",
              "      <td>0.000</td>\n",
              "      <td>0.000</td>\n",
              "      <td>0.000</td>\n",
              "      <td>4.762</td>\n",
              "      <td>0.000</td>\n",
              "      <td>0.000</td>\n",
              "      <td>0.000</td>\n",
              "      <td>0.000</td>\n",
              "      <td>3.571</td>\n",
              "      <td>2.857</td>\n",
              "    </tr>\n",
              "    <tr>\n",
              "      <th>Programmer</th>\n",
              "      <td>10.256</td>\n",
              "      <td>17.391</td>\n",
              "      <td>13.462</td>\n",
              "      <td>10.526</td>\n",
              "      <td>0.000</td>\n",
              "      <td>16.000</td>\n",
              "      <td>16.667</td>\n",
              "      <td>5.882</td>\n",
              "      <td>11.688</td>\n",
              "      <td>17.333</td>\n",
              "    </tr>\n",
              "    <tr>\n",
              "      <th>Retail</th>\n",
              "      <td>19.048</td>\n",
              "      <td>21.622</td>\n",
              "      <td>14.545</td>\n",
              "      <td>17.647</td>\n",
              "      <td>22.727</td>\n",
              "      <td>5.556</td>\n",
              "      <td>6.667</td>\n",
              "      <td>15.000</td>\n",
              "      <td>6.757</td>\n",
              "      <td>19.403</td>\n",
              "    </tr>\n",
              "    <tr>\n",
              "      <th>Technology</th>\n",
              "      <td>0.000</td>\n",
              "      <td>16.667</td>\n",
              "      <td>3.226</td>\n",
              "      <td>4.000</td>\n",
              "      <td>0.000</td>\n",
              "      <td>9.091</td>\n",
              "      <td>33.333</td>\n",
              "      <td>0.000</td>\n",
              "      <td>5.556</td>\n",
              "      <td>7.407</td>\n",
              "    </tr>\n",
              "  </tbody>\n",
              "</table>\n",
              "</div>"
            ],
            "text/plain": [
              "name_ethnicity           Canada         Chinese  ...   Greek  Indian        \n",
              "female                      0.0     1.0     0.0  ...     1.0     0.0     1.0\n",
              "occupation_type                                  ...                        \n",
              "Accounting                2.703   8.929   5.769  ...  14.286   1.429   4.348\n",
              "Administrative            7.895  23.288  10.112  ...  10.714   7.383   6.015\n",
              "Civil Engineer            5.556  50.000   6.250  ...   0.000   4.762   0.000\n",
              "Clerical                  4.444   8.140   5.172  ...   3.704   5.000   4.790\n",
              "Ecommerce                 0.000   0.000   9.091  ...   0.000   0.000   0.000\n",
              "Electrical Engineer       6.250  28.571   7.143  ...  33.333  16.667   0.000\n",
              "Executive Assistant      23.077  17.647   5.263  ...   0.000   6.250   7.407\n",
              "Finance                  16.667  26.316   5.000  ...   0.000  12.766   2.439\n",
              "Food Services Managers   16.667  16.667   0.000  ...   0.000   0.000   7.143\n",
              "Human Resources Payroll  20.000  18.182   0.000  ...   0.000   6.250   0.000\n",
              "Insurance                53.846  40.000  14.286  ...   0.000  25.926  40.000\n",
              "Marketing and Sales      12.791  22.222  12.409  ...  18.605   7.143  10.638\n",
              "Production                0.000   0.000   0.000  ...   0.000   3.571   2.857\n",
              "Programmer               10.256  17.391  13.462  ...   5.882  11.688  17.333\n",
              "Retail                   19.048  21.622  14.545  ...  15.000   6.757  19.403\n",
              "Technology                0.000  16.667   3.226  ...   0.000   5.556   7.407\n",
              "\n",
              "[16 rows x 10 columns]"
            ]
          },
          "metadata": {
            "tags": []
          },
          "execution_count": 21
        }
      ]
    },
    {
      "cell_type": "markdown",
      "metadata": {
        "colab_type": "text",
        "id": "Tn6jpSNM8IeA"
      },
      "source": [
        "5| Interpret the results of the Table 4. Focus on the addition of Fixed Effects (Occupation, Name, and City)."
      ]
    },
    {
      "cell_type": "code",
      "metadata": {
        "colab_type": "code",
        "id": "w2DOGT4rDTk_",
        "colab": {}
      },
      "source": [
        "FE = \"+ C(occupation_type) + C(city) + C(name)\"\n",
        "model4 = \"callback ~ female*C(type) \" + control1 + control2 + FE\n",
        "\n",
        "result4 = []\n",
        "for data in sample:\n",
        "   ols = smf.ols(model4, data).fit(cov_type='HC1')\n",
        "   result4.append(ols)"
      ],
      "execution_count": 22,
      "outputs": []
    },
    {
      "cell_type": "code",
      "metadata": {
        "colab_type": "code",
        "id": "TcHlB2gwEbsF",
        "colab": {
          "base_uri": "https://localhost:8080/",
          "height": 1000
        },
        "outputId": "158de62f-57bc-42ec-e66e-b3f426c39296"
      },
      "source": [
        "stargazer = Stargazer(result4)\n",
        "\n",
        "stargazer.title('Table 4 - Callback Rates and Fixed Effects')\n",
        "stargazer.custom_columns(names, [1, 1, 1, 1])\n",
        "stargazer.rename_covariates(dict3)\n",
        "stargazer.covariate_order(list3)\n",
        "\n",
        "stargazer.add_line('Fixed Effects', ['', '', '', ''])\n",
        "stargazer.add_line('Occupation', ['Yes', 'Yes', 'Yes', 'Yes'])\n",
        "stargazer.add_line('Name', ['Yes', 'Yes', 'Yes', 'Yes'])\n",
        "stargazer.add_line('City', ['Yes', 'Yes', 'Yes', 'Yes'])\n",
        "\n",
        "stargazer"
      ],
      "execution_count": 23,
      "outputs": [
        {
          "output_type": "stream",
          "text": [
            "/usr/local/lib/python3.6/dist-packages/statsmodels/base/model.py:1752: ValueWarning:\n",
            "\n",
            "covariance of constraints does not have full rank. The number of constraints is 43, but rank is 41\n",
            "\n",
            "/usr/local/lib/python3.6/dist-packages/statsmodels/base/model.py:1752: ValueWarning:\n",
            "\n",
            "covariance of constraints does not have full rank. The number of constraints is 41, but rank is 39\n",
            "\n",
            "/usr/local/lib/python3.6/dist-packages/statsmodels/base/model.py:1752: ValueWarning:\n",
            "\n",
            "covariance of constraints does not have full rank. The number of constraints is 37, but rank is 35\n",
            "\n",
            "/usr/local/lib/python3.6/dist-packages/statsmodels/base/model.py:1752: ValueWarning:\n",
            "\n",
            "covariance of constraints does not have full rank. The number of constraints is 31, but rank is 29\n",
            "\n"
          ],
          "name": "stderr"
        },
        {
          "output_type": "execute_result",
          "data": {
            "text/html": [
              "Table 4 - Callback Rates and Fixed Effects<br><table style=\"text-align:center\"><tr><td colspan=\"5\" style=\"border-bottom: 1px solid black\"></td></tr><tr><td style=\"text-align:left\"></td><td colspan=\"4\"><em>Dependent variable:callback</em></td></tr><tr><td style=\"text-align:left\"></td><tr><td></td><td colspan=\"1\">Indian</td><td colspan=\"1\">Chinese</td><td colspan=\"1\">Chn_Cdn</td><td colspan=\"1\">Greek</td></tr><tr><td style=\"text-align:left\"></td><td>(1)</td><td>(2)</td><td>(3)</td><td>(4)</td></tr><tr><td colspan=\"5\" style=\"border-bottom: 1px solid black\"></td></tr><tr><td style=\"text-align:left\">Female</td><td>7.864<sup>***</sup></td><td>8.231<sup>***</sup></td><td>7.999<sup>***</sup></td><td>7.792<sup>***</sup></td></tr><tr><td style=\"text-align:left\"></td><td>(2.333)</td><td>(2.376)</td><td>(2.485)</td><td>(2.480)</td></tr><tr><td style=\"text-align:left\">0) English Name, Cdn Educ and Exp</td><td>7.057<sup>***</sup></td><td>9.538<sup>***</sup></td><td>7.654<sup>***</sup></td><td>8.468<sup>***</sup></td></tr><tr><td style=\"text-align:left\"></td><td>(1.784)</td><td>(2.105)</td><td>(2.473)</td><td>(2.807)</td></tr><tr><td style=\"text-align:left\">1) Foreign Name, Cdn Educ and Exp</td><td>-3.940<sup>**</sup></td><td>1.385<sup></sup></td><td>1.978<sup></sup></td><td>-1.574<sup></sup></td></tr><tr><td style=\"text-align:left\"></td><td>(1.539)</td><td>(2.063)</td><td>(2.687)</td><td>(1.396)</td></tr><tr><td style=\"text-align:left\">2) Foreign Name and Educ, Cdn exp</td><td>0.602<sup></sup></td><td>-4.993<sup>**</sup></td><td>-5.685<sup>**</sup></td><td></td></tr><tr><td style=\"text-align:left\"></td><td>(1.891)</td><td>(1.969)</td><td>(2.236)</td><td></td></tr><tr><td style=\"text-align:left\">3) Foreign Name and Educ, Mixed Exp</td><td>-4.870<sup>***</sup></td><td>-2.756<sup></sup></td><td>2.146<sup></sup></td><td></td></tr><tr><td style=\"text-align:left\"></td><td>(1.766)</td><td>(2.129)</td><td>(3.472)</td><td></td></tr><tr><td style=\"text-align:left\">4) All Foreign (Name, Educ, and Exp)</td><td>-5.506<sup>***</sup></td><td>-4.003<sup>*</sup></td><td>-6.330<sup>***</sup></td><td></td></tr><tr><td style=\"text-align:left\"></td><td>(1.831)</td><td>(2.225)</td><td>(1.687)</td><td></td></tr><tr><td style=\"text-align:left\">[Female]x[1]</td><td>0.936<sup></sup></td><td>-5.826<sup>**</sup></td><td>-0.835<sup></sup></td><td>-3.019<sup>**</sup></td></tr><tr><td style=\"text-align:left\"></td><td>(2.199)</td><td>(2.624)</td><td>(3.952)</td><td>(1.413)</td></tr><tr><td style=\"text-align:left\">[Female]x[2]</td><td>-5.242<sup>**</sup></td><td>-0.692<sup></sup></td><td>-0.194<sup></sup></td><td></td></tr><tr><td style=\"text-align:left\"></td><td>(2.458)</td><td>(2.679)</td><td>(3.520)</td><td></td></tr><tr><td style=\"text-align:left\">[Female]x[3]</td><td>-5.334<sup>**</sup></td><td>-2.998<sup></sup></td><td>-6.336<sup></sup></td><td></td></tr><tr><td style=\"text-align:left\"></td><td>(2.277)</td><td>(2.985)</td><td>(4.299)</td><td></td></tr><tr><td style=\"text-align:left\">[Female]x[4]</td><td>-4.287<sup>*</sup></td><td>-2.505<sup></sup></td><td>0.693<sup></sup></td><td></td></tr><tr><td style=\"text-align:left\"></td><td>(2.456)</td><td>(2.988)</td><td>(3.001)</td><td></td></tr><tr><td style=\"text-align:left\">Top 200 world ranking university</td><td>-0.296<sup></sup></td><td>-0.891<sup></sup></td><td>0.834<sup></sup></td><td>2.322<sup></sup></td></tr><tr><td style=\"text-align:left\"></td><td>(1.273)</td><td>(1.503)</td><td>(2.172)</td><td>(3.111)</td></tr><tr><td style=\"text-align:left\">High quality work experience</td><td>-0.723<sup></sup></td><td>-0.925<sup></sup></td><td>-1.886<sup></sup></td><td>2.698<sup></sup></td></tr><tr><td style=\"text-align:left\"></td><td>(1.363)</td><td>(1.596)</td><td>(1.899)</td><td>(2.364)</td></tr><tr><td style=\"text-align:left\">List extra-curricular activities</td><td>1.754<sup></sup></td><td>1.823<sup></sup></td><td>-1.637<sup></sup></td><td>0.243<sup></sup></td></tr><tr><td style=\"text-align:left\"></td><td>(1.069)</td><td>(1.251)</td><td>(1.677)</td><td>(1.794)</td></tr><tr><td style=\"text-align:left\">Fluent in French and other languages</td><td>2.270<sup>*</sup></td><td>1.634<sup></sup></td><td>3.095<sup>*</sup></td><td>1.924<sup></sup></td></tr><tr><td style=\"text-align:left\"></td><td>(1.272)</td><td>(1.484)</td><td>(1.870)</td><td>(2.081)</td></tr><tr><td style=\"text-align:left\">Canadian master’s degree</td><td>0.719<sup></sup></td><td>0.567<sup></sup></td><td>3.083<sup></sup></td><td>-0.794<sup></sup></td></tr><tr><td style=\"text-align:left\"></td><td>(1.451)</td><td>(1.628)</td><td>(2.239)</td><td>(2.053)</td></tr><tr><td style=\"text-align: left\">Fixed Effects</td><td></td><td></td><td></td><td></td></tr><tr><td style=\"text-align: left\">Occupation</td><td>Yes</td><td>Yes</td><td>Yes</td><td>Yes</td></tr><tr><td style=\"text-align: left\">Name</td><td>Yes</td><td>Yes</td><td>Yes</td><td>Yes</td></tr><tr><td style=\"text-align: left\">City</td><td>Yes</td><td>Yes</td><td>Yes</td><td>Yes</td></tr><td colspan=\"5\" style=\"border-bottom: 1px solid black\"></td></tr><tr><td style=\"text-align: left\">Observations</td><td>2,981</td><td>2,462</td><td>1,535</td><td>1,410</td></tr><tr><td style=\"text-align: left\">R<sup>2</sup></td><td>0.082</td><td>0.066</td><td>0.097</td><td>0.076</td></tr><tr><td style=\"text-align: left\">Adjusted R<sup>2</sup></td><td>0.070</td><td>0.051</td><td>0.076</td><td>0.057</td></tr><tr><td style=\"text-align: left\">Residual Std. Error</td><td>29.023 (df=2940)</td><td>30.638 (df=2423)</td><td>31.083 (df=1500)</td><td>32.726 (df=1381)</td></tr><tr><td style=\"text-align: left\">F Statistic</td><td>8.981<sup>***</sup> (df=40; 2940)</td><td>8.453<sup>***</sup> (df=38; 2423)</td><td>6.549<sup>***</sup> (df=34; 1500)</td><td>7.902<sup>***</sup> (df=28; 1381)</td></tr><tr><td colspan=\"5\" style=\"border-bottom: 1px solid black\"></td></tr><tr><td style=\"text-align: left\">Note:</td>\n",
              " <td colspan=\"4\" style=\"text-align: right\">\n",
              "  <sup>*</sup>p&lt;0.1;\n",
              "  <sup>**</sup>p&lt;0.05;\n",
              "  <sup>***</sup>p&lt;0.01\n",
              " </td></tr></table>"
            ],
            "text/plain": [
              "<stargazer.stargazer.Stargazer at 0x7f9fb1af5d30>"
            ]
          },
          "metadata": {
            "tags": []
          },
          "execution_count": 23
        }
      ]
    },
    {
      "cell_type": "markdown",
      "metadata": {
        "id": "2nzYmIgnCcVX",
        "colab_type": "text"
      },
      "source": [
        "6| The second wave of experimental data collected by Oreopoulos (2011) was between September and November 2008. Use this data to investigate if there is a premium of having a White Female name in the Canadian job market. Produce only one professional publication table and interpret the main results."
      ]
    },
    {
      "cell_type": "markdown",
      "metadata": {
        "id": "etN9GyvN8Um6",
        "colab_type": "text"
      },
      "source": [
        "7| For this question, think outside of the box like Bertrand & Mullainathan (2004) and Oreopoulos (2011). Some researches argue that taller people make more money not because of the direct effect of the height, but because of the indirect effect via self-esteem. Propose a feasible research design to test if there is a causal effect between:"
      ]
    },
    {
      "cell_type": "markdown",
      "metadata": {
        "id": "qud764EX88pS",
        "colab_type": "text"
      },
      "source": [
        "a) Height and salary."
      ]
    },
    {
      "cell_type": "markdown",
      "metadata": {
        "id": "VZo1Yn_E88zf",
        "colab_type": "text"
      },
      "source": [
        " b) Height and self-esteem."
      ]
    },
    {
      "cell_type": "markdown",
      "metadata": {
        "id": "V8ei9Tgl89Lg",
        "colab_type": "text"
      },
      "source": [
        " c) Self-esteem and salary."
      ]
    },
    {
      "cell_type": "markdown",
      "metadata": {
        "colab_type": "text",
        "id": "i-MPIny2O8Om"
      },
      "source": [
        "## Reference"
      ]
    },
    {
      "cell_type": "markdown",
      "metadata": {
        "colab_type": "text",
        "id": "ZOwX1_TNpbMt"
      },
      "source": [
        "Bertrand, Marianne, and Sendhil Mullainathan. (2004). Are Emily and Greg More Employable Than Lakisha and Jamal? A Field Experiment on Labor Market Discrimination. American Economic Review, 94 (4): 991-1013. [Click to download the paper](https://github.com/causal-methods/Papers/raw/master/Are%20Emily%20and%20Greg%20More%20Employable%20than%20Lakisha%20and%20Jamal.pdf)\n",
        "\n",
        "Oreopoulos, Philip. (2011). Why Do Skilled Immigrants Struggle in the Labor Market? A Field Experiment with Thirteen Thousand Resumes. American Economic Journal: Economic Policy, 3 (4): 148-71. [Click to download the paper](https://github.com/causal-methods/Papers/raw/master/Oreopoulos/Why%20Do%20Skilled%20Immigrants%20Struggle%20in%20the%20Labor%20Market.pdf)\n"
      ]
    }
  ]
}