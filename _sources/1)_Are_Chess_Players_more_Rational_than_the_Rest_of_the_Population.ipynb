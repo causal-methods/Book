{
  "nbformat": 4,
  "nbformat_minor": 0,
  "metadata": {
    "colab": {
      "name": "1)_Are_Chess_Players_More_Rational_than_the_Rest_of_the_Population.ipynb",
      "provenance": []
    },
    "kernelspec": {
      "display_name": "Python 3",
      "language": "python",
      "name": "python3"
    },
    "language_info": {
      "codemirror_mode": {
        "name": "ipython",
        "version": 3
      },
      "file_extension": ".py",
      "mimetype": "text/x-python",
      "name": "python",
      "nbconvert_exporter": "python",
      "pygments_lexer": "ipython3",
      "version": "3.7.6"
    }
  },
  "cells": [
    {
      "cell_type": "markdown",
      "metadata": {
        "colab_type": "text",
        "id": "SqF7b7Nh66aR"
      },
      "source": [
        "# 1) Are Chess Players More Rational than the Rest of the Population?"
      ]
    },
    {
      "cell_type": "markdown",
      "metadata": {
        "colab_type": "text",
        "id": "ziP85TUmp2IZ"
      },
      "source": [
        "[Vitor Kamada](https://www.linkedin.com/in/vitor-kamada-1b73a078)\n",
        "\n",
        "E-mail: econometrics.methods@gmail.com\n",
        "\n",
        "Last updated: 8-26-2020"
      ]
    },
    {
      "cell_type": "markdown",
      "metadata": {
        "colab_type": "text",
        "id": "k1BZWQcqp2SY"
      },
      "source": [
        "Look at the figure of the Centipede game below from Palacios-Huerta & Volij (2009).\n",
        "Each player has only two strategies: \"Stop\" or \"Continue\". If player 1 stops in the first round, he gets \\$4 and player 2 gets \\$1. If player 1 continues,  player 2 can stop or continue. If player 2 stops, he will receive \\$8, and player 1 will receive \\$2. If player 2 continues, player 1 again can decide between \"Stop\" or \"Continue\". From the social point of view, it is better that both players play \"Continue\" in the six rounds, then player 1 can receive \\$256 and player 2 can receive \\$64. However, if player 2 is rational, he will never play \"Continue\" in the round 6, because he can receive \\$128, if he stops. Knowing that by backward induction, it is irrational to player 1 to continue in round 1. "
      ]
    },
    {
      "cell_type": "markdown",
      "metadata": {
        "colab_type": "text",
        "id": "uDYxKnqzp2VO"
      },
      "source": [
        "![alt text](https://github.com/causal-methods/Papers/raw/master/Centipedes/centipede.PNG)\n",
        "\n",
        "**Source**: Palacios-Huerta & Volij (2009)"
      ]
    },
    {
      "cell_type": "markdown",
      "metadata": {
        "colab_type": "text",
        "id": "meu-gS4Y9Ujo"
      },
      "source": [
        "Several experimental studies show that almost nobody stops at the first opportunity. According with the table below from Palacios-Huerta & Volij (2009), only 7.5% of students stopped in the first round. The most part of students (35%) stopped in the round 3. Similar results with big sample size can be found in McKelvey & Palfrey (1992)."
      ]
    },
    {
      "cell_type": "markdown",
      "metadata": {
        "colab_type": "text",
        "id": "xkMAqHh-rC7A"
      },
      "source": [
        "![alt text](https://github.com/causal-methods/Papers/raw/master/Centipedes/UPV.PNG)\n",
        "\n",
        "**Source**: Palacios-Huerta & Volij (2009)"
      ]
    },
    {
      "cell_type": "markdown",
      "metadata": {
        "colab_type": "text",
        "id": "yVUjMrKUrC-A"
      },
      "source": [
        "Let's open the data set from Palacios-Huerta & Volij (2009), containing information on how chess players played the Centipede game."
      ]
    },
    {
      "cell_type": "code",
      "metadata": {
        "colab_type": "code",
        "id": "X7fIPROg669Y",
        "colab": {
          "base_uri": "https://localhost:8080/",
          "height": 410
        },
        "outputId": "ed5319a3-8683-4489-8c21-c83c258f7884"
      },
      "source": [
        "import pandas as pd\n",
        "path = \"https://github.com/causal-methods/Data/raw/master/\" \n",
        "sheet_name = \"Data Chess Tournaments\"\n",
        "chess = pd.read_excel(path + \"Chess.xls\", sheet_name)\n",
        "chess"
      ],
      "execution_count": 1,
      "outputs": [
        {
          "output_type": "execute_result",
          "data": {
            "text/html": [
              "<div>\n",
              "<style scoped>\n",
              "    .dataframe tbody tr th:only-of-type {\n",
              "        vertical-align: middle;\n",
              "    }\n",
              "\n",
              "    .dataframe tbody tr th {\n",
              "        vertical-align: top;\n",
              "    }\n",
              "\n",
              "    .dataframe thead th {\n",
              "        text-align: right;\n",
              "    }\n",
              "</style>\n",
              "<table border=\"1\" class=\"dataframe\">\n",
              "  <thead>\n",
              "    <tr style=\"text-align: right;\">\n",
              "      <th></th>\n",
              "      <th>Tournament</th>\n",
              "      <th>Title1</th>\n",
              "      <th>ELORating1</th>\n",
              "      <th>Title2</th>\n",
              "      <th>ELORating2</th>\n",
              "      <th>EndNode</th>\n",
              "    </tr>\n",
              "  </thead>\n",
              "  <tbody>\n",
              "    <tr>\n",
              "      <th>0</th>\n",
              "      <td>Benasque</td>\n",
              "      <td>GM</td>\n",
              "      <td>2634</td>\n",
              "      <td>0</td>\n",
              "      <td>2079</td>\n",
              "      <td>1</td>\n",
              "    </tr>\n",
              "    <tr>\n",
              "      <th>1</th>\n",
              "      <td>Benasque</td>\n",
              "      <td>GM</td>\n",
              "      <td>2621</td>\n",
              "      <td>0</td>\n",
              "      <td>2169</td>\n",
              "      <td>1</td>\n",
              "    </tr>\n",
              "    <tr>\n",
              "      <th>2</th>\n",
              "      <td>Benasque</td>\n",
              "      <td>GM</td>\n",
              "      <td>2562</td>\n",
              "      <td>FM</td>\n",
              "      <td>2307</td>\n",
              "      <td>1</td>\n",
              "    </tr>\n",
              "    <tr>\n",
              "      <th>3</th>\n",
              "      <td>Benasque</td>\n",
              "      <td>GM</td>\n",
              "      <td>2558</td>\n",
              "      <td>0</td>\n",
              "      <td>2029</td>\n",
              "      <td>1</td>\n",
              "    </tr>\n",
              "    <tr>\n",
              "      <th>4</th>\n",
              "      <td>Benasque</td>\n",
              "      <td>GM</td>\n",
              "      <td>2521</td>\n",
              "      <td>0</td>\n",
              "      <td>2090</td>\n",
              "      <td>1</td>\n",
              "    </tr>\n",
              "    <tr>\n",
              "      <th>...</th>\n",
              "      <td>...</td>\n",
              "      <td>...</td>\n",
              "      <td>...</td>\n",
              "      <td>...</td>\n",
              "      <td>...</td>\n",
              "      <td>...</td>\n",
              "    </tr>\n",
              "    <tr>\n",
              "      <th>206</th>\n",
              "      <td>Sestao</td>\n",
              "      <td>GM</td>\n",
              "      <td>2501</td>\n",
              "      <td>0</td>\n",
              "      <td>2019</td>\n",
              "      <td>1</td>\n",
              "    </tr>\n",
              "    <tr>\n",
              "      <th>207</th>\n",
              "      <td>Sestao</td>\n",
              "      <td>0</td>\n",
              "      <td>2050</td>\n",
              "      <td>0</td>\n",
              "      <td>2240</td>\n",
              "      <td>2</td>\n",
              "    </tr>\n",
              "    <tr>\n",
              "      <th>208</th>\n",
              "      <td>Sestao</td>\n",
              "      <td>0</td>\n",
              "      <td>2020</td>\n",
              "      <td>0</td>\n",
              "      <td>2004</td>\n",
              "      <td>1</td>\n",
              "    </tr>\n",
              "    <tr>\n",
              "      <th>209</th>\n",
              "      <td>Sestao</td>\n",
              "      <td>0</td>\n",
              "      <td>2133</td>\n",
              "      <td>GM</td>\n",
              "      <td>2596</td>\n",
              "      <td>1</td>\n",
              "    </tr>\n",
              "    <tr>\n",
              "      <th>210</th>\n",
              "      <td>Sestao</td>\n",
              "      <td>0</td>\n",
              "      <td>2070</td>\n",
              "      <td>FM</td>\n",
              "      <td>2175</td>\n",
              "      <td>1</td>\n",
              "    </tr>\n",
              "  </tbody>\n",
              "</table>\n",
              "<p>211 rows × 6 columns</p>\n",
              "</div>"
            ],
            "text/plain": [
              "    Tournament Title1  ELORating1 Title2  ELORating2  EndNode\n",
              "0     Benasque     GM        2634      0        2079        1\n",
              "1     Benasque     GM        2621      0        2169        1\n",
              "2     Benasque     GM        2562     FM        2307        1\n",
              "3     Benasque     GM        2558      0        2029        1\n",
              "4     Benasque     GM        2521      0        2090        1\n",
              "..         ...    ...         ...    ...         ...      ...\n",
              "206     Sestao     GM        2501      0        2019        1\n",
              "207     Sestao      0        2050      0        2240        2\n",
              "208     Sestao      0        2020      0        2004        1\n",
              "209     Sestao      0        2133     GM        2596        1\n",
              "210     Sestao      0        2070     FM        2175        1\n",
              "\n",
              "[211 rows x 6 columns]"
            ]
          },
          "metadata": {
            "tags": []
          },
          "execution_count": 1
        }
      ]
    },
    {
      "cell_type": "markdown",
      "metadata": {
        "colab_type": "text",
        "id": "NJ4lIHmMErZ5"
      },
      "source": [
        "Let's count the number of chess players in each category. In the sample, we can see 26 Grandmasters (GM), 29 International Masters (IM), and 15 Federation Masters (FM). "
      ]
    },
    {
      "cell_type": "code",
      "metadata": {
        "colab_type": "code",
        "id": "0kOe3JSq67AO",
        "colab": {
          "base_uri": "https://localhost:8080/",
          "height": 175
        },
        "outputId": "e54e944e-b16c-4ed9-adc8-553cbbf5060e"
      },
      "source": [
        "chess['Title1'].value_counts() "
      ],
      "execution_count": 2,
      "outputs": [
        {
          "output_type": "execute_result",
          "data": {
            "text/plain": [
              "0      130\n",
              "IM      29\n",
              "GM      26\n",
              "FM      15\n",
              "WGM      6\n",
              "WIM      3\n",
              "CM       1\n",
              "WFM      1\n",
              "Name: Title1, dtype: int64"
            ]
          },
          "metadata": {
            "tags": []
          },
          "execution_count": 2
        }
      ]
    },
    {
      "cell_type": "markdown",
      "metadata": {
        "colab_type": "text",
        "id": "r4WrCgHhGLgW"
      },
      "source": [
        "Let's combine all other chess players under the label \"Other\". "
      ]
    },
    {
      "cell_type": "code",
      "metadata": {
        "colab_type": "code",
        "id": "fMzsGuy8IUIA",
        "colab": {}
      },
      "source": [
        "dictionary = {    'Title1':\n",
        "               {    0: \"Other\",\n",
        "                'WGM': \"Other\", \n",
        "                'WIM': \"Other\", \n",
        "                'WFM': \"Other\",\n",
        "                 'CM': \"Other\" }}\n",
        "\n",
        "chess.replace(dictionary, inplace=True)"
      ],
      "execution_count": 3,
      "outputs": []
    },
    {
      "cell_type": "markdown",
      "metadata": {
        "colab_type": "text",
        "id": "7fyPeURYGrLM"
      },
      "source": [
        "We have 141 chess players in the category \"Other\"."
      ]
    },
    {
      "cell_type": "code",
      "metadata": {
        "colab_type": "code",
        "id": "6M2KzPTVAugy",
        "colab": {
          "base_uri": "https://localhost:8080/",
          "height": 105
        },
        "outputId": "34bc4167-59d7-4e28-8125-4e27de5f8488"
      },
      "source": [
        "chess['Title1'].value_counts() "
      ],
      "execution_count": 4,
      "outputs": [
        {
          "output_type": "execute_result",
          "data": {
            "text/plain": [
              "Other    141\n",
              "IM        29\n",
              "GM        26\n",
              "FM        15\n",
              "Name: Title1, dtype: int64"
            ]
          },
          "metadata": {
            "tags": []
          },
          "execution_count": 4
        }
      ]
    },
    {
      "cell_type": "markdown",
      "metadata": {
        "colab_type": "text",
        "id": "x6QPOdkBI4_t"
      },
      "source": [
        "Let's focus on the title and rating of the chess players marked by 1. Let's ignore the title and rating of their opponents, that is, chess players marked by 2. "
      ]
    },
    {
      "cell_type": "code",
      "metadata": {
        "colab_type": "code",
        "id": "mbn_Ij99ft7s",
        "colab": {
          "base_uri": "https://localhost:8080/",
          "height": 410
        },
        "outputId": "44e19b24-b395-4d1f-ceae-857dd187f038"
      },
      "source": [
        "title_rating1 = chess.filter([\"Title1\", \"ELORating1\"])\n",
        "title_rating1 "
      ],
      "execution_count": 5,
      "outputs": [
        {
          "output_type": "execute_result",
          "data": {
            "text/html": [
              "<div>\n",
              "<style scoped>\n",
              "    .dataframe tbody tr th:only-of-type {\n",
              "        vertical-align: middle;\n",
              "    }\n",
              "\n",
              "    .dataframe tbody tr th {\n",
              "        vertical-align: top;\n",
              "    }\n",
              "\n",
              "    .dataframe thead th {\n",
              "        text-align: right;\n",
              "    }\n",
              "</style>\n",
              "<table border=\"1\" class=\"dataframe\">\n",
              "  <thead>\n",
              "    <tr style=\"text-align: right;\">\n",
              "      <th></th>\n",
              "      <th>Title1</th>\n",
              "      <th>ELORating1</th>\n",
              "    </tr>\n",
              "  </thead>\n",
              "  <tbody>\n",
              "    <tr>\n",
              "      <th>0</th>\n",
              "      <td>GM</td>\n",
              "      <td>2634</td>\n",
              "    </tr>\n",
              "    <tr>\n",
              "      <th>1</th>\n",
              "      <td>GM</td>\n",
              "      <td>2621</td>\n",
              "    </tr>\n",
              "    <tr>\n",
              "      <th>2</th>\n",
              "      <td>GM</td>\n",
              "      <td>2562</td>\n",
              "    </tr>\n",
              "    <tr>\n",
              "      <th>3</th>\n",
              "      <td>GM</td>\n",
              "      <td>2558</td>\n",
              "    </tr>\n",
              "    <tr>\n",
              "      <th>4</th>\n",
              "      <td>GM</td>\n",
              "      <td>2521</td>\n",
              "    </tr>\n",
              "    <tr>\n",
              "      <th>...</th>\n",
              "      <td>...</td>\n",
              "      <td>...</td>\n",
              "    </tr>\n",
              "    <tr>\n",
              "      <th>206</th>\n",
              "      <td>GM</td>\n",
              "      <td>2501</td>\n",
              "    </tr>\n",
              "    <tr>\n",
              "      <th>207</th>\n",
              "      <td>Other</td>\n",
              "      <td>2050</td>\n",
              "    </tr>\n",
              "    <tr>\n",
              "      <th>208</th>\n",
              "      <td>Other</td>\n",
              "      <td>2020</td>\n",
              "    </tr>\n",
              "    <tr>\n",
              "      <th>209</th>\n",
              "      <td>Other</td>\n",
              "      <td>2133</td>\n",
              "    </tr>\n",
              "    <tr>\n",
              "      <th>210</th>\n",
              "      <td>Other</td>\n",
              "      <td>2070</td>\n",
              "    </tr>\n",
              "  </tbody>\n",
              "</table>\n",
              "<p>211 rows × 2 columns</p>\n",
              "</div>"
            ],
            "text/plain": [
              "    Title1  ELORating1\n",
              "0       GM        2634\n",
              "1       GM        2621\n",
              "2       GM        2562\n",
              "3       GM        2558\n",
              "4       GM        2521\n",
              "..     ...         ...\n",
              "206     GM        2501\n",
              "207  Other        2050\n",
              "208  Other        2020\n",
              "209  Other        2133\n",
              "210  Other        2070\n",
              "\n",
              "[211 rows x 2 columns]"
            ]
          },
          "metadata": {
            "tags": []
          },
          "execution_count": 5
        }
      ]
    },
    {
      "cell_type": "markdown",
      "metadata": {
        "colab_type": "text",
        "id": "PAKWh41iJbfA"
      },
      "source": [
        "We can see that the average rating of Grandmasters is 2513, while International Masters has average rating of 2411. \n",
        "\n",
        "Note that rating is a great predictor of who will win a chess match.\n",
        "\n",
        "It is extremely unlikely that a chess player in the category \"Other\" beats a Grandmaster.\n",
        "\n",
        "The rating can be understood as a proxy for  rationality and backward induction."
      ]
    },
    {
      "cell_type": "code",
      "metadata": {
        "colab_type": "code",
        "id": "bopQ521sAusm",
        "colab": {
          "base_uri": "https://localhost:8080/",
          "height": 199
        },
        "outputId": "adaabadc-89aa-47ec-bc9f-19bcf97ce143"
      },
      "source": [
        "# Round 2 decimals\n",
        "pd.set_option('precision', 2)\n",
        "\n",
        "import numpy as np\n",
        "title_rating1.groupby('Title1').agg(np.mean)"
      ],
      "execution_count": 6,
      "outputs": [
        {
          "output_type": "execute_result",
          "data": {
            "text/html": [
              "<div>\n",
              "<style scoped>\n",
              "    .dataframe tbody tr th:only-of-type {\n",
              "        vertical-align: middle;\n",
              "    }\n",
              "\n",
              "    .dataframe tbody tr th {\n",
              "        vertical-align: top;\n",
              "    }\n",
              "\n",
              "    .dataframe thead th {\n",
              "        text-align: right;\n",
              "    }\n",
              "</style>\n",
              "<table border=\"1\" class=\"dataframe\">\n",
              "  <thead>\n",
              "    <tr style=\"text-align: right;\">\n",
              "      <th></th>\n",
              "      <th>ELORating1</th>\n",
              "    </tr>\n",
              "    <tr>\n",
              "      <th>Title1</th>\n",
              "      <th></th>\n",
              "    </tr>\n",
              "  </thead>\n",
              "  <tbody>\n",
              "    <tr>\n",
              "      <th>FM</th>\n",
              "      <td>2324.13</td>\n",
              "    </tr>\n",
              "    <tr>\n",
              "      <th>GM</th>\n",
              "      <td>2512.96</td>\n",
              "    </tr>\n",
              "    <tr>\n",
              "      <th>IM</th>\n",
              "      <td>2411.69</td>\n",
              "    </tr>\n",
              "    <tr>\n",
              "      <th>Other</th>\n",
              "      <td>2144.60</td>\n",
              "    </tr>\n",
              "  </tbody>\n",
              "</table>\n",
              "</div>"
            ],
            "text/plain": [
              "        ELORating1\n",
              "Title1            \n",
              "FM         2324.13\n",
              "GM         2512.96\n",
              "IM         2411.69\n",
              "Other      2144.60"
            ]
          },
          "metadata": {
            "tags": []
          },
          "execution_count": 6
        }
      ]
    },
    {
      "cell_type": "markdown",
      "metadata": {
        "colab_type": "text",
        "id": "qmRiCjUeNxD8"
      },
      "source": [
        "Let's restrict our analysis to only Grandmasters."
      ]
    },
    {
      "cell_type": "code",
      "metadata": {
        "colab_type": "code",
        "id": "8uHDKJC3GDsz",
        "colab": {
          "base_uri": "https://localhost:8080/",
          "height": 836
        },
        "outputId": "aa4212e6-6d6b-4011-f5df-87f9f51c144c"
      },
      "source": [
        "grandmasters = chess[chess['Title1'] == \"GM\"]\n",
        "grandmasters"
      ],
      "execution_count": 7,
      "outputs": [
        {
          "output_type": "execute_result",
          "data": {
            "text/html": [
              "<div>\n",
              "<style scoped>\n",
              "    .dataframe tbody tr th:only-of-type {\n",
              "        vertical-align: middle;\n",
              "    }\n",
              "\n",
              "    .dataframe tbody tr th {\n",
              "        vertical-align: top;\n",
              "    }\n",
              "\n",
              "    .dataframe thead th {\n",
              "        text-align: right;\n",
              "    }\n",
              "</style>\n",
              "<table border=\"1\" class=\"dataframe\">\n",
              "  <thead>\n",
              "    <tr style=\"text-align: right;\">\n",
              "      <th></th>\n",
              "      <th>Tournament</th>\n",
              "      <th>Title1</th>\n",
              "      <th>ELORating1</th>\n",
              "      <th>Title2</th>\n",
              "      <th>ELORating2</th>\n",
              "      <th>EndNode</th>\n",
              "    </tr>\n",
              "  </thead>\n",
              "  <tbody>\n",
              "    <tr>\n",
              "      <th>0</th>\n",
              "      <td>Benasque</td>\n",
              "      <td>GM</td>\n",
              "      <td>2634</td>\n",
              "      <td>0</td>\n",
              "      <td>2079</td>\n",
              "      <td>1</td>\n",
              "    </tr>\n",
              "    <tr>\n",
              "      <th>1</th>\n",
              "      <td>Benasque</td>\n",
              "      <td>GM</td>\n",
              "      <td>2621</td>\n",
              "      <td>0</td>\n",
              "      <td>2169</td>\n",
              "      <td>1</td>\n",
              "    </tr>\n",
              "    <tr>\n",
              "      <th>2</th>\n",
              "      <td>Benasque</td>\n",
              "      <td>GM</td>\n",
              "      <td>2562</td>\n",
              "      <td>FM</td>\n",
              "      <td>2307</td>\n",
              "      <td>1</td>\n",
              "    </tr>\n",
              "    <tr>\n",
              "      <th>3</th>\n",
              "      <td>Benasque</td>\n",
              "      <td>GM</td>\n",
              "      <td>2558</td>\n",
              "      <td>0</td>\n",
              "      <td>2029</td>\n",
              "      <td>1</td>\n",
              "    </tr>\n",
              "    <tr>\n",
              "      <th>4</th>\n",
              "      <td>Benasque</td>\n",
              "      <td>GM</td>\n",
              "      <td>2521</td>\n",
              "      <td>0</td>\n",
              "      <td>2090</td>\n",
              "      <td>1</td>\n",
              "    </tr>\n",
              "    <tr>\n",
              "      <th>5</th>\n",
              "      <td>Benasque</td>\n",
              "      <td>GM</td>\n",
              "      <td>2521</td>\n",
              "      <td>FM</td>\n",
              "      <td>2342</td>\n",
              "      <td>1</td>\n",
              "    </tr>\n",
              "    <tr>\n",
              "      <th>7</th>\n",
              "      <td>Benasque</td>\n",
              "      <td>GM</td>\n",
              "      <td>2510</td>\n",
              "      <td>0</td>\n",
              "      <td>2018</td>\n",
              "      <td>1</td>\n",
              "    </tr>\n",
              "    <tr>\n",
              "      <th>8</th>\n",
              "      <td>Benasque</td>\n",
              "      <td>GM</td>\n",
              "      <td>2507</td>\n",
              "      <td>0</td>\n",
              "      <td>2043</td>\n",
              "      <td>1</td>\n",
              "    </tr>\n",
              "    <tr>\n",
              "      <th>9</th>\n",
              "      <td>Benasque</td>\n",
              "      <td>GM</td>\n",
              "      <td>2500</td>\n",
              "      <td>0</td>\n",
              "      <td>2097</td>\n",
              "      <td>1</td>\n",
              "    </tr>\n",
              "    <tr>\n",
              "      <th>10</th>\n",
              "      <td>Benasque</td>\n",
              "      <td>GM</td>\n",
              "      <td>2495</td>\n",
              "      <td>0</td>\n",
              "      <td>2043</td>\n",
              "      <td>1</td>\n",
              "    </tr>\n",
              "    <tr>\n",
              "      <th>12</th>\n",
              "      <td>Benasque</td>\n",
              "      <td>GM</td>\n",
              "      <td>2488</td>\n",
              "      <td>0</td>\n",
              "      <td>2045</td>\n",
              "      <td>1</td>\n",
              "    </tr>\n",
              "    <tr>\n",
              "      <th>13</th>\n",
              "      <td>Benasque</td>\n",
              "      <td>GM</td>\n",
              "      <td>2488</td>\n",
              "      <td>GM</td>\n",
              "      <td>2514</td>\n",
              "      <td>1</td>\n",
              "    </tr>\n",
              "    <tr>\n",
              "      <th>15</th>\n",
              "      <td>Benasque</td>\n",
              "      <td>GM</td>\n",
              "      <td>2485</td>\n",
              "      <td>0</td>\n",
              "      <td>2092</td>\n",
              "      <td>1</td>\n",
              "    </tr>\n",
              "    <tr>\n",
              "      <th>16</th>\n",
              "      <td>Benasque</td>\n",
              "      <td>GM</td>\n",
              "      <td>2482</td>\n",
              "      <td>0</td>\n",
              "      <td>2040</td>\n",
              "      <td>1</td>\n",
              "    </tr>\n",
              "    <tr>\n",
              "      <th>18</th>\n",
              "      <td>Benasque</td>\n",
              "      <td>GM</td>\n",
              "      <td>2475</td>\n",
              "      <td>0</td>\n",
              "      <td>2229</td>\n",
              "      <td>1</td>\n",
              "    </tr>\n",
              "    <tr>\n",
              "      <th>19</th>\n",
              "      <td>Benasque</td>\n",
              "      <td>GM</td>\n",
              "      <td>2473</td>\n",
              "      <td>0</td>\n",
              "      <td>2045</td>\n",
              "      <td>1</td>\n",
              "    </tr>\n",
              "    <tr>\n",
              "      <th>35</th>\n",
              "      <td>Benasque</td>\n",
              "      <td>GM</td>\n",
              "      <td>2378</td>\n",
              "      <td>0</td>\n",
              "      <td>2248</td>\n",
              "      <td>1</td>\n",
              "    </tr>\n",
              "    <tr>\n",
              "      <th>156</th>\n",
              "      <td>Leon</td>\n",
              "      <td>GM</td>\n",
              "      <td>2527</td>\n",
              "      <td>0</td>\n",
              "      <td>2200</td>\n",
              "      <td>1</td>\n",
              "    </tr>\n",
              "    <tr>\n",
              "      <th>168</th>\n",
              "      <td>Sestao</td>\n",
              "      <td>GM</td>\n",
              "      <td>2671</td>\n",
              "      <td>0</td>\n",
              "      <td>2086</td>\n",
              "      <td>1</td>\n",
              "    </tr>\n",
              "    <tr>\n",
              "      <th>170</th>\n",
              "      <td>Sestao</td>\n",
              "      <td>GM</td>\n",
              "      <td>2495</td>\n",
              "      <td>0</td>\n",
              "      <td>2094</td>\n",
              "      <td>1</td>\n",
              "    </tr>\n",
              "    <tr>\n",
              "      <th>172</th>\n",
              "      <td>Sestao</td>\n",
              "      <td>GM</td>\n",
              "      <td>2532</td>\n",
              "      <td>0</td>\n",
              "      <td>2075</td>\n",
              "      <td>1</td>\n",
              "    </tr>\n",
              "    <tr>\n",
              "      <th>174</th>\n",
              "      <td>Sestao</td>\n",
              "      <td>GM</td>\n",
              "      <td>2501</td>\n",
              "      <td>0</td>\n",
              "      <td>2005</td>\n",
              "      <td>1</td>\n",
              "    </tr>\n",
              "    <tr>\n",
              "      <th>176</th>\n",
              "      <td>Sestao</td>\n",
              "      <td>GM</td>\n",
              "      <td>2516</td>\n",
              "      <td>GM</td>\n",
              "      <td>2501</td>\n",
              "      <td>1</td>\n",
              "    </tr>\n",
              "    <tr>\n",
              "      <th>177</th>\n",
              "      <td>Sestao</td>\n",
              "      <td>GM</td>\n",
              "      <td>2444</td>\n",
              "      <td>0</td>\n",
              "      <td>2136</td>\n",
              "      <td>1</td>\n",
              "    </tr>\n",
              "    <tr>\n",
              "      <th>193</th>\n",
              "      <td>Sestao</td>\n",
              "      <td>GM</td>\n",
              "      <td>2452</td>\n",
              "      <td>0</td>\n",
              "      <td>2027</td>\n",
              "      <td>1</td>\n",
              "    </tr>\n",
              "    <tr>\n",
              "      <th>206</th>\n",
              "      <td>Sestao</td>\n",
              "      <td>GM</td>\n",
              "      <td>2501</td>\n",
              "      <td>0</td>\n",
              "      <td>2019</td>\n",
              "      <td>1</td>\n",
              "    </tr>\n",
              "  </tbody>\n",
              "</table>\n",
              "</div>"
            ],
            "text/plain": [
              "    Tournament Title1  ELORating1 Title2  ELORating2  EndNode\n",
              "0     Benasque     GM        2634      0        2079        1\n",
              "1     Benasque     GM        2621      0        2169        1\n",
              "2     Benasque     GM        2562     FM        2307        1\n",
              "3     Benasque     GM        2558      0        2029        1\n",
              "4     Benasque     GM        2521      0        2090        1\n",
              "5     Benasque     GM        2521     FM        2342        1\n",
              "7     Benasque     GM        2510      0        2018        1\n",
              "8     Benasque     GM        2507      0        2043        1\n",
              "9     Benasque     GM        2500      0        2097        1\n",
              "10    Benasque     GM        2495      0        2043        1\n",
              "12    Benasque     GM        2488      0        2045        1\n",
              "13    Benasque     GM        2488     GM        2514        1\n",
              "15    Benasque     GM        2485      0        2092        1\n",
              "16    Benasque     GM        2482      0        2040        1\n",
              "18    Benasque     GM        2475      0        2229        1\n",
              "19    Benasque     GM        2473      0        2045        1\n",
              "35    Benasque     GM        2378      0        2248        1\n",
              "156       Leon     GM        2527      0        2200        1\n",
              "168     Sestao     GM        2671      0        2086        1\n",
              "170     Sestao     GM        2495      0        2094        1\n",
              "172     Sestao     GM        2532      0        2075        1\n",
              "174     Sestao     GM        2501      0        2005        1\n",
              "176     Sestao     GM        2516     GM        2501        1\n",
              "177     Sestao     GM        2444      0        2136        1\n",
              "193     Sestao     GM        2452      0        2027        1\n",
              "206     Sestao     GM        2501      0        2019        1"
            ]
          },
          "metadata": {
            "tags": []
          },
          "execution_count": 7
        }
      ]
    },
    {
      "cell_type": "markdown",
      "metadata": {
        "colab_type": "text",
        "id": "GMm2qxtRN9eJ"
      },
      "source": [
        "All the 26 Grandmasters stopped the Centipede game in the first round. They are the Homo Economicus described in the standard economics textbooks. \n",
        "\n",
        "Unfortunately, in a population of 7.8 billion people, we have only 1721 Grandmasters according with the International Chess Federation (FIDE). \n",
        "\n",
        "[List of Grandmasters accessed on 7/13/2020](https://ratings.fide.com/advaction.phtml?idcode=&name=&title=g&other_title=&country=&sex=&srating=0&erating=3000&birthday=&radio=rating&ex_rated=&line=desc&inactiv=&offset=1700)"
      ]
    },
    {
      "cell_type": "code",
      "metadata": {
        "colab_type": "code",
        "id": "gACthWNTGDvV",
        "colab": {
          "base_uri": "https://localhost:8080/",
          "height": 70
        },
        "outputId": "a76e7b9f-b79f-44b2-858f-7479b1fad73e"
      },
      "source": [
        "grandmasters.groupby('EndNode').size()"
      ],
      "execution_count": 8,
      "outputs": [
        {
          "output_type": "execute_result",
          "data": {
            "text/plain": [
              "EndNode\n",
              "1    26\n",
              "dtype: int64"
            ]
          },
          "metadata": {
            "tags": []
          },
          "execution_count": 8
        }
      ]
    },
    {
      "cell_type": "markdown",
      "metadata": {
        "colab_type": "text",
        "id": "LBi25enVPPdb"
      },
      "source": [
        "Let's check the International Masters (IM)."
      ]
    },
    {
      "cell_type": "code",
      "metadata": {
        "colab_type": "code",
        "id": "fYEj5QqeGDx-",
        "colab": {
          "base_uri": "https://localhost:8080/",
          "height": 169
        },
        "outputId": "c832bd97-ba69-46eb-ceba-5e1fd9c8a3f6"
      },
      "source": [
        "international_master = chess[chess['Title1'] == \"IM\"]\n",
        "\n",
        "# Return only 4 observations\n",
        "international_master.head(4)"
      ],
      "execution_count": 9,
      "outputs": [
        {
          "output_type": "execute_result",
          "data": {
            "text/html": [
              "<div>\n",
              "<style scoped>\n",
              "    .dataframe tbody tr th:only-of-type {\n",
              "        vertical-align: middle;\n",
              "    }\n",
              "\n",
              "    .dataframe tbody tr th {\n",
              "        vertical-align: top;\n",
              "    }\n",
              "\n",
              "    .dataframe thead th {\n",
              "        text-align: right;\n",
              "    }\n",
              "</style>\n",
              "<table border=\"1\" class=\"dataframe\">\n",
              "  <thead>\n",
              "    <tr style=\"text-align: right;\">\n",
              "      <th></th>\n",
              "      <th>Tournament</th>\n",
              "      <th>Title1</th>\n",
              "      <th>ELORating1</th>\n",
              "      <th>Title2</th>\n",
              "      <th>ELORating2</th>\n",
              "      <th>EndNode</th>\n",
              "    </tr>\n",
              "  </thead>\n",
              "  <tbody>\n",
              "    <tr>\n",
              "      <th>6</th>\n",
              "      <td>Benasque</td>\n",
              "      <td>IM</td>\n",
              "      <td>2521</td>\n",
              "      <td>0</td>\n",
              "      <td>2179</td>\n",
              "      <td>1</td>\n",
              "    </tr>\n",
              "    <tr>\n",
              "      <th>11</th>\n",
              "      <td>Benasque</td>\n",
              "      <td>IM</td>\n",
              "      <td>2492</td>\n",
              "      <td>0</td>\n",
              "      <td>2093</td>\n",
              "      <td>1</td>\n",
              "    </tr>\n",
              "    <tr>\n",
              "      <th>14</th>\n",
              "      <td>Benasque</td>\n",
              "      <td>IM</td>\n",
              "      <td>2487</td>\n",
              "      <td>IM</td>\n",
              "      <td>2474</td>\n",
              "      <td>2</td>\n",
              "    </tr>\n",
              "    <tr>\n",
              "      <th>17</th>\n",
              "      <td>Benasque</td>\n",
              "      <td>IM</td>\n",
              "      <td>2479</td>\n",
              "      <td>0</td>\n",
              "      <td>2085</td>\n",
              "      <td>1</td>\n",
              "    </tr>\n",
              "  </tbody>\n",
              "</table>\n",
              "</div>"
            ],
            "text/plain": [
              "   Tournament Title1  ELORating1 Title2  ELORating2  EndNode\n",
              "6    Benasque     IM        2521      0        2179        1\n",
              "11   Benasque     IM        2492      0        2093        1\n",
              "14   Benasque     IM        2487     IM        2474        2\n",
              "17   Benasque     IM        2479      0        2085        1"
            ]
          },
          "metadata": {
            "tags": []
          },
          "execution_count": 9
        }
      ]
    },
    {
      "cell_type": "markdown",
      "metadata": {
        "colab_type": "text",
        "id": "tqZ7cdR2PnsZ"
      },
      "source": [
        "Not all International Masters stopped in the first round. \n",
        "\n",
        "5 International Masters stopped in the second round, and 2 in the third round."
      ]
    },
    {
      "cell_type": "code",
      "metadata": {
        "colab_type": "code",
        "id": "BDKF9u_9goQ2",
        "colab": {
          "base_uri": "https://localhost:8080/",
          "height": 105
        },
        "outputId": "322f6a7b-885e-4831-d706-34fdef60a4be"
      },
      "source": [
        "node_IM = international_master.groupby('EndNode').size()\n",
        "node_IM"
      ],
      "execution_count": 10,
      "outputs": [
        {
          "output_type": "execute_result",
          "data": {
            "text/plain": [
              "EndNode\n",
              "1    22\n",
              "2     5\n",
              "3     2\n",
              "dtype: int64"
            ]
          },
          "metadata": {
            "tags": []
          },
          "execution_count": 10
        }
      ]
    },
    {
      "cell_type": "markdown",
      "metadata": {
        "colab_type": "text",
        "id": "lcC5En3FQEsG"
      },
      "source": [
        "These 5 International Masters that stopped in the second round represents 17% of the total numbers of International Masters.\n",
        "\n",
        "Only 76% of International Masters acted as predicted by the neoclassical economic theory.\n"
      ]
    },
    {
      "cell_type": "code",
      "metadata": {
        "colab_type": "code",
        "id": "SFr0VlFsgoT4",
        "colab": {
          "base_uri": "https://localhost:8080/",
          "height": 105
        },
        "outputId": "80cc621c-0425-4f35-e81b-0f14a767b3dc"
      },
      "source": [
        "length_IM = len(international_master)\n",
        "prop_IM = node_IM / length_IM\n",
        "prop_IM"
      ],
      "execution_count": 11,
      "outputs": [
        {
          "output_type": "execute_result",
          "data": {
            "text/plain": [
              "EndNode\n",
              "1    0.76\n",
              "2    0.17\n",
              "3    0.07\n",
              "dtype: float64"
            ]
          },
          "metadata": {
            "tags": []
          },
          "execution_count": 11
        }
      ]
    },
    {
      "cell_type": "markdown",
      "metadata": {
        "colab_type": "text",
        "id": "BeYEo499lEQX"
      },
      "source": [
        "Let’s apply the same procedures to the Federation Masters. \n",
        "\n",
        "The proportion of Federation Masters that stopped at each node is like the International Masters. \n",
        " "
      ]
    },
    {
      "cell_type": "code",
      "metadata": {
        "colab_type": "code",
        "id": "mNl6-qDCDn1X",
        "colab": {
          "base_uri": "https://localhost:8080/",
          "height": 105
        },
        "outputId": "5adcd35e-dd00-41c4-a922-0aa2e977cc1b"
      },
      "source": [
        "federation_master = chess[chess['Title1'] == \"FM\"]\n",
        "\n",
        "node_FM = federation_master.groupby('EndNode').size()\n",
        "length_FM = len(federation_master)\n",
        "\n",
        "prop_FM = node_FM / length_FM\n",
        "prop_FM"
      ],
      "execution_count": 12,
      "outputs": [
        {
          "output_type": "execute_result",
          "data": {
            "text/plain": [
              "EndNode\n",
              "1    0.73\n",
              "2    0.20\n",
              "3    0.07\n",
              "dtype: float64"
            ]
          },
          "metadata": {
            "tags": []
          },
          "execution_count": 12
        }
      ]
    },
    {
      "cell_type": "markdown",
      "metadata": {
        "colab_type": "text",
        "id": "tKBhPQ4YnTYf"
      },
      "source": [
        "Let's put the previous descriptive statistics in a bar chart.\n",
        "\n",
        "It will be easier to visualize the proportion of chess players at each node that ended the Centipedes game.\n",
        "\n",
        "The bar chart suggests that Grandmasters plays Centipedes game differently from International Masters and Federation Masters. However, it looks that International Masters and Federation Masters play centipede game in a similar way. "
      ]
    },
    {
      "cell_type": "code",
      "metadata": {
        "colab_type": "code",
        "id": "7aIMB4CPFubp",
        "colab": {
          "base_uri": "https://localhost:8080/",
          "height": 542
        },
        "outputId": "edc7fca9-e4f2-4ed7-f634-f58539ed9f8d"
      },
      "source": [
        "import plotly.graph_objects as go\n",
        "node = ['Node 1', 'Node 2', 'Node 3']\n",
        "\n",
        "fig = go.Figure(data=[\n",
        "    go.Bar(name='Grandmasters', x=node, y=[1,0,0]),\n",
        "    go.Bar(name='International Masters', x=node, y=prop_IM),\n",
        "    go.Bar(name='Federation Masters', x=node, y=prop_FM) ])\n",
        "\n",
        "fig.update_layout(barmode='group',\n",
        "  title_text = 'Share of Chess Players that Ended Centipede Game at Each Node',\n",
        "  font=dict(size=21) )\n",
        "\n",
        "fig.show()"
      ],
      "execution_count": 13,
      "outputs": [
        {
          "output_type": "display_data",
          "data": {
            "text/html": [
              "<html>\n",
              "<head><meta charset=\"utf-8\" /></head>\n",
              "<body>\n",
              "    <div>\n",
              "            <script src=\"https://cdnjs.cloudflare.com/ajax/libs/mathjax/2.7.5/MathJax.js?config=TeX-AMS-MML_SVG\"></script><script type=\"text/javascript\">if (window.MathJax) {MathJax.Hub.Config({SVG: {font: \"STIX-Web\"}});}</script>\n",
              "                <script type=\"text/javascript\">window.PlotlyConfig = {MathJaxConfig: 'local'};</script>\n",
              "        <script src=\"https://cdn.plot.ly/plotly-latest.min.js\"></script>    \n",
              "            <div id=\"34b7aff6-0b9b-4ad0-bb72-a0e3bcaf9d9b\" class=\"plotly-graph-div\" style=\"height:525px; width:100%;\"></div>\n",
              "            <script type=\"text/javascript\">\n",
              "                \n",
              "                    window.PLOTLYENV=window.PLOTLYENV || {};\n",
              "                    \n",
              "                if (document.getElementById(\"34b7aff6-0b9b-4ad0-bb72-a0e3bcaf9d9b\")) {\n",
              "                    Plotly.newPlot(\n",
              "                        '34b7aff6-0b9b-4ad0-bb72-a0e3bcaf9d9b',\n",
              "                        [{\"name\": \"Grandmasters\", \"type\": \"bar\", \"x\": [\"Node 1\", \"Node 2\", \"Node 3\"], \"y\": [1, 0, 0]}, {\"name\": \"International Masters\", \"type\": \"bar\", \"x\": [\"Node 1\", \"Node 2\", \"Node 3\"], \"y\": [0.7586206896551724, 0.1724137931034483, 0.06896551724137931]}, {\"name\": \"Federation Masters\", \"type\": \"bar\", \"x\": [\"Node 1\", \"Node 2\", \"Node 3\"], \"y\": [0.7333333333333333, 0.2, 0.06666666666666667]}],\n",
              "                        {\"barmode\": \"group\", \"font\": {\"size\": 21}, \"template\": {\"data\": {\"bar\": [{\"error_x\": {\"color\": \"#2a3f5f\"}, \"error_y\": {\"color\": \"#2a3f5f\"}, \"marker\": {\"line\": {\"color\": \"#E5ECF6\", \"width\": 0.5}}, \"type\": \"bar\"}], \"barpolar\": [{\"marker\": {\"line\": {\"color\": \"#E5ECF6\", \"width\": 0.5}}, \"type\": \"barpolar\"}], \"carpet\": [{\"aaxis\": {\"endlinecolor\": \"#2a3f5f\", \"gridcolor\": \"white\", \"linecolor\": \"white\", \"minorgridcolor\": \"white\", \"startlinecolor\": \"#2a3f5f\"}, \"baxis\": {\"endlinecolor\": \"#2a3f5f\", \"gridcolor\": \"white\", \"linecolor\": \"white\", \"minorgridcolor\": \"white\", \"startlinecolor\": \"#2a3f5f\"}, \"type\": \"carpet\"}], \"choropleth\": [{\"colorbar\": {\"outlinewidth\": 0, \"ticks\": \"\"}, \"type\": \"choropleth\"}], \"contour\": [{\"colorbar\": {\"outlinewidth\": 0, \"ticks\": \"\"}, \"colorscale\": [[0.0, \"#0d0887\"], [0.1111111111111111, \"#46039f\"], [0.2222222222222222, \"#7201a8\"], [0.3333333333333333, \"#9c179e\"], [0.4444444444444444, \"#bd3786\"], [0.5555555555555556, \"#d8576b\"], [0.6666666666666666, \"#ed7953\"], [0.7777777777777778, \"#fb9f3a\"], [0.8888888888888888, \"#fdca26\"], [1.0, \"#f0f921\"]], \"type\": \"contour\"}], \"contourcarpet\": [{\"colorbar\": {\"outlinewidth\": 0, \"ticks\": \"\"}, \"type\": \"contourcarpet\"}], \"heatmap\": [{\"colorbar\": {\"outlinewidth\": 0, \"ticks\": \"\"}, \"colorscale\": [[0.0, \"#0d0887\"], [0.1111111111111111, \"#46039f\"], [0.2222222222222222, \"#7201a8\"], [0.3333333333333333, \"#9c179e\"], [0.4444444444444444, \"#bd3786\"], [0.5555555555555556, \"#d8576b\"], [0.6666666666666666, \"#ed7953\"], [0.7777777777777778, \"#fb9f3a\"], [0.8888888888888888, \"#fdca26\"], [1.0, \"#f0f921\"]], \"type\": \"heatmap\"}], \"heatmapgl\": [{\"colorbar\": {\"outlinewidth\": 0, \"ticks\": \"\"}, \"colorscale\": [[0.0, \"#0d0887\"], [0.1111111111111111, \"#46039f\"], [0.2222222222222222, \"#7201a8\"], [0.3333333333333333, \"#9c179e\"], [0.4444444444444444, \"#bd3786\"], [0.5555555555555556, \"#d8576b\"], [0.6666666666666666, \"#ed7953\"], [0.7777777777777778, \"#fb9f3a\"], [0.8888888888888888, \"#fdca26\"], [1.0, \"#f0f921\"]], \"type\": \"heatmapgl\"}], \"histogram\": [{\"marker\": {\"colorbar\": {\"outlinewidth\": 0, \"ticks\": \"\"}}, \"type\": \"histogram\"}], \"histogram2d\": [{\"colorbar\": {\"outlinewidth\": 0, \"ticks\": \"\"}, \"colorscale\": [[0.0, \"#0d0887\"], [0.1111111111111111, \"#46039f\"], [0.2222222222222222, \"#7201a8\"], [0.3333333333333333, \"#9c179e\"], [0.4444444444444444, \"#bd3786\"], [0.5555555555555556, \"#d8576b\"], [0.6666666666666666, \"#ed7953\"], [0.7777777777777778, \"#fb9f3a\"], [0.8888888888888888, \"#fdca26\"], [1.0, \"#f0f921\"]], \"type\": \"histogram2d\"}], \"histogram2dcontour\": [{\"colorbar\": {\"outlinewidth\": 0, \"ticks\": \"\"}, \"colorscale\": [[0.0, \"#0d0887\"], [0.1111111111111111, \"#46039f\"], [0.2222222222222222, \"#7201a8\"], [0.3333333333333333, \"#9c179e\"], [0.4444444444444444, \"#bd3786\"], [0.5555555555555556, \"#d8576b\"], [0.6666666666666666, \"#ed7953\"], [0.7777777777777778, \"#fb9f3a\"], [0.8888888888888888, \"#fdca26\"], [1.0, \"#f0f921\"]], \"type\": \"histogram2dcontour\"}], \"mesh3d\": [{\"colorbar\": {\"outlinewidth\": 0, \"ticks\": \"\"}, \"type\": \"mesh3d\"}], \"parcoords\": [{\"line\": {\"colorbar\": {\"outlinewidth\": 0, \"ticks\": \"\"}}, \"type\": \"parcoords\"}], \"pie\": [{\"automargin\": true, \"type\": \"pie\"}], \"scatter\": [{\"marker\": {\"colorbar\": {\"outlinewidth\": 0, \"ticks\": \"\"}}, \"type\": \"scatter\"}], \"scatter3d\": [{\"line\": {\"colorbar\": {\"outlinewidth\": 0, \"ticks\": \"\"}}, \"marker\": {\"colorbar\": {\"outlinewidth\": 0, \"ticks\": \"\"}}, \"type\": \"scatter3d\"}], \"scattercarpet\": [{\"marker\": {\"colorbar\": {\"outlinewidth\": 0, \"ticks\": \"\"}}, \"type\": \"scattercarpet\"}], \"scattergeo\": [{\"marker\": {\"colorbar\": {\"outlinewidth\": 0, \"ticks\": \"\"}}, \"type\": \"scattergeo\"}], \"scattergl\": [{\"marker\": {\"colorbar\": {\"outlinewidth\": 0, \"ticks\": \"\"}}, \"type\": \"scattergl\"}], \"scattermapbox\": [{\"marker\": {\"colorbar\": {\"outlinewidth\": 0, \"ticks\": \"\"}}, \"type\": \"scattermapbox\"}], \"scatterpolar\": [{\"marker\": {\"colorbar\": {\"outlinewidth\": 0, \"ticks\": \"\"}}, \"type\": \"scatterpolar\"}], \"scatterpolargl\": [{\"marker\": {\"colorbar\": {\"outlinewidth\": 0, \"ticks\": \"\"}}, \"type\": \"scatterpolargl\"}], \"scatterternary\": [{\"marker\": {\"colorbar\": {\"outlinewidth\": 0, \"ticks\": \"\"}}, \"type\": \"scatterternary\"}], \"surface\": [{\"colorbar\": {\"outlinewidth\": 0, \"ticks\": \"\"}, \"colorscale\": [[0.0, \"#0d0887\"], [0.1111111111111111, \"#46039f\"], [0.2222222222222222, \"#7201a8\"], [0.3333333333333333, \"#9c179e\"], [0.4444444444444444, \"#bd3786\"], [0.5555555555555556, \"#d8576b\"], [0.6666666666666666, \"#ed7953\"], [0.7777777777777778, \"#fb9f3a\"], [0.8888888888888888, \"#fdca26\"], [1.0, \"#f0f921\"]], \"type\": \"surface\"}], \"table\": [{\"cells\": {\"fill\": {\"color\": \"#EBF0F8\"}, \"line\": {\"color\": \"white\"}}, \"header\": {\"fill\": {\"color\": \"#C8D4E3\"}, \"line\": {\"color\": \"white\"}}, \"type\": \"table\"}]}, \"layout\": {\"annotationdefaults\": {\"arrowcolor\": \"#2a3f5f\", \"arrowhead\": 0, \"arrowwidth\": 1}, \"coloraxis\": {\"colorbar\": {\"outlinewidth\": 0, \"ticks\": \"\"}}, \"colorscale\": {\"diverging\": [[0, \"#8e0152\"], [0.1, \"#c51b7d\"], [0.2, \"#de77ae\"], [0.3, \"#f1b6da\"], [0.4, \"#fde0ef\"], [0.5, \"#f7f7f7\"], [0.6, \"#e6f5d0\"], [0.7, \"#b8e186\"], [0.8, \"#7fbc41\"], [0.9, \"#4d9221\"], [1, \"#276419\"]], \"sequential\": [[0.0, \"#0d0887\"], [0.1111111111111111, \"#46039f\"], [0.2222222222222222, \"#7201a8\"], [0.3333333333333333, \"#9c179e\"], [0.4444444444444444, \"#bd3786\"], [0.5555555555555556, \"#d8576b\"], [0.6666666666666666, \"#ed7953\"], [0.7777777777777778, \"#fb9f3a\"], [0.8888888888888888, \"#fdca26\"], [1.0, \"#f0f921\"]], \"sequentialminus\": [[0.0, \"#0d0887\"], [0.1111111111111111, \"#46039f\"], [0.2222222222222222, \"#7201a8\"], [0.3333333333333333, \"#9c179e\"], [0.4444444444444444, \"#bd3786\"], [0.5555555555555556, \"#d8576b\"], [0.6666666666666666, \"#ed7953\"], [0.7777777777777778, \"#fb9f3a\"], [0.8888888888888888, \"#fdca26\"], [1.0, \"#f0f921\"]]}, \"colorway\": [\"#636efa\", \"#EF553B\", \"#00cc96\", \"#ab63fa\", \"#FFA15A\", \"#19d3f3\", \"#FF6692\", \"#B6E880\", \"#FF97FF\", \"#FECB52\"], \"font\": {\"color\": \"#2a3f5f\"}, \"geo\": {\"bgcolor\": \"white\", \"lakecolor\": \"white\", \"landcolor\": \"#E5ECF6\", \"showlakes\": true, \"showland\": true, \"subunitcolor\": \"white\"}, \"hoverlabel\": {\"align\": \"left\"}, \"hovermode\": \"closest\", \"mapbox\": {\"style\": \"light\"}, \"paper_bgcolor\": \"white\", \"plot_bgcolor\": \"#E5ECF6\", \"polar\": {\"angularaxis\": {\"gridcolor\": \"white\", \"linecolor\": \"white\", \"ticks\": \"\"}, \"bgcolor\": \"#E5ECF6\", \"radialaxis\": {\"gridcolor\": \"white\", \"linecolor\": \"white\", \"ticks\": \"\"}}, \"scene\": {\"xaxis\": {\"backgroundcolor\": \"#E5ECF6\", \"gridcolor\": \"white\", \"gridwidth\": 2, \"linecolor\": \"white\", \"showbackground\": true, \"ticks\": \"\", \"zerolinecolor\": \"white\"}, \"yaxis\": {\"backgroundcolor\": \"#E5ECF6\", \"gridcolor\": \"white\", \"gridwidth\": 2, \"linecolor\": \"white\", \"showbackground\": true, \"ticks\": \"\", \"zerolinecolor\": \"white\"}, \"zaxis\": {\"backgroundcolor\": \"#E5ECF6\", \"gridcolor\": \"white\", \"gridwidth\": 2, \"linecolor\": \"white\", \"showbackground\": true, \"ticks\": \"\", \"zerolinecolor\": \"white\"}}, \"shapedefaults\": {\"line\": {\"color\": \"#2a3f5f\"}}, \"ternary\": {\"aaxis\": {\"gridcolor\": \"white\", \"linecolor\": \"white\", \"ticks\": \"\"}, \"baxis\": {\"gridcolor\": \"white\", \"linecolor\": \"white\", \"ticks\": \"\"}, \"bgcolor\": \"#E5ECF6\", \"caxis\": {\"gridcolor\": \"white\", \"linecolor\": \"white\", \"ticks\": \"\"}}, \"title\": {\"x\": 0.05}, \"xaxis\": {\"automargin\": true, \"gridcolor\": \"white\", \"linecolor\": \"white\", \"ticks\": \"\", \"title\": {\"standoff\": 15}, \"zerolinecolor\": \"white\", \"zerolinewidth\": 2}, \"yaxis\": {\"automargin\": true, \"gridcolor\": \"white\", \"linecolor\": \"white\", \"ticks\": \"\", \"title\": {\"standoff\": 15}, \"zerolinecolor\": \"white\", \"zerolinewidth\": 2}}}, \"title\": {\"text\": \"Share of Chess Players that Ended Centipede Game at Each Node\"}},\n",
              "                        {\"responsive\": true}\n",
              "                    ).then(function(){\n",
              "                            \n",
              "var gd = document.getElementById('34b7aff6-0b9b-4ad0-bb72-a0e3bcaf9d9b');\n",
              "var x = new MutationObserver(function (mutations, observer) {{\n",
              "        var display = window.getComputedStyle(gd).display;\n",
              "        if (!display || display === 'none') {{\n",
              "            console.log([gd, 'removed!']);\n",
              "            Plotly.purge(gd);\n",
              "            observer.disconnect();\n",
              "        }}\n",
              "}});\n",
              "\n",
              "// Listen for the removal of the full notebook cells\n",
              "var notebookContainer = gd.closest('#notebook-container');\n",
              "if (notebookContainer) {{\n",
              "    x.observe(notebookContainer, {childList: true});\n",
              "}}\n",
              "\n",
              "// Listen for the clearing of the current output cell\n",
              "var outputEl = gd.closest('.output');\n",
              "if (outputEl) {{\n",
              "    x.observe(outputEl, {childList: true});\n",
              "}}\n",
              "\n",
              "                        })\n",
              "                };\n",
              "                \n",
              "            </script>\n",
              "        </div>\n",
              "</body>\n",
              "</html>"
            ]
          },
          "metadata": {
            "tags": []
          }
        }
      ]
    },
    {
      "cell_type": "markdown",
      "metadata": {
        "colab_type": "text",
        "id": "U-jm8f7TrUTn"
      },
      "source": [
        "Let's be formal and test if the proportion of Grandmasters ($p_{g}$) is equal to the proportion of International Masters ($p_{i}$). The null hypothesis ($H_0$) is:\n",
        "\n",
        "$$H_0: p_{g} = p_{i}$$\n",
        "\n",
        "The z-statistic is:\n",
        "\n",
        "$$z=\\frac{\\hat{p}_{g}-\\hat{p}_{i}}{se(\\hat{p}_{g}-\\hat{p}_{i})}$$\n",
        "\n",
        "where $se(\\hat{p}_{g}-\\hat{p}_{i})$ is the standard error of the difference between the sample proportions:\n",
        "\n",
        "$$se(\\hat{p}_{g}-\\hat{p}_{i})=\\sqrt{\\frac{\\hat{p}_{g}(1-\\hat{p}_{g})}{n_g}+\\frac{\\hat{p}_{i}(1-\\hat{p}_{i})}{n_i}}$$\n",
        "\n",
        "where $n_g$ is the sample size of Grandmasters and $n_i$ is the sample size of International Masters.\n",
        "\n",
        "For node 1, we know that:\n",
        "\n",
        "$$\\hat{p}_{g}=\\frac{26}{26}=1$$\n",
        "\n",
        "$$\\hat{p}_{i}=\\frac{22}{29}=0.73$$\n",
        "\n",
        "Then:\n",
        "\n",
        "$$z=2.68$$\n",
        "\n",
        "The p-value of the z-statistic is 0.007.\n",
        "Therefore, the null hypothesis ($H_0$) is rejected at level of significance at $\\alpha=1\\%$."
      ]
    },
    {
      "cell_type": "code",
      "metadata": {
        "colab_type": "code",
        "id": "FQ8UyEDqJ1Wn",
        "colab": {
          "base_uri": "https://localhost:8080/",
          "height": 105
        },
        "outputId": "dbd58da3-39ae-4335-a429-817bea43e237"
      },
      "source": [
        "from statsmodels.stats.proportion import proportions_ztest\n",
        "\n",
        "#  I inserted manually the data from Grandmasters to \n",
        "# ilustrate the input format\n",
        "count = np.array([ 26, node_IM[1] ]) # number of stops\n",
        "nobs = np.array([ 26, length_IM ])   # sample size\n",
        "\n",
        "proportions_ztest(count, nobs)"
      ],
      "execution_count": 14,
      "outputs": [
        {
          "output_type": "stream",
          "text": [
            "/usr/local/lib/python3.6/dist-packages/statsmodels/tools/_testing.py:19: FutureWarning:\n",
            "\n",
            "pandas.util.testing is deprecated. Use the functions in the public API at pandas.testing instead.\n",
            "\n"
          ],
          "name": "stderr"
        },
        {
          "output_type": "execute_result",
          "data": {
            "text/plain": [
              "(2.68162114289528, 0.00732663816543149)"
            ]
          },
          "metadata": {
            "tags": []
          },
          "execution_count": 14
        }
      ]
    },
    {
      "cell_type": "markdown",
      "metadata": {
        "colab_type": "text",
        "id": "3T0F1g6S2d9V"
      },
      "source": [
        "Let's also test at node 1, if the proportion of International Masters ($p_{i}$) is equal to the proportion of Federation Masters ($p_{f}$). The null hypothesis ($H_0$) is:\n",
        "\n",
        "$$H_0: p_{i} = p_{f}$$\n",
        "\n",
        "The z-statistic is 0.18 and the respective p-value is 0.85. Therefore, we cannot reject the null hypothesis that the proportion of International Masters is equal to the proportion of Federation Masters.\n"
      ]
    },
    {
      "cell_type": "code",
      "metadata": {
        "colab_type": "code",
        "id": "21ZM1ws3SLTW",
        "colab": {
          "base_uri": "https://localhost:8080/",
          "height": 34
        },
        "outputId": "06e69a3b-dd8d-4993-e639-6afac6a00534"
      },
      "source": [
        "count = np.array([ node_IM[1], node_FM[1] ])\n",
        "nobs = np.array([ length_IM, length_FM ])\n",
        "\n",
        "proportions_ztest(count, nobs)"
      ],
      "execution_count": 15,
      "outputs": [
        {
          "output_type": "execute_result",
          "data": {
            "text/plain": [
              "(0.1836204648065827, 0.8543112075010346)"
            ]
          },
          "metadata": {
            "tags": []
          },
          "execution_count": 15
        }
      ]
    },
    {
      "cell_type": "markdown",
      "metadata": {
        "colab_type": "text",
        "id": "oGVaEM4hUf4p"
      },
      "source": [
        "## Exercises"
      ]
    },
    {
      "cell_type": "markdown",
      "metadata": {
        "colab_type": "text",
        "id": "00mA6FVeUi_v"
      },
      "source": [
        "1| Use the spreadsheet \"Data Chess Tournaments\" from Palacios-Huerta & Volij (2009) to calculate the proportion of other chess players that stopped in node 1, node 2, node 3, node 4, and node 5. The proportions will sum up to 100%. Other chess players is a category that excludes all chess players with the titles: Grandmasters, International Masters, and Federation Masters. "
      ]
    },
    {
      "cell_type": "markdown",
      "metadata": {
        "colab_type": "text",
        "id": "DRAIvmpVffqF"
      },
      "source": [
        "2| This question refers to the spreadsheet \"Data UPV Students-One shot\" from Palacios-Huerta & Volij (2009)."
      ]
    },
    {
      "cell_type": "markdown",
      "metadata": {
        "colab_type": "text",
        "id": "Z6rplvqjiMMo"
      },
      "source": [
        "a) Open the spreadsheet \"Data UPV Students-One shot\" here in Google Colab.  "
      ]
    },
    {
      "cell_type": "markdown",
      "metadata": {
        "colab_type": "text",
        "id": "GtkL9kiOip4b"
      },
      "source": [
        "b) How many pairs of centipede games did the students of University of Pais Vasco (UPV) play? "
      ]
    },
    {
      "cell_type": "markdown",
      "metadata": {
        "colab_type": "text",
        "id": "2ix3zJUVjzdC"
      },
      "source": [
        "c) Calculate the proportion of students that stopped in node 1, node 2, node 3, node 4, node 5, and node 6. The proportions will sum up to 100%. "
      ]
    },
    {
      "cell_type": "markdown",
      "metadata": {
        "colab_type": "text",
        "id": "N3ysDBBelFuc"
      },
      "source": [
        "3| Compared the results of exercise 1 (Chess Players) vs exercise 2 (c) (Students). Why these two subpopulations play the centipede game differently? Speculate and justify your reasoning."
      ]
    },
    {
      "cell_type": "markdown",
      "metadata": {
        "colab_type": "text",
        "id": "uBRvX1iq7E3G"
      },
      "source": [
        "4| Use the spreadsheet \"Data Chess Tournaments\" from Palacios-Huerta & Volij (2009) to test if the proportion of International Masters that stopped at node 3 is equal to the proportion of other chess players that stopped at node 3 of the centipede game."
      ]
    },
    {
      "cell_type": "markdown",
      "metadata": {
        "colab_type": "text",
        "id": "L8UKnkAN_H1t"
      },
      "source": [
        "5| For this question use the spreadsheet \"Data Chess Tournaments\" from Palacios-Huerta & Volij (2009). Create a bar chart to compare the proportion of International Masters and other chess players that stopped the centipede game at each node. "
      ]
    },
    {
      "cell_type": "markdown",
      "metadata": {
        "colab_type": "text",
        "id": "0W6qr4_2oTzT"
      },
      "source": [
        "6| Suppose you are a neoclassical economist. How you can justify the standard economic theory built under the assumption of stronger rationality and  self-interested against the empirical evidence presented in the paper of Palacios-Huerta & Volij (2009)? Give details about your justifications."
      ]
    },
    {
      "cell_type": "markdown",
      "metadata": {
        "colab_type": "text",
        "id": "G0deXVOWmN3V"
      },
      "source": [
        "## Reference\n",
        "\n",
        "Fey, Mark, Richard D. McKelvey, and Thomas R. Palfrey. (1996). An Experimental Study of Constant-Sum\n",
        "Centipede Games. International Journal of Game Theory, 25(3): 269–87.\n",
        "\n",
        "Palacios-Huerta, Ignacio, and Oscar Volij. (2009). Field Centipedes. American Economic Review, 99 (4): 1619-35. [Click to download the paper](https://github.com/causal-methods/Papers/raw/master/Centipedes/Field%20Centipedes.pdf)\n"
      ]
    }
  ]
}