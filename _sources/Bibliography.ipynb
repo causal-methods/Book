{
  "nbformat": 4,
  "nbformat_minor": 0,
  "metadata": {
    "colab": {
      "name": "Bibliography.ipynb",
      "provenance": []
    },
    "kernelspec": {
      "display_name": "Python 3",
      "language": "python",
      "name": "python3"
    },
    "language_info": {
      "codemirror_mode": {
        "name": "ipython",
        "version": 3
      },
      "file_extension": ".py",
      "mimetype": "text/x-python",
      "name": "python",
      "nbconvert_exporter": "python",
      "pygments_lexer": "ipython3",
      "version": "3.7.6"
    }
  },
  "cells": [
    {
      "cell_type": "markdown",
      "metadata": {
        "id": "3xG4g-yFKnhm"
      },
      "source": [
        "# Bibliography"
      ]
    },
    {
      "cell_type": "markdown",
      "metadata": {
        "id": "q-cWOMku-lx_"
      },
      "source": [
        "By [Vitor Kamada](https://www.linkedin.com/in/vitor-kamada-1b73a078)\n",
        "\n",
        "E-mail: econometrics.methods@gmail.com\n",
        "\n",
        "Last updated 11-6-2020"
      ]
    },
    {
      "cell_type": "markdown",
      "metadata": {
        "id": "zCGExMcSX-w-"
      },
      "source": [
        "**Papers and data used in the book**: [Causal Inference with Python](https://causal-methods.github.io/Book). "
      ]
    },
    {
      "cell_type": "markdown",
      "metadata": {
        "id": "gvpBan1dY2CP"
      },
      "source": [
        "> Basten, Christoph, and Frank Betz (2013).  [Beyond\n",
        "Work Ethic: Religion, Individual, and Political Preferences](https://github.com/causal-methods/Papers/raw/master/Beyond-Work-Ethic/Beyond%20Work%20Ethic.pdf). American Economic Journal: Economic Policy, 5 (3): 67-91. [Online Appendix](https://github.com/causal-methods/Papers/raw/master/Beyond-Work-Ethic/2011-0231_app.pdf). [finaldata.dta](https://github.com/causal-methods/Data/raw/master/finaldata.dta)\n",
        "\n",
        "> Becker, Sascha O., and Ludger Woessmann. (2009). Was Weber Wrong? A Human Capital Theory of Protestant Economic History. Quarterly Journal of Economics 124 (2): 531-96.\n",
        "\n",
        "> Bertrand, Marianne, and Sendhil Mullainathan. (2004). [Are Emily and Greg More Employable Than Lakisha and Jamal?](https://github.com/causal-methods/Papers/raw/master/Are%20Emily%20and%20Greg%20More%20Employable%20than%20Lakisha%20and%20Jamal.pdf). A Field Experiment on Labor Market Discrimination. American Economic Review, 94 (4): 991-1013. [lakisha_aer.dta](https://github.com/causal-methods/Data/raw/master/lakisha_aer.dta)\n",
        "\n",
        "> Bisschop, Paul, Stephen Kastoryano, and Bas van der Klaauw. (2017). [Street Prostitution Zones and Crime](https://github.com/causal-methods/Papers/raw/master/Street%20Prostitution%20Zones%20and%20Crime.pdf). American Economic Journal: Economic Policy, 9 (4): 28-63. [CBSregist2015.dta](https://github.com/causal-methods/Data/raw/master/CBSregist2015.dta\")\n",
        "\n",
        "> Edelman, Benjamin, Michael Luca, and Dan Svirsky. (2017). [Racial Discrimination in the Sharing Economy: Evidence from a Field Experiment](https://github.com/causal-methods/Papers/raw/master/Racial%20Discrimination%20in%20the%20Sharing%20Economy.pdf). American Economic Journal: Applied Economics, 9 (2): 1-22.  [Airbnb.csv](https://github.com/causal-methods/Data/raw/master/Airbnb.csv\")\n",
        "\n",
        "> Fey, Mark, Richard D. McKelvey, and Thomas R. Palfrey. (1996). An Experimental Study of Constant-Sum Centipede Games. International Journal of Game Theory, 25(3): 269-87.\n",
        "\n",
        "> Fryer, Roland G., Jr., and Steven D. Levitt. (2004). The Causes and Consequences of Distinctively Black Names. Quarterly Journal of Economics 119 (3): 767-805.\n",
        "\n",
        "> Imbens, G., & Kalyanaraman, K. (2012). Optimal Bandwidth Choice for the Regression Discontinuity Estimator. The Review of Economic Studies, 79(3), 933-959.\n",
        "\n",
        "> Jha, S. and Shayo, M. (2019). [Valuing Peace: The Effects of Financial Market Exposure on Votes and Political Attitudes](https://github.com/causal-methods/Papers/raw/master/Valuing%20Peace.pdf). Econometrica, 87: 1561-1588. [replicationdata.dta](https://github.com/causal-methods/Data/raw/master/replicationdata.dta)\n",
        "\n",
        "> Keynes, John Maynard. (1936). [The General Theory of Employment, Interest and Money](https://www.marxists.org/reference/subject/economics/keynes/general-theory/). Harcourt, Brace and Company, and printed in the U.S.A. by the Polygraphic Company of America, New York. \n",
        "\n",
        "> Meyersson, Erik. (2014). [Islamic Rule and the Empowerment of the Poor and Pious](https://github.com/causal-methods/Papers/raw/master/Islamic%20Rule%20and%20the%20Empowerment%20of%20the%20Poor%20and%20Pious.pdf). Econometrica, 82(1), 229-269. [regdata0.dta](https://github.com/causal-methods/Data/raw/master/regdata0.dta)\n",
        "\n",
        "> Montesquieu, C. (1748). [The Spirit of the Laws](https://oll.libertyfund.org/titles/montesquieu-complete-works-vol-1-the-spirit-of-laws). London: T. Evans, 1777, 4 vols. Vol. 2. Online Library of Liberty.\n",
        "\n",
        "> Oreopoulos, Philip. (2011). [Why Do Skilled Immigrants Struggle in the Labor Market? A Field Experiment with Thirteen Thousand Resumes](https://github.com/causal-methods/Papers/raw/master/Oreopoulos/Why%20Do%20Skilled%20Immigrants%20Struggle%20in%20the%20Labor%20Market.pdf). American Economic Journal: Economic Policy, 3 (4): 148-71. [oreopoulos.dta](https://github.com/causal-methods/Data/raw/master/oreopoulos.dta)\n",
        "\n",
        "> Palacios-Huerta, Ignacio, and Oscar Volij. (2009). [Field Centipedes](https://github.com/causal-methods/Papers/raw/master/Centipedes/Field%20Centipedes.pdf). American Economic Review, 99 (4): 1619-35. [Chess.xls](https://github.com/causal-methods/Data/raw/master/Chess.xls)\n",
        "\n",
        "> Richardson, Gary, and William Troost. (2009). [Monetary Intervention Mitigated Banking Panics during the Great Depression: Quasi-Experimental Evidence from a Federal Reserve District Border, 1929-1933](https://github.com/causal-methods/Papers/raw/master/richardson_troost_2009_jpe.pdf). Journal of Political Economy 117 (6): 1031-73.\n",
        "\n",
        "> Weber, Max. (1930). [The Protestant Ethic and the Spirit of Capitalism](https://www.marxists.org/reference/archive/weber/protestant-ethic/). New York: Scribner, (Orig.pub. 1905).\n",
        "\n",
        "> Ziebarth, Nicolas L. (2013). [Identifying the Effects of Bank Failures from a Natural Experiment in Mississippi during the Great Depression](https://github.com/causal-methods/Papers/raw/master/Identifying%20the%20Effects%20of%20Bank%20Failures.pdf). American Economic Journal: Macroeconomics, 5 (1): 81-101. [MS_data_all_years_regs.dta](https://github.com/causal-methods/Data/raw/master/MS_data_all_years_regs.dta)"
      ]
    }
  ]
}