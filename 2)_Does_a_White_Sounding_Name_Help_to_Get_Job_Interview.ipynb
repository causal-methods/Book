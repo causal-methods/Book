{
 "cells": [
  {
   "cell_type": "markdown",
   "metadata": {
    "colab_type": "text",
    "id": "mfxvKsxwpZjN"
   },
   "source": [
    "# 2) Does a White-Sounding Name Help to Get a Job Interview?"
   ]
  },
  {
   "cell_type": "markdown",
   "metadata": {
    "colab_type": "text",
    "id": "kRSC3oJZQSQ2"
   },
   "source": [
    "Vitor Kamada\n",
    "\n",
    "E-mail: econometrics.methods@gmail.com\n",
    "\n",
    "Last updated: 8-8-2020"
   ]
  },
  {
   "cell_type": "markdown",
   "metadata": {
    "colab_type": "text",
    "id": "ccyO33WsOhyk"
   },
   "source": [
    "Let's load the dataset from Bertrand & Mullainathan (2004)."
   ]
  },
  {
   "cell_type": "code",
   "execution_count": 1,
   "metadata": {
    "colab": {
     "base_uri": "https://localhost:8080/",
     "height": 193
    },
    "colab_type": "code",
    "id": "3wG1YQm6B55d",
    "outputId": "854ff441-4d5c-4081-8737-467bd9eb9fbd"
   },
   "outputs": [
    {
     "data": {
      "text/html": [
       "<div>\n",
       "<style scoped>\n",
       "    .dataframe tbody tr th:only-of-type {\n",
       "        vertical-align: middle;\n",
       "    }\n",
       "\n",
       "    .dataframe tbody tr th {\n",
       "        vertical-align: top;\n",
       "    }\n",
       "\n",
       "    .dataframe thead th {\n",
       "        text-align: right;\n",
       "    }\n",
       "</style>\n",
       "<table border=\"1\" class=\"dataframe\">\n",
       "  <thead>\n",
       "    <tr style=\"text-align: right;\">\n",
       "      <th></th>\n",
       "      <th>id</th>\n",
       "      <th>ad</th>\n",
       "      <th>education</th>\n",
       "      <th>ofjobs</th>\n",
       "      <th>yearsexp</th>\n",
       "      <th>honors</th>\n",
       "      <th>volunteer</th>\n",
       "      <th>military</th>\n",
       "      <th>empholes</th>\n",
       "      <th>occupspecific</th>\n",
       "      <th>...</th>\n",
       "      <th>compreq</th>\n",
       "      <th>orgreq</th>\n",
       "      <th>manuf</th>\n",
       "      <th>transcom</th>\n",
       "      <th>bankreal</th>\n",
       "      <th>trade</th>\n",
       "      <th>busservice</th>\n",
       "      <th>othservice</th>\n",
       "      <th>missind</th>\n",
       "      <th>ownership</th>\n",
       "    </tr>\n",
       "  </thead>\n",
       "  <tbody>\n",
       "    <tr>\n",
       "      <th>0</th>\n",
       "      <td>b</td>\n",
       "      <td>1</td>\n",
       "      <td>4</td>\n",
       "      <td>2</td>\n",
       "      <td>6</td>\n",
       "      <td>0</td>\n",
       "      <td>0</td>\n",
       "      <td>0</td>\n",
       "      <td>1</td>\n",
       "      <td>17</td>\n",
       "      <td>...</td>\n",
       "      <td>1.0</td>\n",
       "      <td>0.0</td>\n",
       "      <td>1.0</td>\n",
       "      <td>0.0</td>\n",
       "      <td>0.0</td>\n",
       "      <td>0.0</td>\n",
       "      <td>0.0</td>\n",
       "      <td>0.0</td>\n",
       "      <td>0.0</td>\n",
       "      <td></td>\n",
       "    </tr>\n",
       "    <tr>\n",
       "      <th>1</th>\n",
       "      <td>b</td>\n",
       "      <td>1</td>\n",
       "      <td>3</td>\n",
       "      <td>3</td>\n",
       "      <td>6</td>\n",
       "      <td>0</td>\n",
       "      <td>1</td>\n",
       "      <td>1</td>\n",
       "      <td>0</td>\n",
       "      <td>316</td>\n",
       "      <td>...</td>\n",
       "      <td>1.0</td>\n",
       "      <td>0.0</td>\n",
       "      <td>1.0</td>\n",
       "      <td>0.0</td>\n",
       "      <td>0.0</td>\n",
       "      <td>0.0</td>\n",
       "      <td>0.0</td>\n",
       "      <td>0.0</td>\n",
       "      <td>0.0</td>\n",
       "      <td></td>\n",
       "    </tr>\n",
       "    <tr>\n",
       "      <th>2</th>\n",
       "      <td>b</td>\n",
       "      <td>1</td>\n",
       "      <td>4</td>\n",
       "      <td>1</td>\n",
       "      <td>6</td>\n",
       "      <td>0</td>\n",
       "      <td>0</td>\n",
       "      <td>0</td>\n",
       "      <td>0</td>\n",
       "      <td>19</td>\n",
       "      <td>...</td>\n",
       "      <td>1.0</td>\n",
       "      <td>0.0</td>\n",
       "      <td>1.0</td>\n",
       "      <td>0.0</td>\n",
       "      <td>0.0</td>\n",
       "      <td>0.0</td>\n",
       "      <td>0.0</td>\n",
       "      <td>0.0</td>\n",
       "      <td>0.0</td>\n",
       "      <td></td>\n",
       "    </tr>\n",
       "    <tr>\n",
       "      <th>3</th>\n",
       "      <td>b</td>\n",
       "      <td>1</td>\n",
       "      <td>3</td>\n",
       "      <td>4</td>\n",
       "      <td>6</td>\n",
       "      <td>0</td>\n",
       "      <td>1</td>\n",
       "      <td>0</td>\n",
       "      <td>1</td>\n",
       "      <td>313</td>\n",
       "      <td>...</td>\n",
       "      <td>1.0</td>\n",
       "      <td>0.0</td>\n",
       "      <td>1.0</td>\n",
       "      <td>0.0</td>\n",
       "      <td>0.0</td>\n",
       "      <td>0.0</td>\n",
       "      <td>0.0</td>\n",
       "      <td>0.0</td>\n",
       "      <td>0.0</td>\n",
       "      <td></td>\n",
       "    </tr>\n",
       "  </tbody>\n",
       "</table>\n",
       "<p>4 rows × 65 columns</p>\n",
       "</div>"
      ],
      "text/plain": [
       "  id ad  education  ofjobs  yearsexp  honors  volunteer  military  empholes  \\\n",
       "0  b  1          4       2         6       0          0         0         1   \n",
       "1  b  1          3       3         6       0          1         1         0   \n",
       "2  b  1          4       1         6       0          0         0         0   \n",
       "3  b  1          3       4         6       0          1         0         1   \n",
       "\n",
       "   occupspecific  ...  compreq  orgreq  manuf  transcom  bankreal trade  \\\n",
       "0             17  ...      1.0     0.0    1.0       0.0       0.0   0.0   \n",
       "1            316  ...      1.0     0.0    1.0       0.0       0.0   0.0   \n",
       "2             19  ...      1.0     0.0    1.0       0.0       0.0   0.0   \n",
       "3            313  ...      1.0     0.0    1.0       0.0       0.0   0.0   \n",
       "\n",
       "  busservice othservice  missind  ownership  \n",
       "0        0.0        0.0      0.0             \n",
       "1        0.0        0.0      0.0             \n",
       "2        0.0        0.0      0.0             \n",
       "3        0.0        0.0      0.0             \n",
       "\n",
       "[4 rows x 65 columns]"
      ]
     },
     "execution_count": 1,
     "metadata": {},
     "output_type": "execute_result"
    }
   ],
   "source": [
    "import pandas as pd\n",
    "path = \"https://github.com/causal-methods/Data/raw/master/\" \n",
    "df = pd.read_stata(path + \"lakisha_aer.dta\")\n",
    "df.head(4)"
   ]
  },
  {
   "cell_type": "markdown",
   "metadata": {
    "colab_type": "text",
    "id": "7amupQjY6d3z"
   },
   "source": [
    "Let's restrict the analysis to the variables 'call' and 'race'. \n",
    "\n",
    "call: 1 = applicant was called back to interview; and 0 otherwise.\n",
    "\n",
    "race: w = White, and b = Black."
   ]
  },
  {
   "cell_type": "code",
   "execution_count": 2,
   "metadata": {
    "colab": {
     "base_uri": "https://localhost:8080/",
     "height": 419
    },
    "colab_type": "code",
    "id": "CYCE_cF4mDvI",
    "outputId": "03288218-881d-492c-cdc9-d9557841b4ea"
   },
   "outputs": [
    {
     "data": {
      "text/html": [
       "<div>\n",
       "<style scoped>\n",
       "    .dataframe tbody tr th:only-of-type {\n",
       "        vertical-align: middle;\n",
       "    }\n",
       "\n",
       "    .dataframe tbody tr th {\n",
       "        vertical-align: top;\n",
       "    }\n",
       "\n",
       "    .dataframe thead th {\n",
       "        text-align: right;\n",
       "    }\n",
       "</style>\n",
       "<table border=\"1\" class=\"dataframe\">\n",
       "  <thead>\n",
       "    <tr style=\"text-align: right;\">\n",
       "      <th></th>\n",
       "      <th>call</th>\n",
       "      <th>race</th>\n",
       "    </tr>\n",
       "  </thead>\n",
       "  <tbody>\n",
       "    <tr>\n",
       "      <th>0</th>\n",
       "      <td>0.0</td>\n",
       "      <td>w</td>\n",
       "    </tr>\n",
       "    <tr>\n",
       "      <th>1</th>\n",
       "      <td>0.0</td>\n",
       "      <td>w</td>\n",
       "    </tr>\n",
       "    <tr>\n",
       "      <th>2</th>\n",
       "      <td>0.0</td>\n",
       "      <td>b</td>\n",
       "    </tr>\n",
       "    <tr>\n",
       "      <th>3</th>\n",
       "      <td>0.0</td>\n",
       "      <td>b</td>\n",
       "    </tr>\n",
       "    <tr>\n",
       "      <th>4</th>\n",
       "      <td>0.0</td>\n",
       "      <td>w</td>\n",
       "    </tr>\n",
       "    <tr>\n",
       "      <th>...</th>\n",
       "      <td>...</td>\n",
       "      <td>...</td>\n",
       "    </tr>\n",
       "    <tr>\n",
       "      <th>4865</th>\n",
       "      <td>0.0</td>\n",
       "      <td>b</td>\n",
       "    </tr>\n",
       "    <tr>\n",
       "      <th>4866</th>\n",
       "      <td>0.0</td>\n",
       "      <td>b</td>\n",
       "    </tr>\n",
       "    <tr>\n",
       "      <th>4867</th>\n",
       "      <td>0.0</td>\n",
       "      <td>w</td>\n",
       "    </tr>\n",
       "    <tr>\n",
       "      <th>4868</th>\n",
       "      <td>0.0</td>\n",
       "      <td>b</td>\n",
       "    </tr>\n",
       "    <tr>\n",
       "      <th>4869</th>\n",
       "      <td>0.0</td>\n",
       "      <td>w</td>\n",
       "    </tr>\n",
       "  </tbody>\n",
       "</table>\n",
       "<p>4870 rows × 2 columns</p>\n",
       "</div>"
      ],
      "text/plain": [
       "      call race\n",
       "0      0.0    w\n",
       "1      0.0    w\n",
       "2      0.0    b\n",
       "3      0.0    b\n",
       "4      0.0    w\n",
       "...    ...  ...\n",
       "4865   0.0    b\n",
       "4866   0.0    b\n",
       "4867   0.0    w\n",
       "4868   0.0    b\n",
       "4869   0.0    w\n",
       "\n",
       "[4870 rows x 2 columns]"
      ]
     },
     "execution_count": 2,
     "metadata": {},
     "output_type": "execute_result"
    }
   ],
   "source": [
    "callback = df.loc[:, ('call', 'race')]\n",
    "callback"
   ]
  },
  {
   "cell_type": "markdown",
   "metadata": {
    "colab_type": "text",
    "id": "Tu18mt_1-a-V"
   },
   "source": [
    "Let's calculate the number of observations (size) and the mean of the variable 'call' broken by race.\n",
    "\n",
    "We have the same quantity (2435) curriculum vitae (CVs) for Black and White applicants.\n",
    "\n",
    "Only 6.4% of Blacks received a callback; whereas 9.6% of Whites received a callback. \n",
    "\n",
    "Therefore, White applicants are about 50% more likely to receive a callback for interview.\n",
    "\n",
    "In other words, for each 10 CVs that White applicants send to get 1 job interview, Black applicants need to send 15 CVs to get the same outcome."
   ]
  },
  {
   "cell_type": "code",
   "execution_count": 3,
   "metadata": {
    "colab": {
     "base_uri": "https://localhost:8080/",
     "height": 173
    },
    "colab_type": "code",
    "id": "fJpjpHxbqvlY",
    "outputId": "756385b4-8847-46ef-a5a1-0c25b06b267e"
   },
   "outputs": [
    {
     "data": {
      "text/html": [
       "<div>\n",
       "<style scoped>\n",
       "    .dataframe tbody tr th:only-of-type {\n",
       "        vertical-align: middle;\n",
       "    }\n",
       "\n",
       "    .dataframe tbody tr th {\n",
       "        vertical-align: top;\n",
       "    }\n",
       "\n",
       "    .dataframe thead tr th {\n",
       "        text-align: left;\n",
       "    }\n",
       "\n",
       "    .dataframe thead tr:last-of-type th {\n",
       "        text-align: right;\n",
       "    }\n",
       "</style>\n",
       "<table border=\"1\" class=\"dataframe\">\n",
       "  <thead>\n",
       "    <tr>\n",
       "      <th></th>\n",
       "      <th colspan=\"2\" halign=\"left\">call</th>\n",
       "    </tr>\n",
       "    <tr>\n",
       "      <th></th>\n",
       "      <th>size</th>\n",
       "      <th>mean</th>\n",
       "    </tr>\n",
       "    <tr>\n",
       "      <th>race</th>\n",
       "      <th></th>\n",
       "      <th></th>\n",
       "    </tr>\n",
       "  </thead>\n",
       "  <tbody>\n",
       "    <tr>\n",
       "      <th>b</th>\n",
       "      <td>2435.0</td>\n",
       "      <td>0.064476</td>\n",
       "    </tr>\n",
       "    <tr>\n",
       "      <th>w</th>\n",
       "      <td>2435.0</td>\n",
       "      <td>0.096509</td>\n",
       "    </tr>\n",
       "  </tbody>\n",
       "</table>\n",
       "</div>"
      ],
      "text/plain": [
       "        call          \n",
       "        size      mean\n",
       "race                  \n",
       "b     2435.0  0.064476\n",
       "w     2435.0  0.096509"
      ]
     },
     "execution_count": 3,
     "metadata": {},
     "output_type": "execute_result"
    }
   ],
   "source": [
    "import numpy as np\n",
    "callback.groupby('race').agg([np.size, np.mean])"
   ]
  },
  {
   "cell_type": "markdown",
   "metadata": {
    "colab_type": "text",
    "id": "4K9D7aG2tuy3"
   },
   "source": [
    "Somebody might argue that this difference of 3.2% (9.6 - 6.4) does not necessary implies discrimination against Blacks. \n",
    "\n",
    "You could argue that White applicants receives more callbacks, because they have more education, experience, skills, and not because of the skin color. \n",
    "\n",
    "Specifically, you could argue that White applicant is more likely to receive a callback, because they are more likely to have a college degree (signal of qualifications) than Blacks. \n",
    "\n",
    "If you extract a random sample of US population or check data from US Census, you will see that Blacks are less likely to have a college degree than Whites. This is an undisputable fact.\n",
    "\n",
    "Let's check the proportion of Blacks and Whites with college degree in the dataset from Bertrand & Mullainathan (2004)"
   ]
  },
  {
   "cell_type": "markdown",
   "metadata": {
    "colab_type": "text",
    "id": "SRHZLY3dtFnp"
   },
   "source": [
    "Originally, college graduate was coded as 4 in the variable 'education'. 3 = some college. 2 = high school graduate. 1 = some high school. 0 not reported.\n",
    "\n",
    "Let's create the variable 'college' = 1, if a person completes a college degree; and 0 otherwise."
   ]
  },
  {
   "cell_type": "code",
   "execution_count": 4,
   "metadata": {
    "colab": {},
    "colab_type": "code",
    "id": "HSzlPihQ0iTA"
   },
   "outputs": [],
   "source": [
    "df['college'] = np.where(df['education'] == 4, 1, 0)"
   ]
  },
  {
   "cell_type": "markdown",
   "metadata": {
    "colab_type": "text",
    "id": "jwj1MvBQ2TXK"
   },
   "source": [
    "We can see that 72.2% of Black Applicants have a college degree. The proportion of Whites with college degree is very similar 71.6%. \n",
    "\n",
    "Why these numbers are not representative of US population and the values closer to each other? \n",
    "\n",
    "Because the data is not a random sample extraction from reality.  "
   ]
  },
  {
   "cell_type": "code",
   "execution_count": 5,
   "metadata": {
    "colab": {
     "base_uri": "https://localhost:8080/",
     "height": 173
    },
    "colab_type": "code",
    "id": "LOx_u6Kc2TeW",
    "outputId": "1e047add-6369-4392-ab56-1342059d82b4"
   },
   "outputs": [
    {
     "data": {
      "text/html": [
       "<div>\n",
       "<style scoped>\n",
       "    .dataframe tbody tr th:only-of-type {\n",
       "        vertical-align: middle;\n",
       "    }\n",
       "\n",
       "    .dataframe tbody tr th {\n",
       "        vertical-align: top;\n",
       "    }\n",
       "\n",
       "    .dataframe thead tr th {\n",
       "        text-align: left;\n",
       "    }\n",
       "\n",
       "    .dataframe thead tr:last-of-type th {\n",
       "        text-align: right;\n",
       "    }\n",
       "</style>\n",
       "<table border=\"1\" class=\"dataframe\">\n",
       "  <thead>\n",
       "    <tr>\n",
       "      <th></th>\n",
       "      <th colspan=\"2\" halign=\"left\">college</th>\n",
       "    </tr>\n",
       "    <tr>\n",
       "      <th></th>\n",
       "      <th>size</th>\n",
       "      <th>mean</th>\n",
       "    </tr>\n",
       "    <tr>\n",
       "      <th>race</th>\n",
       "      <th></th>\n",
       "      <th></th>\n",
       "    </tr>\n",
       "  </thead>\n",
       "  <tbody>\n",
       "    <tr>\n",
       "      <th>b</th>\n",
       "      <td>2435</td>\n",
       "      <td>0.722793</td>\n",
       "    </tr>\n",
       "    <tr>\n",
       "      <th>w</th>\n",
       "      <td>2435</td>\n",
       "      <td>0.716222</td>\n",
       "    </tr>\n",
       "  </tbody>\n",
       "</table>\n",
       "</div>"
      ],
      "text/plain": [
       "     college          \n",
       "        size      mean\n",
       "race                  \n",
       "b       2435  0.722793\n",
       "w       2435  0.716222"
      ]
     },
     "execution_count": 5,
     "metadata": {},
     "output_type": "execute_result"
    }
   ],
   "source": [
    "college = df.loc[:, ('college', 'race')]\n",
    "college.groupby('race').agg([np.size, np.mean])"
   ]
  },
  {
   "cell_type": "markdown",
   "metadata": {
    "colab_type": "text",
    "id": "6kyx23Kr8pVI"
   },
   "source": [
    "Bertrand & Mullainathan (2004) produced experimental data. They created the CVs. They randomly assigned a Black sounding name (ex: Lakish or Jamal) to half of the CVs and a White sounding name (ex: Emily or Greg) to the other half. \n",
    "\n",
    "Randomization of the race via name makes the two categories White and Black equal (very similar) to each other for all observable and non-observable factors.\n",
    "\n",
    "Let's check this statement for other factors in the CVs. The names of the variables are self-explanatory, and more information can be obtained reading the paper from Bertrand & Mullainathan (2004)."
   ]
  },
  {
   "cell_type": "code",
   "execution_count": 6,
   "metadata": {
    "colab": {
     "base_uri": "https://localhost:8080/",
     "height": 204
    },
    "colab_type": "code",
    "id": "GLG0l2zU0NvJ",
    "outputId": "bba52299-e125-4b61-b7e2-e89be04f8969"
   },
   "outputs": [
    {
     "data": {
      "text/html": [
       "<div>\n",
       "<style scoped>\n",
       "    .dataframe tbody tr th:only-of-type {\n",
       "        vertical-align: middle;\n",
       "    }\n",
       "\n",
       "    .dataframe tbody tr th {\n",
       "        vertical-align: top;\n",
       "    }\n",
       "\n",
       "    .dataframe thead th {\n",
       "        text-align: right;\n",
       "    }\n",
       "</style>\n",
       "<table border=\"1\" class=\"dataframe\">\n",
       "  <thead>\n",
       "    <tr style=\"text-align: right;\">\n",
       "      <th></th>\n",
       "      <th>college</th>\n",
       "      <th>yearsexp</th>\n",
       "      <th>volunteer</th>\n",
       "      <th>military</th>\n",
       "      <th>email</th>\n",
       "      <th>workinschool</th>\n",
       "      <th>honors</th>\n",
       "      <th>computerskills</th>\n",
       "      <th>specialskills</th>\n",
       "    </tr>\n",
       "  </thead>\n",
       "  <tbody>\n",
       "    <tr>\n",
       "      <th>0</th>\n",
       "      <td>1</td>\n",
       "      <td>6</td>\n",
       "      <td>0</td>\n",
       "      <td>0</td>\n",
       "      <td>0</td>\n",
       "      <td>0</td>\n",
       "      <td>0</td>\n",
       "      <td>1</td>\n",
       "      <td>0</td>\n",
       "    </tr>\n",
       "    <tr>\n",
       "      <th>1</th>\n",
       "      <td>0</td>\n",
       "      <td>6</td>\n",
       "      <td>1</td>\n",
       "      <td>1</td>\n",
       "      <td>1</td>\n",
       "      <td>1</td>\n",
       "      <td>0</td>\n",
       "      <td>1</td>\n",
       "      <td>0</td>\n",
       "    </tr>\n",
       "    <tr>\n",
       "      <th>2</th>\n",
       "      <td>1</td>\n",
       "      <td>6</td>\n",
       "      <td>0</td>\n",
       "      <td>0</td>\n",
       "      <td>0</td>\n",
       "      <td>1</td>\n",
       "      <td>0</td>\n",
       "      <td>1</td>\n",
       "      <td>0</td>\n",
       "    </tr>\n",
       "    <tr>\n",
       "      <th>3</th>\n",
       "      <td>0</td>\n",
       "      <td>6</td>\n",
       "      <td>1</td>\n",
       "      <td>0</td>\n",
       "      <td>1</td>\n",
       "      <td>0</td>\n",
       "      <td>0</td>\n",
       "      <td>1</td>\n",
       "      <td>1</td>\n",
       "    </tr>\n",
       "    <tr>\n",
       "      <th>4</th>\n",
       "      <td>0</td>\n",
       "      <td>22</td>\n",
       "      <td>0</td>\n",
       "      <td>0</td>\n",
       "      <td>1</td>\n",
       "      <td>1</td>\n",
       "      <td>0</td>\n",
       "      <td>1</td>\n",
       "      <td>0</td>\n",
       "    </tr>\n",
       "  </tbody>\n",
       "</table>\n",
       "</div>"
      ],
      "text/plain": [
       "   college  yearsexp  volunteer  military  email  workinschool  honors  \\\n",
       "0        1         6          0         0      0             0       0   \n",
       "1        0         6          1         1      1             1       0   \n",
       "2        1         6          0         0      0             1       0   \n",
       "3        0         6          1         0      1             0       0   \n",
       "4        0        22          0         0      1             1       0   \n",
       "\n",
       "   computerskills  specialskills  \n",
       "0               1              0  \n",
       "1               1              0  \n",
       "2               1              0  \n",
       "3               1              1  \n",
       "4               1              0  "
      ]
     },
     "execution_count": 6,
     "metadata": {},
     "output_type": "execute_result"
    }
   ],
   "source": [
    "resume = ['college', 'yearsexp', 'volunteer', 'military',\n",
    "          'email', 'workinschool', 'honors',\n",
    "          'computerskills', 'specialskills']\n",
    "both = df.loc[:, resume]\n",
    "both.head()"
   ]
  },
  {
   "cell_type": "markdown",
   "metadata": {
    "colab_type": "text",
    "id": "-xGafA3tBPc3"
   },
   "source": [
    "Let's use a different code to calculate the mean of the variables for the whole sample (both Whites and Blacks) and broken samples between Blacks and Whites. \n",
    "\n",
    "See that the average years of experience (yearsexp) is 7.84 for the whole sample, 7.82 for Blacks, and 7.85 for Whites. \n",
    "\n",
    "If you check all variables the mean values for Blacks are very closer to the mean values for Whites. This is the consequence of randomization.\n",
    "\n",
    "We also calculate the standard deviation (std), a measure of variation around the mean. Note that the standard deviation is pretty much the same between the whole sample and split samples. Like the mean, you don't suppose to see much difference among standard deviations in the case of experimental data.\n",
    "\n",
    "The standard deviation of the variable years of experience is 5 years. We can state roughly the most part of observations (about 68%) is between 1 std below the mean and 1 std above the mean, that is, between [2.84, 12.84]."
   ]
  },
  {
   "cell_type": "code",
   "execution_count": 7,
   "metadata": {
    "colab": {
     "base_uri": "https://localhost:8080/",
     "height": 328
    },
    "colab_type": "code",
    "id": "Cnb6zzpOs5DW",
    "outputId": "fb9a3bd3-8d91-4853-9ead-74ddeca428a5"
   },
   "outputs": [
    {
     "data": {
      "text/html": [
       "<div>\n",
       "<style scoped>\n",
       "    .dataframe tbody tr th:only-of-type {\n",
       "        vertical-align: middle;\n",
       "    }\n",
       "\n",
       "    .dataframe tbody tr th {\n",
       "        vertical-align: top;\n",
       "    }\n",
       "\n",
       "    .dataframe thead th {\n",
       "        text-align: right;\n",
       "    }\n",
       "</style>\n",
       "<table border=\"1\" class=\"dataframe\">\n",
       "  <thead>\n",
       "    <tr style=\"text-align: right;\">\n",
       "      <th></th>\n",
       "      <th>mean_both</th>\n",
       "      <th>std_both</th>\n",
       "      <th>mean_black</th>\n",
       "      <th>std_black</th>\n",
       "      <th>mean_white</th>\n",
       "      <th>std_white</th>\n",
       "    </tr>\n",
       "  </thead>\n",
       "  <tbody>\n",
       "    <tr>\n",
       "      <th>college</th>\n",
       "      <td>0.719507</td>\n",
       "      <td>0.449286</td>\n",
       "      <td>0.722793</td>\n",
       "      <td>0.447712</td>\n",
       "      <td>0.716222</td>\n",
       "      <td>0.450923</td>\n",
       "    </tr>\n",
       "    <tr>\n",
       "      <th>yearsexp</th>\n",
       "      <td>7.842916</td>\n",
       "      <td>5.044612</td>\n",
       "      <td>7.829569</td>\n",
       "      <td>5.010764</td>\n",
       "      <td>7.856263</td>\n",
       "      <td>5.079228</td>\n",
       "    </tr>\n",
       "    <tr>\n",
       "      <th>volunteer</th>\n",
       "      <td>0.411499</td>\n",
       "      <td>0.492156</td>\n",
       "      <td>0.414374</td>\n",
       "      <td>0.492715</td>\n",
       "      <td>0.408624</td>\n",
       "      <td>0.491681</td>\n",
       "    </tr>\n",
       "    <tr>\n",
       "      <th>military</th>\n",
       "      <td>0.097125</td>\n",
       "      <td>0.296159</td>\n",
       "      <td>0.101848</td>\n",
       "      <td>0.302511</td>\n",
       "      <td>0.092402</td>\n",
       "      <td>0.289653</td>\n",
       "    </tr>\n",
       "    <tr>\n",
       "      <th>email</th>\n",
       "      <td>0.479261</td>\n",
       "      <td>0.499621</td>\n",
       "      <td>0.479671</td>\n",
       "      <td>0.499689</td>\n",
       "      <td>0.478850</td>\n",
       "      <td>0.499655</td>\n",
       "    </tr>\n",
       "    <tr>\n",
       "      <th>workinschool</th>\n",
       "      <td>0.559548</td>\n",
       "      <td>0.496492</td>\n",
       "      <td>0.560986</td>\n",
       "      <td>0.496369</td>\n",
       "      <td>0.558111</td>\n",
       "      <td>0.496714</td>\n",
       "    </tr>\n",
       "    <tr>\n",
       "      <th>honors</th>\n",
       "      <td>0.052772</td>\n",
       "      <td>0.223601</td>\n",
       "      <td>0.051335</td>\n",
       "      <td>0.220725</td>\n",
       "      <td>0.054209</td>\n",
       "      <td>0.226477</td>\n",
       "    </tr>\n",
       "    <tr>\n",
       "      <th>computerskills</th>\n",
       "      <td>0.820534</td>\n",
       "      <td>0.383782</td>\n",
       "      <td>0.832444</td>\n",
       "      <td>0.373549</td>\n",
       "      <td>0.808624</td>\n",
       "      <td>0.393465</td>\n",
       "    </tr>\n",
       "    <tr>\n",
       "      <th>specialskills</th>\n",
       "      <td>0.328747</td>\n",
       "      <td>0.469806</td>\n",
       "      <td>0.327310</td>\n",
       "      <td>0.469328</td>\n",
       "      <td>0.330185</td>\n",
       "      <td>0.470376</td>\n",
       "    </tr>\n",
       "  </tbody>\n",
       "</table>\n",
       "</div>"
      ],
      "text/plain": [
       "                mean_both  std_both  mean_black  std_black  mean_white  \\\n",
       "college          0.719507  0.449286    0.722793   0.447712    0.716222   \n",
       "yearsexp         7.842916  5.044612    7.829569   5.010764    7.856263   \n",
       "volunteer        0.411499  0.492156    0.414374   0.492715    0.408624   \n",
       "military         0.097125  0.296159    0.101848   0.302511    0.092402   \n",
       "email            0.479261  0.499621    0.479671   0.499689    0.478850   \n",
       "workinschool     0.559548  0.496492    0.560986   0.496369    0.558111   \n",
       "honors           0.052772  0.223601    0.051335   0.220725    0.054209   \n",
       "computerskills   0.820534  0.383782    0.832444   0.373549    0.808624   \n",
       "specialskills    0.328747  0.469806    0.327310   0.469328    0.330185   \n",
       "\n",
       "                std_white  \n",
       "college          0.450923  \n",
       "yearsexp         5.079228  \n",
       "volunteer        0.491681  \n",
       "military         0.289653  \n",
       "email            0.499655  \n",
       "workinschool     0.496714  \n",
       "honors           0.226477  \n",
       "computerskills   0.393465  \n",
       "specialskills    0.470376  "
      ]
     },
     "execution_count": 7,
     "metadata": {},
     "output_type": "execute_result"
    }
   ],
   "source": [
    "black = both[df['race']=='b']\n",
    "white = both[df['race']=='w']\n",
    "summary = {'mean_both': both.mean(),   'std_both': both.std(),\n",
    "           'mean_black': black.mean(), 'std_black': black.std(),\n",
    "           'mean_white': white.mean(), 'std_white': white.std()}\n",
    "pd.DataFrame(summary)"
   ]
  },
  {
   "cell_type": "markdown",
   "metadata": {
    "colab_type": "text",
    "id": "D0PFpQ4hLJLh"
   },
   "source": [
    "Why we care so much about the table above that shows that the average White and average Black applicants are pretty much the same? \n",
    "\n",
    "Because the argument that White applicants are more likely to receive a callback due to their higher level of education cannot hold, if both groups White and Black applicants have similar level of education. \n",
    "\n",
    "Neither unobserved factors nor unmeasurable factors like motivation, psychological traits, etc., can be used to justify the different rate of callbacks. \n",
    "\n",
    "In an experiment, only the treatment variable (race) is exogenously manipulated. Everything else is kept constant, consequently variations in the outcome variable (callbacks) can only be attribute to the variations in the treatment variable (race). \n",
    "\n",
    "Therefore, experimental study eliminates all confound factors presented in observational studies. \n",
    "\n",
    "Experiment is the gold standard in Hard Science. The most rigorous way to claim causality. \n",
    "\n",
    "Surveys, census, observational data direct extracted from reality cannot be used to establish causality. It might useful to capture association, but not causation."
   ]
  },
  {
   "cell_type": "markdown",
   "metadata": {
    "colab_type": "text",
    "id": "VK7NeUe9gPHx"
   },
   "source": [
    "Formally, we can write a causal model below. The 3 lines are equivalent. We can claim that $\\beta$ has \"causal\" interpretation, only if the treatment variables ($T$) was randomized. In the absence of randomization, $\\beta$ captures only correlation. "
   ]
  },
  {
   "cell_type": "markdown",
   "metadata": {
    "colab_type": "text",
    "id": "AbP8iRS6cYKB"
   },
   "source": [
    "$$Outcome = Intercept + Slope*Treatment + Error$$\n",
    "\n",
    "$$y=Intercept+\\beta T +\\epsilon$$\n",
    "\n",
    "$$callbacks = Intercept+\\beta race+\\epsilon$$\n"
   ]
  },
  {
   "cell_type": "markdown",
   "metadata": {
    "colab_type": "text",
    "id": "A_KrwesFitpo"
   },
   "source": [
    "Let's estimate the model above, using the ordinary least square (OLS) method.\n",
    "\n",
    "In the stasmodels library of Python, the intercept is a constant with value of 1.\n",
    "\n",
    "Let's create the variable 'treatment': 1 = Black applicant, and 0 = White applicant.\n",
    "\n",
    "The variable 'call' is the outcome variable (y)."
   ]
  },
  {
   "cell_type": "code",
   "execution_count": 8,
   "metadata": {
    "colab": {
     "base_uri": "https://localhost:8080/",
     "height": 71
    },
    "colab_type": "code",
    "id": "Nym_OPJ0ubi3",
    "outputId": "9106b83d-9b86-4697-8588-c9e66421702d"
   },
   "outputs": [],
   "source": [
    "df['Intercept'] = 1\n",
    "df['Treatment'] = np.where(df['race'] =='b', 1, 0)\n",
    "import statsmodels.api as sm\n",
    "ols = sm.OLS(df['call'], df[['Intercept', 'Treatment']],\n",
    "                    missing='drop').fit()"
   ]
  },
  {
   "cell_type": "markdown",
   "metadata": {
    "colab_type": "text",
    "id": "d0K4n-9slmNu"
   },
   "source": [
    "Let's print the results.\n",
    "\n"
   ]
  },
  {
   "cell_type": "code",
   "execution_count": 9,
   "metadata": {
    "colab": {
     "base_uri": "https://localhost:8080/",
     "height": 119
    },
    "colab_type": "code",
    "id": "hEJCwTzwubwE",
    "outputId": "4efb0162-c216-48f1-92b8-117b883a1a60"
   },
   "outputs": [
    {
     "name": "stdout",
     "output_type": "stream",
     "text": [
      "==============================================================================\n",
      "                 coef    std err          t      P>|t|      [0.025      0.975]\n",
      "------------------------------------------------------------------------------\n",
      "Intercept      0.0965      0.006     17.532      0.000       0.086       0.107\n",
      "Treatment     -0.0320      0.008     -4.115      0.000      -0.047      -0.017\n",
      "==============================================================================\n"
     ]
    }
   ],
   "source": [
    "print(ols.summary().tables[1])"
   ]
  },
  {
   "cell_type": "markdown",
   "metadata": {
    "colab_type": "text",
    "id": "PzF0DbzEnASK"
   },
   "source": [
    "Now we can write the fitted model as:\n",
    "\n",
    "$$\\widehat{callbacks} = 0.0965-0.032\\widehat{Treatment}$$\n",
    "\n",
    "We already got the coefficients above with the code in the beginning of this section that I will reproduce again:"
   ]
  },
  {
   "cell_type": "code",
   "execution_count": 10,
   "metadata": {
    "colab": {
     "base_uri": "https://localhost:8080/",
     "height": 173
    },
    "colab_type": "code",
    "id": "ea6q0Sm3fuOB",
    "outputId": "abfcef4b-58d4-40aa-a7f0-e0d9cc8f607b"
   },
   "outputs": [
    {
     "data": {
      "text/html": [
       "<div>\n",
       "<style scoped>\n",
       "    .dataframe tbody tr th:only-of-type {\n",
       "        vertical-align: middle;\n",
       "    }\n",
       "\n",
       "    .dataframe tbody tr th {\n",
       "        vertical-align: top;\n",
       "    }\n",
       "\n",
       "    .dataframe thead tr th {\n",
       "        text-align: left;\n",
       "    }\n",
       "\n",
       "    .dataframe thead tr:last-of-type th {\n",
       "        text-align: right;\n",
       "    }\n",
       "</style>\n",
       "<table border=\"1\" class=\"dataframe\">\n",
       "  <thead>\n",
       "    <tr>\n",
       "      <th></th>\n",
       "      <th colspan=\"2\" halign=\"left\">call</th>\n",
       "    </tr>\n",
       "    <tr>\n",
       "      <th></th>\n",
       "      <th>size</th>\n",
       "      <th>mean</th>\n",
       "    </tr>\n",
       "    <tr>\n",
       "      <th>race</th>\n",
       "      <th></th>\n",
       "      <th></th>\n",
       "    </tr>\n",
       "  </thead>\n",
       "  <tbody>\n",
       "    <tr>\n",
       "      <th>b</th>\n",
       "      <td>2435.0</td>\n",
       "      <td>0.064476</td>\n",
       "    </tr>\n",
       "    <tr>\n",
       "      <th>w</th>\n",
       "      <td>2435.0</td>\n",
       "      <td>0.096509</td>\n",
       "    </tr>\n",
       "  </tbody>\n",
       "</table>\n",
       "</div>"
      ],
      "text/plain": [
       "        call          \n",
       "        size      mean\n",
       "race                  \n",
       "b     2435.0  0.064476\n",
       "w     2435.0  0.096509"
      ]
     },
     "execution_count": 10,
     "metadata": {},
     "output_type": "execute_result"
    }
   ],
   "source": [
    "callback.groupby('race').agg([np.size, np.mean])"
   ]
  },
  {
   "cell_type": "markdown",
   "metadata": {
    "colab_type": "text",
    "id": "vFmxmk5voRgu"
   },
   "source": [
    "See that the value of Intercept is 9.6%. This is the proportion of White applicants that received a callback for interview. \n",
    "\n",
    "The coefficient of the treatment variable is 3.2%. The interpretation is that being a Black apllicant \"causes\" to receive -3.2% ( 6.4% - 9.6%) less callbacks for interview. \n",
    "\n",
    "Remember that 3.2% is a big magnitude, as it represents about 50% differential. In practical terms, Black applicants has to send 15 CVs to secure one interview rather than 10 CVs for White applicants.\n",
    "\n",
    "The coefficient of the treatment variable is also statistically significant at level of significance ($\\alpha$ = 1%).\n",
    "\n",
    "The t-value of -4.115 is the ratio:\n",
    "\n",
    "$$t = \\frac{coefficient}{standard\\ error} =\\frac{-0.032}{0.008} = -4.115$$\n",
    "  "
   ]
  },
  {
   "cell_type": "markdown",
   "metadata": {
    "colab_type": "text",
    "id": "oyWxk8aqzKFI"
   },
   "source": [
    "The null hypothesis is:\n",
    "\n",
    "$$H_0: \\beta=0$$\n",
    "\n",
    "The t-value of -4 means that the observed value (-3.2%) is 4 standard deviation below the mean ($\\beta=0$). The p-value or probability  of getting this value at chance is virtually 0. Therefore, we reject the null hypothesis that the magnitude of treatment is 0."
   ]
  },
  {
   "cell_type": "markdown",
   "metadata": {
    "colab_type": "text",
    "id": "XEkPEJB-3EVN"
   },
   "source": [
    "What defines an experiment?\n",
    "\n",
    "The randomization of the treatment variable (T).\n",
    "\n",
    "It automatically makes the treatment variable (T) independent of other factors:\n",
    "\n",
    "$$T \\perp Other \\ Factors$$\n",
    "\n",
    "In an experiment, the addition of other factors in the regression cannot affect the estimation of the coefficient of the treatment variable ($\\beta$). If you see substantial changes in $\\beta$, you can infer that you are not working with experimental data.  \n",
    "\n",
    "Note that in observational studies, you must always control for other factors. Otherwise, you will have the omitted variable bias problem. \n",
    "\n",
    "Let's estimate the multiple regression below:"
   ]
  },
  {
   "cell_type": "markdown",
   "metadata": {
    "colab_type": "text",
    "id": "oq_PqrN12FPO"
   },
   "source": [
    "$$y=Intercept+\\beta T + Other\\ Factors+\\epsilon$$"
   ]
  },
  {
   "cell_type": "code",
   "execution_count": 11,
   "metadata": {
    "colab": {},
    "colab_type": "code",
    "id": "NKXBB1Hrv6x3"
   },
   "outputs": [],
   "source": [
    "other_factors = ['college', 'yearsexp', 'volunteer', 'military',\n",
    "          'email', 'workinschool', 'honors',\n",
    "          'computerskills', 'specialskills']\n",
    "multiple_reg = sm.OLS(df['call'],\n",
    "                      df[['Intercept', 'Treatment'] + other_factors],\n",
    "                      missing='drop').fit()"
   ]
  },
  {
   "cell_type": "markdown",
   "metadata": {
    "colab_type": "text",
    "id": "O6HFxS3H-O9j"
   },
   "source": [
    "We can see that the coefficient of the Treatment (-3.1%) didn't change much as expected with the additional \n",
    "control variables."
   ]
  },
  {
   "cell_type": "code",
   "execution_count": 12,
   "metadata": {
    "colab": {
     "base_uri": "https://localhost:8080/",
     "height": 272
    },
    "colab_type": "code",
    "id": "ZkChkY13wnN_",
    "outputId": "d4ae588a-de0e-49eb-80b5-bb2b3a151a0a"
   },
   "outputs": [
    {
     "name": "stdout",
     "output_type": "stream",
     "text": [
      "==================================================================================\n",
      "                     coef    std err          t      P>|t|      [0.025      0.975]\n",
      "----------------------------------------------------------------------------------\n",
      "Intercept          0.0547      0.015      3.727      0.000       0.026       0.083\n",
      "Treatment         -0.0311      0.008     -4.032      0.000      -0.046      -0.016\n",
      "college            0.0068      0.009      0.768      0.443      -0.010       0.024\n",
      "yearsexp           0.0029      0.001      3.630      0.000       0.001       0.005\n",
      "volunteer         -0.0032      0.011     -0.295      0.768      -0.024       0.018\n",
      "military          -0.0033      0.014     -0.232      0.817      -0.032       0.025\n",
      "email              0.0143      0.011      1.285      0.199      -0.008       0.036\n",
      "workinschool       0.0008      0.009      0.093      0.926      -0.016       0.018\n",
      "honors             0.0642      0.018      3.632      0.000       0.030       0.099\n",
      "computerskills    -0.0202      0.011     -1.877      0.061      -0.041       0.001\n",
      "specialskills      0.0634      0.009      7.376      0.000       0.047       0.080\n",
      "==================================================================================\n"
     ]
    }
   ],
   "source": [
    "print(multiple_reg.summary().tables[1])"
   ]
  },
  {
   "cell_type": "markdown",
   "metadata": {
    "colab_type": "text",
    "id": "_LhtUSOZE5s3"
   },
   "source": [
    "## Exercises"
   ]
  },
  {
   "cell_type": "markdown",
   "metadata": {
    "colab_type": "text",
    "id": "pKO-5iZcAaQY"
   },
   "source": [
    "1| In the literature of racial discrimination, there are more than 1000 observational studies for each experimental study. Suppose you read 100 observational studies that indicate that racial discrimination is real. Suppose that you also read 1 experimental study that claims no evidence of racial discrimination. Are you more inclined to accept the result of 100 observational studies or the result of the experimental study? Justify your answer."
   ]
  },
  {
   "cell_type": "markdown",
   "metadata": {
    "colab_type": "text",
    "id": "d57uEHTUnsK0"
   },
   "source": [
    "2| Interpret the 4 values of the contingency table below. Specifically, state the meaning and compare the values.\n",
    "\n",
    "The variable 'h': 1 = higher quality curriculum vitae; 0 = lower quality curriculum vitae. This variable was randomized.\n",
    "\n",
    "Other variables were previously defined."
   ]
  },
  {
   "cell_type": "code",
   "execution_count": 13,
   "metadata": {
    "colab": {
     "base_uri": "https://localhost:8080/",
     "height": 142
    },
    "colab_type": "code",
    "id": "Gcm_4oVHkkxn",
    "outputId": "43e60b40-ae4e-4911-b3f6-0666bbbe4125"
   },
   "outputs": [
    {
     "data": {
      "text/html": [
       "<div>\n",
       "<style scoped>\n",
       "    .dataframe tbody tr th:only-of-type {\n",
       "        vertical-align: middle;\n",
       "    }\n",
       "\n",
       "    .dataframe tbody tr th {\n",
       "        vertical-align: top;\n",
       "    }\n",
       "\n",
       "    .dataframe thead th {\n",
       "        text-align: right;\n",
       "    }\n",
       "</style>\n",
       "<table border=\"1\" class=\"dataframe\">\n",
       "  <thead>\n",
       "    <tr style=\"text-align: right;\">\n",
       "      <th>h</th>\n",
       "      <th>0.0</th>\n",
       "      <th>1.0</th>\n",
       "    </tr>\n",
       "    <tr>\n",
       "      <th>Treatment</th>\n",
       "      <th></th>\n",
       "      <th></th>\n",
       "    </tr>\n",
       "  </thead>\n",
       "  <tbody>\n",
       "    <tr>\n",
       "      <th>0</th>\n",
       "      <td>0.084983</td>\n",
       "      <td>0.107931</td>\n",
       "    </tr>\n",
       "    <tr>\n",
       "      <th>1</th>\n",
       "      <td>0.061881</td>\n",
       "      <td>0.067048</td>\n",
       "    </tr>\n",
       "  </tbody>\n",
       "</table>\n",
       "</div>"
      ],
      "text/plain": [
       "h               0.0       1.0\n",
       "Treatment                    \n",
       "0          0.084983  0.107931\n",
       "1          0.061881  0.067048"
      ]
     },
     "execution_count": 13,
     "metadata": {},
     "output_type": "execute_result"
    }
   ],
   "source": [
    "contingency_table = pd.crosstab(df['Treatment'], df['h'], \n",
    "                                values=df['call'], aggfunc='mean')\n",
    "contingency_table"
   ]
  },
  {
   "cell_type": "markdown",
   "metadata": {
    "colab_type": "text",
    "id": "fESn4gbQrIvW"
   },
   "source": [
    "3| I created an interaction variable 'h_Treatment' that is the pairwise multiplication of the variable 'h' and 'treatment'. \n",
    "\n",
    "How can you use the coefficients of the regression below to get the values of the contingency table in exercise 2? Show the calculations."
   ]
  },
  {
   "cell_type": "code",
   "execution_count": 14,
   "metadata": {
    "colab": {
     "base_uri": "https://localhost:8080/",
     "height": 153
    },
    "colab_type": "code",
    "id": "8fZAfDJFjY8O",
    "outputId": "378c155a-310a-45c0-df95-d86802bca4c1"
   },
   "outputs": [
    {
     "name": "stdout",
     "output_type": "stream",
     "text": [
      "===============================================================================\n",
      "                  coef    std err          t      P>|t|      [0.025      0.975]\n",
      "-------------------------------------------------------------------------------\n",
      "Intercept       0.0850      0.008     10.895      0.000       0.070       0.100\n",
      "Treatment      -0.0231      0.011     -2.094      0.036      -0.045      -0.001\n",
      "h               0.0229      0.011      2.085      0.037       0.001       0.045\n",
      "h_Treatment    -0.0178      0.016     -1.142      0.253      -0.048       0.013\n",
      "===============================================================================\n"
     ]
    }
   ],
   "source": [
    "df['h_Treatment'] = df['h']*df['Treatment']\n",
    "interaction = sm.OLS(df['call'],\n",
    "                      df[['Intercept', 'Treatment', 'h', 'h_Treatment'] ],\n",
    "                      missing='drop').fit()\n",
    "print(interaction.summary().tables[1])                      "
   ]
  },
  {
   "cell_type": "markdown",
   "metadata": {
    "colab_type": "text",
    "id": "hzZGykmBsf4U"
   },
   "source": [
    "4| I run the regression below without the interaction term 'h_Treatment'. Could I use the coefficients below to get the values of the contingency table in exercise 2?  If yes, show the exact calculations."
   ]
  },
  {
   "cell_type": "code",
   "execution_count": 15,
   "metadata": {
    "colab": {
     "base_uri": "https://localhost:8080/",
     "height": 136
    },
    "colab_type": "code",
    "id": "PbvaDdMPjY_N",
    "outputId": "f97aa667-deb3-4ee2-cbdf-d806ce1d483f"
   },
   "outputs": [
    {
     "name": "stdout",
     "output_type": "stream",
     "text": [
      "==============================================================================\n",
      "                 coef    std err          t      P>|t|      [0.025      0.975]\n",
      "------------------------------------------------------------------------------\n",
      "Intercept      0.0894      0.007     13.250      0.000       0.076       0.103\n",
      "Treatment     -0.0320      0.008     -4.116      0.000      -0.047      -0.017\n",
      "h              0.0141      0.008      1.806      0.071      -0.001       0.029\n",
      "==============================================================================\n"
     ]
    }
   ],
   "source": [
    "interaction = sm.OLS(df['call'],\n",
    "                      df[['Intercept', 'Treatment', 'h'] ],\n",
    "                      missing='drop').fit()\n",
    "print(interaction.summary().tables[1])    "
   ]
  },
  {
   "cell_type": "markdown",
   "metadata": {
    "colab_type": "text",
    "id": "90yiwDjsyZQm"
   },
   "source": [
    "5| Write a code to get a contingency table below:\n",
    "\n",
    "\n",
    "|firstname h |    0.0   |   1.0    |\n",
    "|------------|----------|----------|\n",
    "|Aisha       | 0.010000 | 0.037500 |\n",
    "|Allison     | 0.121739 | 0.068376 |\n",
    "|...         |    ...   |     ...  |\n",
    "\n",
    "Inside the table are the callback rates broken by Curriculum Vitae quality.\n",
    "What is the callback rate for Kristen and Lakisha? Why the rates are so different? Could we justify the rate difference, arguing that one is more educated and qualified than other? "
   ]
  },
  {
   "cell_type": "markdown",
   "metadata": {
    "colab_type": "text",
    "id": "i-MPIny2O8Om"
   },
   "source": [
    "## Reference"
   ]
  },
  {
   "cell_type": "markdown",
   "metadata": {
    "colab_type": "text",
    "id": "ZOwX1_TNpbMt"
   },
   "source": [
    "Bertrand, Marianne, and Sendhil Mullainathan. (2004). Are Emily and Greg More Employable Than Lakisha and Jamal? A Field Experiment on Labor Market Discrimination. American Economic Review, 94 (4): 991-1013. [Click to download the paper](https://github.com/causal-methods/Papers/raw/master/Are%20Emily%20and%20Greg%20More%20Employable%20than%20Lakisha%20and%20Jamal.pdf)\n"
   ]
  }
 ],
 "metadata": {
  "colab": {
   "name": "2)_Does_a_White_Sounding_Name_Help_to_Get_Job_Interview_Solution.ipynb",
   "provenance": []
  },
  "kernelspec": {
   "display_name": "Python 3",
   "language": "python",
   "name": "python3"
  },
  "language_info": {
   "codemirror_mode": {
    "name": "ipython",
    "version": 3
   },
   "file_extension": ".py",
   "mimetype": "text/x-python",
   "name": "python",
   "nbconvert_exporter": "python",
   "pygments_lexer": "ipython3",
   "version": "3.7.6"
  }
 },
 "nbformat": 4,
 "nbformat_minor": 1
}
