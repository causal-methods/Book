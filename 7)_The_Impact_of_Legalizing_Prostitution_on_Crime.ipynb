{
  "nbformat": 4,
  "nbformat_minor": 0,
  "metadata": {
    "colab": {
      "name": "7) The Impact of Legalizing Prostitution on Crime.ipynb",
      "provenance": []
    },
    "kernelspec": {
      "display_name": "Python 3",
      "language": "python",
      "name": "python3"
    },
    "language_info": {
      "codemirror_mode": {
        "name": "ipython",
        "version": 3
      },
      "file_extension": ".py",
      "mimetype": "text/x-python",
      "name": "python",
      "nbconvert_exporter": "python",
      "pygments_lexer": "ipython3",
      "version": "3.7.9"
    }
  },
  "cells": [
    {
      "cell_type": "markdown",
      "metadata": {
        "id": "mfxvKsxwpZjN"
      },
      "source": [
        "# 7) The Impact of Legalizing Prostitution on Crime"
      ]
    },
    {
      "cell_type": "markdown",
      "metadata": {
        "id": "kRSC3oJZQSQ2"
      },
      "source": [
        "[Vitor Kamada](https://www.linkedin.com/in/vitor-kamada-1b73a078)\n",
        "\n",
        "E-mail: econometrics.methods@gmail.com\n",
        "\n",
        "Last updated: 11-2-2020"
      ]
    },
    {
      "cell_type": "markdown",
      "metadata": {
        "id": "iP3_k0wEcYSY"
      },
      "source": [
        "In the Netherlands, there are legal prostitution zones that in Dutch is called tippelzones. Bisschop et al. (2017) reported that the opening of a tippelzone reduces sexual abuse and rape by about 30-40%.\n",
        "\n",
        "Let's open the dataset of Bisschop et al. (2017). Each row is a city in the Netherlands. The same city is observed between 1994–2011."
      ]
    },
    {
      "cell_type": "code",
      "metadata": {
        "id": "3wG1YQm6B55d",
        "outputId": "fa1285da-5df1-413e-9ca7-41ed341635c1",
        "colab": {
          "base_uri": "https://localhost:8080/",
          "height": 309
        }
      },
      "source": [
        "import numpy as np\n",
        "import pandas as pd\n",
        "pd.set_option('precision', 3)\n",
        "\n",
        "# Data from Bisschop et al. (2017)\n",
        "path = \"https://github.com/causal-methods/Data/raw/master/\" \n",
        "df = pd.read_stata(path + \"CBSregist2015.dta\")\n",
        "df.head(5)"
      ],
      "execution_count": 1,
      "outputs": [
        {
          "output_type": "execute_result",
          "data": {
            "text/html": [
              "<div>\n",
              "<style scoped>\n",
              "    .dataframe tbody tr th:only-of-type {\n",
              "        vertical-align: middle;\n",
              "    }\n",
              "\n",
              "    .dataframe tbody tr th {\n",
              "        vertical-align: top;\n",
              "    }\n",
              "\n",
              "    .dataframe thead th {\n",
              "        text-align: right;\n",
              "    }\n",
              "</style>\n",
              "<table border=\"1\" class=\"dataframe\">\n",
              "  <thead>\n",
              "    <tr style=\"text-align: right;\">\n",
              "      <th></th>\n",
              "      <th>city</th>\n",
              "      <th>year</th>\n",
              "      <th>opening</th>\n",
              "      <th>closing</th>\n",
              "      <th>city1</th>\n",
              "      <th>logpopdens</th>\n",
              "      <th>openingReg</th>\n",
              "      <th>mayorCDA</th>\n",
              "      <th>mayorCU</th>\n",
              "      <th>mayorD66</th>\n",
              "      <th>mayorVVD</th>\n",
              "      <th>lnmaltreatN</th>\n",
              "      <th>lnweaponsN</th>\n",
              "      <th>lndrugsN</th>\n",
              "      <th>lnrapeN</th>\n",
              "      <th>lnsexassaultN</th>\n",
              "      <th>lnrapesexaN</th>\n",
              "      <th>opening12m</th>\n",
              "      <th>mayorLib</th>\n",
              "      <th>mayorChr</th>\n",
              "      <th>mayorSoc</th>\n",
              "      <th>inkhh</th>\n",
              "      <th>insurWWAO</th>\n",
              "      <th>logpopmale1565</th>\n",
              "      <th>nondutchpc</th>\n",
              "      <th>educhpc</th>\n",
              "      <th>malfemratio</th>\n",
              "      <th>openingNoReg12</th>\n",
              "      <th>openingReg12</th>\n",
              "      <th>openingRegP12m</th>\n",
              "      <th>openingRegP</th>\n",
              "      <th>everopenNoReg</th>\n",
              "      <th>everopenNoReg38p</th>\n",
              "      <th>openingRegA</th>\n",
              "      <th>openingReg38pA</th>\n",
              "      <th>closespillNoReg</th>\n",
              "      <th>regspillNoReg</th>\n",
              "      <th>brothelban</th>\n",
              "      <th>openspillRegA</th>\n",
              "      <th>openspillNoReg</th>\n",
              "      <th>openspillRegP</th>\n",
              "      <th>rapepcN</th>\n",
              "      <th>sexassaultpcN</th>\n",
              "      <th>rapesexapcN</th>\n",
              "      <th>drugspcN</th>\n",
              "      <th>maltreatpcN</th>\n",
              "      <th>weaponspcN</th>\n",
              "      <th>popul_100</th>\n",
              "      <th>popmale1565_100</th>\n",
              "      <th>pop_dens_100</th>\n",
              "      <th>insurWWAO_pc</th>\n",
              "      <th>robbembpcN</th>\n",
              "      <th>lnrobbembN</th>\n",
              "      <th>robbpcN</th>\n",
              "      <th>lnrobbN</th>\n",
              "      <th>simtheftpcN</th>\n",
              "      <th>aggtheftpcN</th>\n",
              "      <th>lnsimtheftN</th>\n",
              "      <th>lnaggtheftN</th>\n",
              "      <th>theftpcN</th>\n",
              "      <th>lntheftN</th>\n",
              "      <th>pordoffpcN</th>\n",
              "      <th>pordviolpcN</th>\n",
              "      <th>lnpordoffN</th>\n",
              "      <th>lnpordviolN</th>\n",
              "    </tr>\n",
              "  </thead>\n",
              "  <tbody>\n",
              "    <tr>\n",
              "      <th>0</th>\n",
              "      <td>Amsterdam</td>\n",
              "      <td>1994-01-01</td>\n",
              "      <td>0.0</td>\n",
              "      <td>0.0</td>\n",
              "      <td>1.0</td>\n",
              "      <td>8.381</td>\n",
              "      <td>0.0</td>\n",
              "      <td>0.0</td>\n",
              "      <td>0.0</td>\n",
              "      <td>0.0</td>\n",
              "      <td>0.0</td>\n",
              "      <td>6.786</td>\n",
              "      <td>6.507</td>\n",
              "      <td>7.473</td>\n",
              "      <td>4.828</td>\n",
              "      <td>4.174</td>\n",
              "      <td>5.247</td>\n",
              "      <td>1.0</td>\n",
              "      <td>0.0</td>\n",
              "      <td>0.0</td>\n",
              "      <td>1.0</td>\n",
              "      <td>29.0</td>\n",
              "      <td>69650.0</td>\n",
              "      <td>12.459</td>\n",
              "      <td>0.161</td>\n",
              "      <td>0.265</td>\n",
              "      <td>0.956</td>\n",
              "      <td>0.0</td>\n",
              "      <td>0.0</td>\n",
              "      <td>0.0</td>\n",
              "      <td>0.0</td>\n",
              "      <td>0.0</td>\n",
              "      <td>0.0</td>\n",
              "      <td>0.0</td>\n",
              "      <td>0.0</td>\n",
              "      <td>0.0</td>\n",
              "      <td>0.0</td>\n",
              "      <td>0.0</td>\n",
              "      <td>0.0</td>\n",
              "      <td>1.0</td>\n",
              "      <td>0.0</td>\n",
              "      <td>1.726</td>\n",
              "      <td>0.898</td>\n",
              "      <td>2.624</td>\n",
              "      <td>24.306</td>\n",
              "      <td>12.222</td>\n",
              "      <td>9.253</td>\n",
              "      <td>7240.96</td>\n",
              "      <td>2576.07</td>\n",
              "      <td>43.64</td>\n",
              "      <td>0.096</td>\n",
              "      <td>132.165</td>\n",
              "      <td>9.166</td>\n",
              "      <td>12.636</td>\n",
              "      <td>6.819</td>\n",
              "      <td>59.246</td>\n",
              "      <td>57.934</td>\n",
              "      <td>8.364</td>\n",
              "      <td>8.342</td>\n",
              "      <td>117.181</td>\n",
              "      <td>9.046</td>\n",
              "      <td>7.596</td>\n",
              "      <td>5.110</td>\n",
              "      <td>6.310</td>\n",
              "      <td>5.914</td>\n",
              "    </tr>\n",
              "    <tr>\n",
              "      <th>1</th>\n",
              "      <td>Amsterdam</td>\n",
              "      <td>1995-01-01</td>\n",
              "      <td>0.0</td>\n",
              "      <td>0.0</td>\n",
              "      <td>1.0</td>\n",
              "      <td>8.379</td>\n",
              "      <td>0.0</td>\n",
              "      <td>0.0</td>\n",
              "      <td>0.0</td>\n",
              "      <td>0.0</td>\n",
              "      <td>0.0</td>\n",
              "      <td>6.846</td>\n",
              "      <td>6.184</td>\n",
              "      <td>7.223</td>\n",
              "      <td>4.500</td>\n",
              "      <td>3.912</td>\n",
              "      <td>4.942</td>\n",
              "      <td>1.0</td>\n",
              "      <td>0.0</td>\n",
              "      <td>0.0</td>\n",
              "      <td>1.0</td>\n",
              "      <td>29.0</td>\n",
              "      <td>70165.0</td>\n",
              "      <td>12.463</td>\n",
              "      <td>0.153</td>\n",
              "      <td>0.281</td>\n",
              "      <td>0.959</td>\n",
              "      <td>0.0</td>\n",
              "      <td>0.0</td>\n",
              "      <td>0.0</td>\n",
              "      <td>0.0</td>\n",
              "      <td>0.0</td>\n",
              "      <td>0.0</td>\n",
              "      <td>0.0</td>\n",
              "      <td>0.0</td>\n",
              "      <td>0.0</td>\n",
              "      <td>0.0</td>\n",
              "      <td>0.0</td>\n",
              "      <td>0.0</td>\n",
              "      <td>1.0</td>\n",
              "      <td>0.0</td>\n",
              "      <td>1.246</td>\n",
              "      <td>0.692</td>\n",
              "      <td>1.938</td>\n",
              "      <td>18.969</td>\n",
              "      <td>13.015</td>\n",
              "      <td>6.715</td>\n",
              "      <td>7222.30</td>\n",
              "      <td>2585.78</td>\n",
              "      <td>43.53</td>\n",
              "      <td>0.097</td>\n",
              "      <td>109.453</td>\n",
              "      <td>8.975</td>\n",
              "      <td>12.946</td>\n",
              "      <td>6.841</td>\n",
              "      <td>50.815</td>\n",
              "      <td>43.823</td>\n",
              "      <td>8.208</td>\n",
              "      <td>8.060</td>\n",
              "      <td>94.637</td>\n",
              "      <td>8.830</td>\n",
              "      <td>7.061</td>\n",
              "      <td>4.361</td>\n",
              "      <td>6.234</td>\n",
              "      <td>5.753</td>\n",
              "    </tr>\n",
              "    <tr>\n",
              "      <th>2</th>\n",
              "      <td>Amsterdam</td>\n",
              "      <td>1996-01-01</td>\n",
              "      <td>1.0</td>\n",
              "      <td>0.0</td>\n",
              "      <td>1.0</td>\n",
              "      <td>8.373</td>\n",
              "      <td>0.0</td>\n",
              "      <td>0.0</td>\n",
              "      <td>0.0</td>\n",
              "      <td>0.0</td>\n",
              "      <td>0.0</td>\n",
              "      <td>6.851</td>\n",
              "      <td>6.244</td>\n",
              "      <td>7.111</td>\n",
              "      <td>4.443</td>\n",
              "      <td>3.689</td>\n",
              "      <td>4.828</td>\n",
              "      <td>0.0</td>\n",
              "      <td>0.0</td>\n",
              "      <td>0.0</td>\n",
              "      <td>1.0</td>\n",
              "      <td>29.0</td>\n",
              "      <td>69730.0</td>\n",
              "      <td>12.468</td>\n",
              "      <td>0.155</td>\n",
              "      <td>0.314</td>\n",
              "      <td>0.965</td>\n",
              "      <td>1.0</td>\n",
              "      <td>0.0</td>\n",
              "      <td>0.0</td>\n",
              "      <td>0.0</td>\n",
              "      <td>1.0</td>\n",
              "      <td>0.0</td>\n",
              "      <td>0.0</td>\n",
              "      <td>0.0</td>\n",
              "      <td>0.0</td>\n",
              "      <td>0.0</td>\n",
              "      <td>0.0</td>\n",
              "      <td>0.0</td>\n",
              "      <td>1.0</td>\n",
              "      <td>0.0</td>\n",
              "      <td>1.184</td>\n",
              "      <td>0.557</td>\n",
              "      <td>1.741</td>\n",
              "      <td>17.058</td>\n",
              "      <td>13.159</td>\n",
              "      <td>7.172</td>\n",
              "      <td>7181.19</td>\n",
              "      <td>2599.21</td>\n",
              "      <td>43.28</td>\n",
              "      <td>0.097</td>\n",
              "      <td>93.647</td>\n",
              "      <td>8.814</td>\n",
              "      <td>12.602</td>\n",
              "      <td>6.808</td>\n",
              "      <td>42.333</td>\n",
              "      <td>37.111</td>\n",
              "      <td>8.020</td>\n",
              "      <td>7.888</td>\n",
              "      <td>79.444</td>\n",
              "      <td>8.649</td>\n",
              "      <td>7.520</td>\n",
              "      <td>5.431</td>\n",
              "      <td>6.292</td>\n",
              "      <td>5.966</td>\n",
              "    </tr>\n",
              "    <tr>\n",
              "      <th>3</th>\n",
              "      <td>Amsterdam</td>\n",
              "      <td>1997-01-01</td>\n",
              "      <td>1.0</td>\n",
              "      <td>0.0</td>\n",
              "      <td>1.0</td>\n",
              "      <td>8.369</td>\n",
              "      <td>0.0</td>\n",
              "      <td>0.0</td>\n",
              "      <td>0.0</td>\n",
              "      <td>0.0</td>\n",
              "      <td>0.0</td>\n",
              "      <td>6.862</td>\n",
              "      <td>5.991</td>\n",
              "      <td>7.119</td>\n",
              "      <td>4.007</td>\n",
              "      <td>3.401</td>\n",
              "      <td>4.443</td>\n",
              "      <td>0.0</td>\n",
              "      <td>0.0</td>\n",
              "      <td>0.0</td>\n",
              "      <td>1.0</td>\n",
              "      <td>29.0</td>\n",
              "      <td>66790.0</td>\n",
              "      <td>12.461</td>\n",
              "      <td>0.134</td>\n",
              "      <td>0.315</td>\n",
              "      <td>0.961</td>\n",
              "      <td>1.0</td>\n",
              "      <td>0.0</td>\n",
              "      <td>0.0</td>\n",
              "      <td>0.0</td>\n",
              "      <td>1.0</td>\n",
              "      <td>0.0</td>\n",
              "      <td>0.0</td>\n",
              "      <td>0.0</td>\n",
              "      <td>0.0</td>\n",
              "      <td>0.0</td>\n",
              "      <td>0.0</td>\n",
              "      <td>0.0</td>\n",
              "      <td>1.0</td>\n",
              "      <td>0.0</td>\n",
              "      <td>0.769</td>\n",
              "      <td>0.419</td>\n",
              "      <td>1.189</td>\n",
              "      <td>17.269</td>\n",
              "      <td>13.354</td>\n",
              "      <td>5.593</td>\n",
              "      <td>7151.48</td>\n",
              "      <td>2581.23</td>\n",
              "      <td>43.10</td>\n",
              "      <td>0.093</td>\n",
              "      <td>93.058</td>\n",
              "      <td>8.803</td>\n",
              "      <td>11.746</td>\n",
              "      <td>6.733</td>\n",
              "      <td>46.843</td>\n",
              "      <td>32.860</td>\n",
              "      <td>8.117</td>\n",
              "      <td>7.762</td>\n",
              "      <td>79.704</td>\n",
              "      <td>8.648</td>\n",
              "      <td>6.852</td>\n",
              "      <td>4.195</td>\n",
              "      <td>6.194</td>\n",
              "      <td>5.704</td>\n",
              "    </tr>\n",
              "    <tr>\n",
              "      <th>4</th>\n",
              "      <td>Amsterdam</td>\n",
              "      <td>1998-01-01</td>\n",
              "      <td>1.0</td>\n",
              "      <td>0.0</td>\n",
              "      <td>1.0</td>\n",
              "      <td>8.373</td>\n",
              "      <td>0.0</td>\n",
              "      <td>0.0</td>\n",
              "      <td>0.0</td>\n",
              "      <td>0.0</td>\n",
              "      <td>0.0</td>\n",
              "      <td>6.923</td>\n",
              "      <td>5.784</td>\n",
              "      <td>7.193</td>\n",
              "      <td>4.248</td>\n",
              "      <td>3.807</td>\n",
              "      <td>4.745</td>\n",
              "      <td>0.0</td>\n",
              "      <td>0.0</td>\n",
              "      <td>0.0</td>\n",
              "      <td>1.0</td>\n",
              "      <td>29.0</td>\n",
              "      <td>63260.0</td>\n",
              "      <td>12.468</td>\n",
              "      <td>0.140</td>\n",
              "      <td>0.320</td>\n",
              "      <td>0.962</td>\n",
              "      <td>0.0</td>\n",
              "      <td>0.0</td>\n",
              "      <td>0.0</td>\n",
              "      <td>0.0</td>\n",
              "      <td>1.0</td>\n",
              "      <td>1.0</td>\n",
              "      <td>0.0</td>\n",
              "      <td>0.0</td>\n",
              "      <td>0.0</td>\n",
              "      <td>0.0</td>\n",
              "      <td>0.0</td>\n",
              "      <td>0.0</td>\n",
              "      <td>1.0</td>\n",
              "      <td>0.0</td>\n",
              "      <td>0.975</td>\n",
              "      <td>0.627</td>\n",
              "      <td>1.601</td>\n",
              "      <td>18.520</td>\n",
              "      <td>14.134</td>\n",
              "      <td>4.526</td>\n",
              "      <td>7181.51</td>\n",
              "      <td>2598.41</td>\n",
              "      <td>43.28</td>\n",
              "      <td>0.088</td>\n",
              "      <td>94.061</td>\n",
              "      <td>8.818</td>\n",
              "      <td>13.020</td>\n",
              "      <td>6.841</td>\n",
              "      <td>45.255</td>\n",
              "      <td>33.907</td>\n",
              "      <td>8.086</td>\n",
              "      <td>7.798</td>\n",
              "      <td>79.162</td>\n",
              "      <td>8.646</td>\n",
              "      <td>6.127</td>\n",
              "      <td>4.595</td>\n",
              "      <td>6.087</td>\n",
              "      <td>5.799</td>\n",
              "    </tr>\n",
              "  </tbody>\n",
              "</table>\n",
              "</div>"
            ],
            "text/plain": [
              "        city       year  opening  ...  pordviolpcN  lnpordoffN  lnpordviolN\n",
              "0  Amsterdam 1994-01-01      0.0  ...        5.110       6.310        5.914\n",
              "1  Amsterdam 1995-01-01      0.0  ...        4.361       6.234        5.753\n",
              "2  Amsterdam 1996-01-01      1.0  ...        5.431       6.292        5.966\n",
              "3  Amsterdam 1997-01-01      1.0  ...        4.195       6.194        5.704\n",
              "4  Amsterdam 1998-01-01      1.0  ...        4.595       6.087        5.799\n",
              "\n",
              "[5 rows x 65 columns]"
            ]
          },
          "metadata": {
            "tags": []
          },
          "execution_count": 1
        }
      ]
    },
    {
      "cell_type": "markdown",
      "metadata": {
        "id": "AWoRmkPF3BMW"
      },
      "source": [
        "Let's break the cities into 3 groups. Big cities and medium cities had a tippelzone in at least one year, whereas the other cities in the sample hadn't a tippelzone."
      ]
    },
    {
      "cell_type": "code",
      "metadata": {
        "id": "Q8FitWN-Di6_"
      },
      "source": [
        "big_cities = [\"Amsterdam\", \"Rotterdam\", \"Den Haag\"]\n",
        "medium_cities = [\"Utrecht\", \"Nijmegen\", \"Groningen\",\n",
        "                 \"Heerlen\", \"Eindhoven\", \"Arnhem\"]\n",
        "\n",
        "# Classify cities\n",
        "def classify(var):\n",
        "    if var in big_cities:\n",
        "        return \"Big Cities\"\n",
        "    elif var in medium_cities:\n",
        "        return \"Medium Cities\"    \n",
        "    else:   \n",
        "        return \"No tippelzone\"\n",
        "\n",
        "df['group'] = df[\"city\"].apply(classify)"
      ],
      "execution_count": 2,
      "outputs": []
    },
    {
      "cell_type": "markdown",
      "metadata": {
        "id": "DAHRi2vD4dW8"
      },
      "source": [
        "Below are the annual crime reports per 10,000 inhabitants. Overall, big cities have higher crime rates. The exception is a drug-related crime. "
      ]
    },
    {
      "cell_type": "code",
      "metadata": {
        "id": "d1hJyks6IO_9",
        "outputId": "fe717e35-a57c-442a-f9e0-20532405b814",
        "colab": {
          "base_uri": "https://localhost:8080/",
          "height": 202
        }
      },
      "source": [
        "outcome = ['sexassaultpcN', 'rapepcN', \n",
        "\t'drugspcN', 'maltreatpcN', 'weaponspcN']\n",
        "\n",
        "df.groupby('group')[outcome].mean().T"
      ],
      "execution_count": 3,
      "outputs": [
        {
          "output_type": "execute_result",
          "data": {
            "text/html": [
              "<div>\n",
              "<style scoped>\n",
              "    .dataframe tbody tr th:only-of-type {\n",
              "        vertical-align: middle;\n",
              "    }\n",
              "\n",
              "    .dataframe tbody tr th {\n",
              "        vertical-align: top;\n",
              "    }\n",
              "\n",
              "    .dataframe thead th {\n",
              "        text-align: right;\n",
              "    }\n",
              "</style>\n",
              "<table border=\"1\" class=\"dataframe\">\n",
              "  <thead>\n",
              "    <tr style=\"text-align: right;\">\n",
              "      <th>group</th>\n",
              "      <th>Big Cities</th>\n",
              "      <th>Medium Cities</th>\n",
              "      <th>No tippelzone</th>\n",
              "    </tr>\n",
              "  </thead>\n",
              "  <tbody>\n",
              "    <tr>\n",
              "      <th>sexassaultpcN</th>\n",
              "      <td>0.775</td>\n",
              "      <td>0.626</td>\n",
              "      <td>0.664</td>\n",
              "    </tr>\n",
              "    <tr>\n",
              "      <th>rapepcN</th>\n",
              "      <td>1.032</td>\n",
              "      <td>0.846</td>\n",
              "      <td>0.691</td>\n",
              "    </tr>\n",
              "    <tr>\n",
              "      <th>drugspcN</th>\n",
              "      <td>14.921</td>\n",
              "      <td>15.599</td>\n",
              "      <td>12.779</td>\n",
              "    </tr>\n",
              "    <tr>\n",
              "      <th>maltreatpcN</th>\n",
              "      <td>21.259</td>\n",
              "      <td>18.665</td>\n",
              "      <td>17.864</td>\n",
              "    </tr>\n",
              "    <tr>\n",
              "      <th>weaponspcN</th>\n",
              "      <td>5.635</td>\n",
              "      <td>4.385</td>\n",
              "      <td>4.207</td>\n",
              "    </tr>\n",
              "  </tbody>\n",
              "</table>\n",
              "</div>"
            ],
            "text/plain": [
              "group          Big Cities  Medium Cities  No tippelzone\n",
              "sexassaultpcN       0.775          0.626          0.664\n",
              "rapepcN             1.032          0.846          0.691\n",
              "drugspcN           14.921         15.599         12.779\n",
              "maltreatpcN        21.259         18.665         17.864\n",
              "weaponspcN          5.635          4.385          4.207"
            ]
          },
          "metadata": {
            "tags": []
          },
          "execution_count": 3
        }
      ]
    },
    {
      "cell_type": "markdown",
      "metadata": {
        "id": "hqQfUR3X6h7Z"
      },
      "source": [
        "Tippelzones cities are more populated and densely populated than cities without tippelzones. Average household income (\"inkhh\") measured in 1,000 euros is similar in the 3 groups. Tippelzones cities also have individuals with a higher level of education. The proportion of immigrants is higher in big cities (11.4%). The share of social insurance benefits (\"insurWWAO_pc\") is similar to the 3 groups."
      ]
    },
    {
      "cell_type": "code",
      "metadata": {
        "id": "BZ9l-Y7yKQx0",
        "outputId": "6a3ef5cb-3d85-4f11-c20d-259fbcf6e4f1",
        "colab": {
          "base_uri": "https://localhost:8080/",
          "height": 263
        }
      },
      "source": [
        "demographics = ['popul_100', 'pop_dens_100', 'popmale1565_100',\n",
        "            'inkhh', 'educhpc', 'nondutchpc', 'insurWWAO_pc']\n",
        "\n",
        "df.groupby('group')[demographics].mean().T  "
      ],
      "execution_count": 4,
      "outputs": [
        {
          "output_type": "execute_result",
          "data": {
            "text/html": [
              "<div>\n",
              "<style scoped>\n",
              "    .dataframe tbody tr th:only-of-type {\n",
              "        vertical-align: middle;\n",
              "    }\n",
              "\n",
              "    .dataframe tbody tr th {\n",
              "        vertical-align: top;\n",
              "    }\n",
              "\n",
              "    .dataframe thead th {\n",
              "        text-align: right;\n",
              "    }\n",
              "</style>\n",
              "<table border=\"1\" class=\"dataframe\">\n",
              "  <thead>\n",
              "    <tr style=\"text-align: right;\">\n",
              "      <th>group</th>\n",
              "      <th>Big Cities</th>\n",
              "      <th>Medium Cities</th>\n",
              "      <th>No tippelzone</th>\n",
              "    </tr>\n",
              "  </thead>\n",
              "  <tbody>\n",
              "    <tr>\n",
              "      <th>popul_100</th>\n",
              "      <td>5974.886</td>\n",
              "      <td>1724.191</td>\n",
              "      <td>1131.138</td>\n",
              "    </tr>\n",
              "    <tr>\n",
              "      <th>pop_dens_100</th>\n",
              "      <td>43.258</td>\n",
              "      <td>22.977</td>\n",
              "      <td>19.560</td>\n",
              "    </tr>\n",
              "    <tr>\n",
              "      <th>popmale1565_100</th>\n",
              "      <td>2101.446</td>\n",
              "      <td>617.019</td>\n",
              "      <td>392.255</td>\n",
              "    </tr>\n",
              "    <tr>\n",
              "      <th>inkhh</th>\n",
              "      <td>29.052</td>\n",
              "      <td>28.989</td>\n",
              "      <td>30.502</td>\n",
              "    </tr>\n",
              "    <tr>\n",
              "      <th>educhpc</th>\n",
              "      <td>0.300</td>\n",
              "      <td>0.317</td>\n",
              "      <td>0.245</td>\n",
              "    </tr>\n",
              "    <tr>\n",
              "      <th>nondutchpc</th>\n",
              "      <td>0.114</td>\n",
              "      <td>0.059</td>\n",
              "      <td>0.052</td>\n",
              "    </tr>\n",
              "    <tr>\n",
              "      <th>insurWWAO_pc</th>\n",
              "      <td>0.074</td>\n",
              "      <td>0.081</td>\n",
              "      <td>0.078</td>\n",
              "    </tr>\n",
              "  </tbody>\n",
              "</table>\n",
              "</div>"
            ],
            "text/plain": [
              "group            Big Cities  Medium Cities  No tippelzone\n",
              "popul_100          5974.886       1724.191       1131.138\n",
              "pop_dens_100         43.258         22.977         19.560\n",
              "popmale1565_100    2101.446        617.019        392.255\n",
              "inkhh                29.052         28.989         30.502\n",
              "educhpc               0.300          0.317          0.245\n",
              "nondutchpc            0.114          0.059          0.052\n",
              "insurWWAO_pc          0.074          0.081          0.078"
            ]
          },
          "metadata": {
            "tags": []
          },
          "execution_count": 4
        }
      ]
    },
    {
      "cell_type": "markdown",
      "metadata": {
        "id": "iwmQm89XBL_V"
      },
      "source": [
        "The Christian Union party has more mayors (31%) in cities without tippelzone. It is worth mentioning that this party opposes the opening of the tippelzone."
      ]
    },
    {
      "cell_type": "code",
      "metadata": {
        "id": "osAzJJntM8fE",
        "outputId": "d1561569-d704-4b60-fcf6-6e6465db53e4",
        "colab": {
          "base_uri": "https://localhost:8080/",
          "height": 141
        }
      },
      "source": [
        "political_party = ['mayorSoc', 'mayorLib', 'mayorChr']\n",
        "df.groupby('group')[political_party].mean().T  "
      ],
      "execution_count": 5,
      "outputs": [
        {
          "output_type": "execute_result",
          "data": {
            "text/html": [
              "<div>\n",
              "<style scoped>\n",
              "    .dataframe tbody tr th:only-of-type {\n",
              "        vertical-align: middle;\n",
              "    }\n",
              "\n",
              "    .dataframe tbody tr th {\n",
              "        vertical-align: top;\n",
              "    }\n",
              "\n",
              "    .dataframe thead th {\n",
              "        text-align: right;\n",
              "    }\n",
              "</style>\n",
              "<table border=\"1\" class=\"dataframe\">\n",
              "  <thead>\n",
              "    <tr style=\"text-align: right;\">\n",
              "      <th>group</th>\n",
              "      <th>Big Cities</th>\n",
              "      <th>Medium Cities</th>\n",
              "      <th>No tippelzone</th>\n",
              "    </tr>\n",
              "  </thead>\n",
              "  <tbody>\n",
              "    <tr>\n",
              "      <th>mayorSoc</th>\n",
              "      <td>0.481</td>\n",
              "      <td>0.556</td>\n",
              "      <td>0.410</td>\n",
              "    </tr>\n",
              "    <tr>\n",
              "      <th>mayorLib</th>\n",
              "      <td>0.259</td>\n",
              "      <td>0.324</td>\n",
              "      <td>0.278</td>\n",
              "    </tr>\n",
              "    <tr>\n",
              "      <th>mayorChr</th>\n",
              "      <td>0.259</td>\n",
              "      <td>0.120</td>\n",
              "      <td>0.312</td>\n",
              "    </tr>\n",
              "  </tbody>\n",
              "</table>\n",
              "</div>"
            ],
            "text/plain": [
              "group     Big Cities  Medium Cities  No tippelzone\n",
              "mayorSoc       0.481          0.556          0.410\n",
              "mayorLib       0.259          0.324          0.278\n",
              "mayorChr       0.259          0.120          0.312"
            ]
          },
          "metadata": {
            "tags": []
          },
          "execution_count": 5
        }
      ]
    },
    {
      "cell_type": "markdown",
      "metadata": {
        "id": "0NSIJJNb12a2"
      },
      "source": [
        "The dataset is a balanced Panel Data. It is necessary to declare the indices in order: the unit of analysis and time unity."
      ]
    },
    {
      "cell_type": "code",
      "metadata": {
        "id": "fw285SLhc9tN"
      },
      "source": [
        "df['year'] = pd.DatetimeIndex(df['year']).year\n",
        "df['Dyear'] = pd.Categorical(df.year)\n",
        "\n",
        "# Set Panel Data\n",
        "# Set city as the unit of analysis\n",
        "df25 = df.set_index(['city1', 'year'])"
      ],
      "execution_count": 6,
      "outputs": []
    },
    {
      "cell_type": "markdown",
      "metadata": {
        "id": "HLjOUaocpP2i"
      },
      "source": [
        "Let $Y_{ct}$ be the crime in city $c$\n",
        "in year $t$. Let $D_{ct}$ = 1 if city $c$ had an open tippelzone in year $t$; and 0 otherwise. Let's estimate the following model:\n",
        "\n",
        "$$ln(Y_{ct})=\\alpha_c+\\rho D_{ct}+\\beta X_{ct}+\\gamma_t + \\epsilon_{ct}$$\n",
        "\n",
        "where $\\alpha_c$ is the city fixed effects, $X_{ct}$ is the vector of control variables, $\\gamma_t$ is the year fixed effects, and $\\epsilon_{ct}$ the usual error term. "
      ]
    },
    {
      "cell_type": "code",
      "metadata": {
        "id": "r0CEG--xh1no",
        "outputId": "cdde9d3a-c74a-41a7-9ad3-63d359d47788",
        "colab": {
          "base_uri": "https://localhost:8080/"
        }
      },
      "source": [
        "import statsmodels.formula.api as smf\n",
        "\n",
        "Ys = [\"lnsexassaultN\", \"lnrapeN\", \"lndrugsN\",\n",
        "      \"lnweaponsN\", \"lnmaltreatN\"]\n",
        "\n",
        "base = \"~ 1 + opening\"\n",
        "fe = \"+ C(city) + C(Dyear)\"\n",
        "\n",
        "controls = ['logpopmale1565', 'logpopdens', 'inkhh', \n",
        "\t'educhpc', 'nondutchpc', 'insurWWAO', 'mayorCDA',\n",
        "  'mayorCU', 'mayorD66', 'mayorVVD']\n",
        "\n",
        "Xs = \"\"\n",
        "for var in controls:\n",
        "    Xs = Xs + '+' + var\n",
        "\n",
        "columns = []\n",
        "for Y in Ys:\n",
        "  result = smf.ols(Y + base + fe + Xs, df25).fit(cov_type='cluster',\n",
        "                cov_kwds={'groups': df25['city']})\n",
        "  columns.append(result)"
      ],
      "execution_count": 7,
      "outputs": [
        {
          "output_type": "stream",
          "text": [
            "/usr/local/lib/python3.6/dist-packages/statsmodels/tools/_testing.py:19: FutureWarning: pandas.util.testing is deprecated. Use the functions in the public API at pandas.testing instead.\n",
            "  import pandas.util.testing as tm\n"
          ],
          "name": "stderr"
        }
      ]
    },
    {
      "cell_type": "code",
      "metadata": {
        "id": "PUbxgAwQ-lsb",
        "outputId": "d4116195-4f14-4297-8c86-e98986dd3824",
        "colab": {
          "base_uri": "https://localhost:8080/"
        }
      },
      "source": [
        "#  Library to print professional publication\n",
        "# tables in Latex, HTML, etc.\n",
        "!pip install stargazer"
      ],
      "execution_count": 8,
      "outputs": [
        {
          "output_type": "stream",
          "text": [
            "Requirement already satisfied: stargazer in /usr/local/lib/python3.6/dist-packages (0.0.5)\n"
          ],
          "name": "stdout"
        }
      ]
    },
    {
      "cell_type": "markdown",
      "metadata": {
        "id": "RgjGIUuYGv37"
      },
      "source": [
        "Column 1 indicates that an open tippelzone decreases sexual abuse by 26% ($e^{-0.302}-1$). In the other columns, the coefficients of tippelzone are not statistically significant. It looks that legalizing prostitution decreases sexual abuse, but not other crimes as rape, assault, illegal weapon, and drug-related. "
      ]
    },
    {
      "cell_type": "code",
      "metadata": {
        "id": "wq2Qmjyn-sU5",
        "outputId": "b18dbc49-93c7-4442-a100-0ca7ea9a2b00",
        "colab": {
          "base_uri": "https://localhost:8080/",
          "height": 535
        }
      },
      "source": [
        "# Settings for a nice table\n",
        "from stargazer.stargazer import Stargazer\n",
        "stargazer = Stargazer(columns)\n",
        "\n",
        "stargazer.title('The Impact of Tippelzone on Crime')\n",
        "\n",
        "names = ['Sex Abuse', 'Rape', 'Drugs', 'Weapons', 'Assault']\n",
        "stargazer.custom_columns(names, [1, 1, 1, 1, 1])\n",
        "\n",
        "stargazer.covariate_order(['opening'])\n",
        "\n",
        "stargazer.add_line('Covariates', ['Yes', 'Yes', 'Yes', 'Yes', 'Yes'])\n",
        "\n",
        "stargazer.add_line('City Fixed Effects', ['Yes', 'Yes', 'Yes', 'Yes', 'Yes'])\n",
        "stargazer.add_line('Year Fixed Effects', ['Yes', 'Yes', 'Yes', 'Yes', 'Yes'])\n",
        "\n",
        "stargazer"
      ],
      "execution_count": 9,
      "outputs": [
        {
          "output_type": "stream",
          "text": [
            "/usr/local/lib/python3.6/dist-packages/statsmodels/base/model.py:1752: ValueWarning: covariance of constraints does not have full rank. The number of constraints is 52, but rank is 24\n",
            "  'rank is %d' % (J, J_), ValueWarning)\n",
            "/usr/local/lib/python3.6/dist-packages/statsmodels/base/model.py:1752: ValueWarning: covariance of constraints does not have full rank. The number of constraints is 52, but rank is 24\n",
            "  'rank is %d' % (J, J_), ValueWarning)\n",
            "/usr/local/lib/python3.6/dist-packages/statsmodels/base/model.py:1752: ValueWarning: covariance of constraints does not have full rank. The number of constraints is 52, but rank is 24\n",
            "  'rank is %d' % (J, J_), ValueWarning)\n",
            "/usr/local/lib/python3.6/dist-packages/statsmodels/base/model.py:1752: ValueWarning: covariance of constraints does not have full rank. The number of constraints is 52, but rank is 24\n",
            "  'rank is %d' % (J, J_), ValueWarning)\n",
            "/usr/local/lib/python3.6/dist-packages/statsmodels/base/model.py:1752: ValueWarning: covariance of constraints does not have full rank. The number of constraints is 52, but rank is 24\n",
            "  'rank is %d' % (J, J_), ValueWarning)\n"
          ],
          "name": "stderr"
        },
        {
          "output_type": "execute_result",
          "data": {
            "text/html": [
              "The Impact of Tippelzone on Crime<br><table style=\"text-align:center\"><tr><td colspan=\"6\" style=\"border-bottom: 1px solid black\"></td></tr><tr><td style=\"text-align:left\"></td><tr><td></td><td colspan=\"1\">Sex Abuse</td><td colspan=\"1\">Rape</td><td colspan=\"1\">Drugs</td><td colspan=\"1\">Weapons</td><td colspan=\"1\">Assault</td></tr><tr><td style=\"text-align:left\"></td><td>(1)</td><td>(2)</td><td>(3)</td><td>(4)</td><td>(5)</td></tr><tr><td colspan=\"6\" style=\"border-bottom: 1px solid black\"></td></tr><tr><td style=\"text-align:left\">opening</td><td>-0.302<sup>***</sup></td><td>-0.042<sup></sup></td><td>-0.057<sup></sup></td><td>-0.074<sup></sup></td><td>-0.017<sup></sup></td></tr><tr><td style=\"text-align:left\"></td><td>(0.091)</td><td>(0.060)</td><td>(0.076)</td><td>(0.093)</td><td>(0.060)</td></tr><tr><td style=\"text-align: left\">Covariates</td><td>Yes</td><td>Yes</td><td>Yes</td><td>Yes</td><td>Yes</td></tr><tr><td style=\"text-align: left\">City Fixed Effects</td><td>Yes</td><td>Yes</td><td>Yes</td><td>Yes</td><td>Yes</td></tr><tr><td style=\"text-align: left\">Year Fixed Effects</td><td>Yes</td><td>Yes</td><td>Yes</td><td>Yes</td><td>Yes</td></tr><td colspan=\"6\" style=\"border-bottom: 1px solid black\"></td></tr><tr><td style=\"text-align: left\">Observations</td><td>450</td><td>450</td><td>450</td><td>450</td><td>450</td></tr><tr><td style=\"text-align: left\">R<sup>2</sup></td><td>0.727</td><td>0.794</td><td>0.899</td><td>0.907</td><td>0.957</td></tr><tr><td style=\"text-align: left\">Adjusted R<sup>2</sup></td><td>0.692</td><td>0.767</td><td>0.886</td><td>0.895</td><td>0.952</td></tr><tr><td style=\"text-align: left\">Residual Std. Error</td><td>0.485 (df=397)</td><td>0.449 (df=397)</td><td>0.330 (df=397)</td><td>0.289 (df=397)</td><td>0.165 (df=397)</td></tr><tr><td style=\"text-align: left\">F Statistic</td><td>26.328<sup>***</sup> (df=52; 397)</td><td>65.173<sup>***</sup> (df=52; 397)</td><td>45.273<sup>***</sup> (df=52; 397)</td><td>10.007<sup>***</sup> (df=52; 397)</td><td>252.545<sup>***</sup> (df=52; 397)</td></tr><tr><td colspan=\"6\" style=\"border-bottom: 1px solid black\"></td></tr><tr><td style=\"text-align: left\">Note:</td>\n",
              " <td colspan=\"5\" style=\"text-align: right\">\n",
              "  <sup>*</sup>p&lt;0.1;\n",
              "  <sup>**</sup>p&lt;0.05;\n",
              "  <sup>***</sup>p&lt;0.01\n",
              " </td></tr></table>"
            ],
            "text/plain": [
              "<stargazer.stargazer.Stargazer at 0x7f47f44665c0>"
            ]
          },
          "metadata": {
            "tags": []
          },
          "execution_count": 9
        }
      ]
    },
    {
      "cell_type": "code",
      "metadata": {
        "id": "tiIWOkWXHz4o",
        "outputId": "e0b469a1-e110-4654-984b-10473c2dbc2b",
        "colab": {
          "base_uri": "https://localhost:8080/"
        }
      },
      "source": [
        "import math\n",
        "math.exp(-0.302) - 1 "
      ],
      "execution_count": 10,
      "outputs": [
        {
          "output_type": "execute_result",
          "data": {
            "text/plain": [
              "-0.2606619351104681"
            ]
          },
          "metadata": {
            "tags": []
          },
          "execution_count": 10
        }
      ]
    },
    {
      "cell_type": "markdown",
      "metadata": {
        "id": "_LhtUSOZE5s3"
      },
      "source": [
        "## Exercises"
      ]
    },
    {
      "cell_type": "markdown",
      "metadata": {
        "id": "tx6eyoPl3yWU"
      },
      "source": [
        "1| In the introduction of the paper, Bisschop et al. (2017: 29) state: \"Our study is one of the first to provide causal evidence for the connection between the regulation of prostitution and crime.\" In the discussion section, Bisschop et al. (2017:44) state: \"The opening of a tippelzone with or without a licensing system is correlated with a short-run decrease of 30-40 percent in sexual abuse and rape, and the results are robust to different specifications.\" Why do Bisschop et al. (2017) use the word \"causal\" in the introduction and \"correlated\" in the discussion section? Do you consider the main results of Bisschop et al. (2017) as \"causal\" or \"correlation\"? Justify."
      ]
    },
    {
      "cell_type": "markdown",
      "metadata": {
        "id": "MCiUud-ijFP9"
      },
      "source": [
        "2| Bisschop et al. (2017: 29) state: \"We perform several empirical tests to assess endogenous crime trends around the moment of opening a tippelzone.\" Why do they do that? What is the logic of that? Are there or not endogenous crime trends? Justify and be specific in your answer. "
      ]
    },
    {
      "cell_type": "markdown",
      "metadata": {
        "id": "BkDjoB43t15x"
      },
      "source": [
        "3| Bisschop et al. (2017: 36) state: \"... the time trend $\\mu_t$ is modeled using year fixed effects\". What are the other ways to model the time trend? Write different pieces of code to create time trends under different assumptions. Hint: Remember that this is a Panel Data. A proper code that works in Cross-Sectional Data will create the wrong variable in a Panel Data Structure."
      ]
    },
    {
      "cell_type": "markdown",
      "metadata": {
        "id": "jU9MHjsxy6K2"
      },
      "source": [
        "4| Bisschop et al. (2017: 36) state: \"We use a difference-in-difference specification to study the effect of the presence of a tippelzone on various types of crime.\" What is the key assumption to deploy a difference-in-difference estimator?"
      ]
    },
    {
      "cell_type": "markdown",
      "metadata": {
        "id": "77lK90TzNuVg"
      },
      "source": [
        "5| Replicate the table \"The Impact of Tippelzone on Crime\" without Amsterdam, Rotterdam, and Den Haag. Additionally, replace the variable \"opening\" with the following four variables:\n",
        "\n",
        "i) \"everopenNoReg\": 1 if city $c$ ever has open tippelzone in or before year $t$ which opened without licensing, and 0 otherwise.\n",
        "\n",
        "ii) \"openingRegP\": 1 if city $c$ has open tippelzone and introduced licensing ex-post in or before year $t$, and 0 otherwise.\n",
        "\n",
        "iii) \"openingRegA\": 1 if city $c$ ever has open tippelzone in or before year $t$ which opened with licensing, and 0 otherwise.\n",
        "\n",
        "iv) \"closing\": 1 if city $c$ closes tippelzone in or before year $t$, and 0 otherwise.\n",
        "\n",
        "Interpret the results."
      ]
    },
    {
      "cell_type": "markdown",
      "metadata": {
        "id": "i-MPIny2O8Om"
      },
      "source": [
        "## Reference"
      ]
    },
    {
      "cell_type": "markdown",
      "metadata": {
        "id": "ZOwX1_TNpbMt"
      },
      "source": [
        "Bisschop, Paul, Stephen Kastoryano, and Bas van der Klaauw. (2017). [Street Prostitution Zones and Crime](https://github.com/causal-methods/Papers/raw/master/Street%20Prostitution%20Zones%20and%20Crime.pdf). American Economic Journal: Economic Policy, 9 (4): 28-63.\n",
        "\n"
      ]
    }
  ]
}